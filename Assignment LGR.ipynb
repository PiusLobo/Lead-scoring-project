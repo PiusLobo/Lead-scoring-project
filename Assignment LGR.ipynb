{
 "cells": [
  {
   "cell_type": "markdown",
   "id": "955f4ae4",
   "metadata": {},
   "source": [
    "## Assignment "
   ]
  },
  {
   "cell_type": "code",
   "execution_count": 1,
   "id": "52d6be25",
   "metadata": {},
   "outputs": [],
   "source": [
    "import pandas as pd\n",
    "import numpy as np\n",
    "import matplotlib.pyplot as plt\n",
    "import seaborn as sns\n",
    "\n",
    "from sklearn.cluster import KMeans\n",
    "from sklearn.model_selection import train_test_split\n",
    "from sklearn.preprocessing import StandardScaler\n",
    "import statsmodels.api as sm\n",
    "from sklearn.linear_model import LogisticRegression\n",
    "from sklearn.feature_selection import RFE\n",
    "from statsmodels.stats.outliers_influence import variance_inflation_factor\n",
    "from sklearn import metrics\n",
    "from sklearn.metrics import confusion_matrix\n",
    "from sklearn.metrics import precision_recall_curve\n",
    "from sklearn.metrics import precision_score, recall_score\n",
    "\n",
    "\n",
    "import warnings\n",
    "warnings.filterwarnings('ignore')"
   ]
  },
  {
   "cell_type": "markdown",
   "id": "07125ed7",
   "metadata": {},
   "source": [
    "### Reading and Data Understanding "
   ]
  },
  {
   "cell_type": "code",
   "execution_count": 2,
   "id": "09b7f2bf",
   "metadata": {},
   "outputs": [
    {
     "data": {
      "text/html": [
       "<div>\n",
       "<style scoped>\n",
       "    .dataframe tbody tr th:only-of-type {\n",
       "        vertical-align: middle;\n",
       "    }\n",
       "\n",
       "    .dataframe tbody tr th {\n",
       "        vertical-align: top;\n",
       "    }\n",
       "\n",
       "    .dataframe thead th {\n",
       "        text-align: right;\n",
       "    }\n",
       "</style>\n",
       "<table border=\"1\" class=\"dataframe\">\n",
       "  <thead>\n",
       "    <tr style=\"text-align: right;\">\n",
       "      <th></th>\n",
       "      <th>Prospect ID</th>\n",
       "      <th>Lead Number</th>\n",
       "      <th>Lead Origin</th>\n",
       "      <th>Lead Source</th>\n",
       "      <th>Do Not Email</th>\n",
       "      <th>Do Not Call</th>\n",
       "      <th>Converted</th>\n",
       "      <th>TotalVisits</th>\n",
       "      <th>Total Time Spent on Website</th>\n",
       "      <th>Page Views Per Visit</th>\n",
       "      <th>...</th>\n",
       "      <th>Get updates on DM Content</th>\n",
       "      <th>Lead Profile</th>\n",
       "      <th>City</th>\n",
       "      <th>Asymmetrique Activity Index</th>\n",
       "      <th>Asymmetrique Profile Index</th>\n",
       "      <th>Asymmetrique Activity Score</th>\n",
       "      <th>Asymmetrique Profile Score</th>\n",
       "      <th>I agree to pay the amount through cheque</th>\n",
       "      <th>A free copy of Mastering The Interview</th>\n",
       "      <th>Last Notable Activity</th>\n",
       "    </tr>\n",
       "  </thead>\n",
       "  <tbody>\n",
       "    <tr>\n",
       "      <th>0</th>\n",
       "      <td>7927b2df-8bba-4d29-b9a2-b6e0beafe620</td>\n",
       "      <td>660737</td>\n",
       "      <td>API</td>\n",
       "      <td>Olark Chat</td>\n",
       "      <td>No</td>\n",
       "      <td>No</td>\n",
       "      <td>0</td>\n",
       "      <td>0.0</td>\n",
       "      <td>0</td>\n",
       "      <td>0.0</td>\n",
       "      <td>...</td>\n",
       "      <td>No</td>\n",
       "      <td>Select</td>\n",
       "      <td>Select</td>\n",
       "      <td>02.Medium</td>\n",
       "      <td>02.Medium</td>\n",
       "      <td>15.0</td>\n",
       "      <td>15.0</td>\n",
       "      <td>No</td>\n",
       "      <td>No</td>\n",
       "      <td>Modified</td>\n",
       "    </tr>\n",
       "    <tr>\n",
       "      <th>1</th>\n",
       "      <td>2a272436-5132-4136-86fa-dcc88c88f482</td>\n",
       "      <td>660728</td>\n",
       "      <td>API</td>\n",
       "      <td>Organic Search</td>\n",
       "      <td>No</td>\n",
       "      <td>No</td>\n",
       "      <td>0</td>\n",
       "      <td>5.0</td>\n",
       "      <td>674</td>\n",
       "      <td>2.5</td>\n",
       "      <td>...</td>\n",
       "      <td>No</td>\n",
       "      <td>Select</td>\n",
       "      <td>Select</td>\n",
       "      <td>02.Medium</td>\n",
       "      <td>02.Medium</td>\n",
       "      <td>15.0</td>\n",
       "      <td>15.0</td>\n",
       "      <td>No</td>\n",
       "      <td>No</td>\n",
       "      <td>Email Opened</td>\n",
       "    </tr>\n",
       "    <tr>\n",
       "      <th>2</th>\n",
       "      <td>8cc8c611-a219-4f35-ad23-fdfd2656bd8a</td>\n",
       "      <td>660727</td>\n",
       "      <td>Landing Page Submission</td>\n",
       "      <td>Direct Traffic</td>\n",
       "      <td>No</td>\n",
       "      <td>No</td>\n",
       "      <td>1</td>\n",
       "      <td>2.0</td>\n",
       "      <td>1532</td>\n",
       "      <td>2.0</td>\n",
       "      <td>...</td>\n",
       "      <td>No</td>\n",
       "      <td>Potential Lead</td>\n",
       "      <td>Mumbai</td>\n",
       "      <td>02.Medium</td>\n",
       "      <td>01.High</td>\n",
       "      <td>14.0</td>\n",
       "      <td>20.0</td>\n",
       "      <td>No</td>\n",
       "      <td>Yes</td>\n",
       "      <td>Email Opened</td>\n",
       "    </tr>\n",
       "    <tr>\n",
       "      <th>3</th>\n",
       "      <td>0cc2df48-7cf4-4e39-9de9-19797f9b38cc</td>\n",
       "      <td>660719</td>\n",
       "      <td>Landing Page Submission</td>\n",
       "      <td>Direct Traffic</td>\n",
       "      <td>No</td>\n",
       "      <td>No</td>\n",
       "      <td>0</td>\n",
       "      <td>1.0</td>\n",
       "      <td>305</td>\n",
       "      <td>1.0</td>\n",
       "      <td>...</td>\n",
       "      <td>No</td>\n",
       "      <td>Select</td>\n",
       "      <td>Mumbai</td>\n",
       "      <td>02.Medium</td>\n",
       "      <td>01.High</td>\n",
       "      <td>13.0</td>\n",
       "      <td>17.0</td>\n",
       "      <td>No</td>\n",
       "      <td>No</td>\n",
       "      <td>Modified</td>\n",
       "    </tr>\n",
       "    <tr>\n",
       "      <th>4</th>\n",
       "      <td>3256f628-e534-4826-9d63-4a8b88782852</td>\n",
       "      <td>660681</td>\n",
       "      <td>Landing Page Submission</td>\n",
       "      <td>Google</td>\n",
       "      <td>No</td>\n",
       "      <td>No</td>\n",
       "      <td>1</td>\n",
       "      <td>2.0</td>\n",
       "      <td>1428</td>\n",
       "      <td>1.0</td>\n",
       "      <td>...</td>\n",
       "      <td>No</td>\n",
       "      <td>Select</td>\n",
       "      <td>Mumbai</td>\n",
       "      <td>02.Medium</td>\n",
       "      <td>01.High</td>\n",
       "      <td>15.0</td>\n",
       "      <td>18.0</td>\n",
       "      <td>No</td>\n",
       "      <td>No</td>\n",
       "      <td>Modified</td>\n",
       "    </tr>\n",
       "  </tbody>\n",
       "</table>\n",
       "<p>5 rows × 37 columns</p>\n",
       "</div>"
      ],
      "text/plain": [
       "                            Prospect ID  Lead Number              Lead Origin  \\\n",
       "0  7927b2df-8bba-4d29-b9a2-b6e0beafe620       660737                      API   \n",
       "1  2a272436-5132-4136-86fa-dcc88c88f482       660728                      API   \n",
       "2  8cc8c611-a219-4f35-ad23-fdfd2656bd8a       660727  Landing Page Submission   \n",
       "3  0cc2df48-7cf4-4e39-9de9-19797f9b38cc       660719  Landing Page Submission   \n",
       "4  3256f628-e534-4826-9d63-4a8b88782852       660681  Landing Page Submission   \n",
       "\n",
       "      Lead Source Do Not Email Do Not Call  Converted  TotalVisits  \\\n",
       "0      Olark Chat           No          No          0          0.0   \n",
       "1  Organic Search           No          No          0          5.0   \n",
       "2  Direct Traffic           No          No          1          2.0   \n",
       "3  Direct Traffic           No          No          0          1.0   \n",
       "4          Google           No          No          1          2.0   \n",
       "\n",
       "   Total Time Spent on Website  Page Views Per Visit  ...  \\\n",
       "0                            0                   0.0  ...   \n",
       "1                          674                   2.5  ...   \n",
       "2                         1532                   2.0  ...   \n",
       "3                          305                   1.0  ...   \n",
       "4                         1428                   1.0  ...   \n",
       "\n",
       "  Get updates on DM Content    Lead Profile    City  \\\n",
       "0                        No          Select  Select   \n",
       "1                        No          Select  Select   \n",
       "2                        No  Potential Lead  Mumbai   \n",
       "3                        No          Select  Mumbai   \n",
       "4                        No          Select  Mumbai   \n",
       "\n",
       "  Asymmetrique Activity Index Asymmetrique Profile Index  \\\n",
       "0                   02.Medium                  02.Medium   \n",
       "1                   02.Medium                  02.Medium   \n",
       "2                   02.Medium                    01.High   \n",
       "3                   02.Medium                    01.High   \n",
       "4                   02.Medium                    01.High   \n",
       "\n",
       "  Asymmetrique Activity Score Asymmetrique Profile Score  \\\n",
       "0                        15.0                       15.0   \n",
       "1                        15.0                       15.0   \n",
       "2                        14.0                       20.0   \n",
       "3                        13.0                       17.0   \n",
       "4                        15.0                       18.0   \n",
       "\n",
       "  I agree to pay the amount through cheque  \\\n",
       "0                                       No   \n",
       "1                                       No   \n",
       "2                                       No   \n",
       "3                                       No   \n",
       "4                                       No   \n",
       "\n",
       "  A free copy of Mastering The Interview Last Notable Activity  \n",
       "0                                     No              Modified  \n",
       "1                                     No          Email Opened  \n",
       "2                                    Yes          Email Opened  \n",
       "3                                     No              Modified  \n",
       "4                                     No              Modified  \n",
       "\n",
       "[5 rows x 37 columns]"
      ]
     },
     "execution_count": 2,
     "metadata": {},
     "output_type": "execute_result"
    }
   ],
   "source": [
    "df = pd.read_csv(\"Leads.csv\")\n",
    "df.head()"
   ]
  },
  {
   "cell_type": "code",
   "execution_count": 3,
   "id": "46944b19",
   "metadata": {},
   "outputs": [
    {
     "data": {
      "text/plain": [
       "(9240, 37)"
      ]
     },
     "execution_count": 3,
     "metadata": {},
     "output_type": "execute_result"
    }
   ],
   "source": [
    "df.shape"
   ]
  },
  {
   "cell_type": "code",
   "execution_count": 4,
   "id": "5eef18ea",
   "metadata": {},
   "outputs": [
    {
     "name": "stdout",
     "output_type": "stream",
     "text": [
      "<class 'pandas.core.frame.DataFrame'>\n",
      "RangeIndex: 9240 entries, 0 to 9239\n",
      "Data columns (total 37 columns):\n",
      " #   Column                                         Non-Null Count  Dtype  \n",
      "---  ------                                         --------------  -----  \n",
      " 0   Prospect ID                                    9240 non-null   object \n",
      " 1   Lead Number                                    9240 non-null   int64  \n",
      " 2   Lead Origin                                    9240 non-null   object \n",
      " 3   Lead Source                                    9204 non-null   object \n",
      " 4   Do Not Email                                   9240 non-null   object \n",
      " 5   Do Not Call                                    9240 non-null   object \n",
      " 6   Converted                                      9240 non-null   int64  \n",
      " 7   TotalVisits                                    9103 non-null   float64\n",
      " 8   Total Time Spent on Website                    9240 non-null   int64  \n",
      " 9   Page Views Per Visit                           9103 non-null   float64\n",
      " 10  Last Activity                                  9137 non-null   object \n",
      " 11  Country                                        6779 non-null   object \n",
      " 12  Specialization                                 7802 non-null   object \n",
      " 13  How did you hear about X Education             7033 non-null   object \n",
      " 14  What is your current occupation                6550 non-null   object \n",
      " 15  What matters most to you in choosing a course  6531 non-null   object \n",
      " 16  Search                                         9240 non-null   object \n",
      " 17  Magazine                                       9240 non-null   object \n",
      " 18  Newspaper Article                              9240 non-null   object \n",
      " 19  X Education Forums                             9240 non-null   object \n",
      " 20  Newspaper                                      9240 non-null   object \n",
      " 21  Digital Advertisement                          9240 non-null   object \n",
      " 22  Through Recommendations                        9240 non-null   object \n",
      " 23  Receive More Updates About Our Courses         9240 non-null   object \n",
      " 24  Tags                                           5887 non-null   object \n",
      " 25  Lead Quality                                   4473 non-null   object \n",
      " 26  Update me on Supply Chain Content              9240 non-null   object \n",
      " 27  Get updates on DM Content                      9240 non-null   object \n",
      " 28  Lead Profile                                   6531 non-null   object \n",
      " 29  City                                           7820 non-null   object \n",
      " 30  Asymmetrique Activity Index                    5022 non-null   object \n",
      " 31  Asymmetrique Profile Index                     5022 non-null   object \n",
      " 32  Asymmetrique Activity Score                    5022 non-null   float64\n",
      " 33  Asymmetrique Profile Score                     5022 non-null   float64\n",
      " 34  I agree to pay the amount through cheque       9240 non-null   object \n",
      " 35  A free copy of Mastering The Interview         9240 non-null   object \n",
      " 36  Last Notable Activity                          9240 non-null   object \n",
      "dtypes: float64(4), int64(3), object(30)\n",
      "memory usage: 2.6+ MB\n"
     ]
    }
   ],
   "source": [
    "df.info()"
   ]
  },
  {
   "cell_type": "code",
   "execution_count": 5,
   "id": "f77aa88d",
   "metadata": {},
   "outputs": [
    {
     "data": {
      "text/plain": [
       "0"
      ]
     },
     "execution_count": 5,
     "metadata": {},
     "output_type": "execute_result"
    }
   ],
   "source": [
    "df.duplicated().sum()"
   ]
  },
  {
   "cell_type": "code",
   "execution_count": 6,
   "id": "b91b513e",
   "metadata": {},
   "outputs": [],
   "source": [
    "df = df.replace('Select', np.nan)"
   ]
  },
  {
   "cell_type": "markdown",
   "id": "5e0a682d",
   "metadata": {},
   "source": [
    "#### Data Cleaning"
   ]
  },
  {
   "cell_type": "code",
   "execution_count": 7,
   "id": "24140e4e",
   "metadata": {},
   "outputs": [
    {
     "data": {
      "text/plain": [
       "Prospect ID                                       0.000000\n",
       "Lead Number                                       0.000000\n",
       "Lead Origin                                       0.000000\n",
       "Lead Source                                       0.389610\n",
       "Do Not Email                                      0.000000\n",
       "Do Not Call                                       0.000000\n",
       "Converted                                         0.000000\n",
       "TotalVisits                                       1.482684\n",
       "Total Time Spent on Website                       0.000000\n",
       "Page Views Per Visit                              1.482684\n",
       "Last Activity                                     1.114719\n",
       "Country                                          26.634199\n",
       "Specialization                                   36.580087\n",
       "How did you hear about X Education               78.463203\n",
       "What is your current occupation                  29.112554\n",
       "What matters most to you in choosing a course    29.318182\n",
       "Search                                            0.000000\n",
       "Magazine                                          0.000000\n",
       "Newspaper Article                                 0.000000\n",
       "X Education Forums                                0.000000\n",
       "Newspaper                                         0.000000\n",
       "Digital Advertisement                             0.000000\n",
       "Through Recommendations                           0.000000\n",
       "Receive More Updates About Our Courses            0.000000\n",
       "Tags                                             36.287879\n",
       "Lead Quality                                     51.590909\n",
       "Update me on Supply Chain Content                 0.000000\n",
       "Get updates on DM Content                         0.000000\n",
       "Lead Profile                                     74.188312\n",
       "City                                             39.707792\n",
       "Asymmetrique Activity Index                      45.649351\n",
       "Asymmetrique Profile Index                       45.649351\n",
       "Asymmetrique Activity Score                      45.649351\n",
       "Asymmetrique Profile Score                       45.649351\n",
       "I agree to pay the amount through cheque          0.000000\n",
       "A free copy of Mastering The Interview            0.000000\n",
       "Last Notable Activity                             0.000000\n",
       "dtype: float64"
      ]
     },
     "execution_count": 7,
     "metadata": {},
     "output_type": "execute_result"
    }
   ],
   "source": [
    "(df.isnull().sum()/ df.shape[0] )*100"
   ]
  },
  {
   "cell_type": "code",
   "execution_count": 8,
   "id": "a473c719",
   "metadata": {},
   "outputs": [],
   "source": [
    "df.drop(['Prospect ID','Lead Number','How did you hear about X Education','Lead Quality', 'Lead Profile', 'Tags','Asymmetrique Activity Index', 'Asymmetrique Profile Index', 'Asymmetrique Activity Score','Asymmetrique Profile Score', 'Last Notable Activity', 'A free copy of Mastering The Interview'],axis= 1,inplace= True)\n"
   ]
  },
  {
   "cell_type": "code",
   "execution_count": 9,
   "id": "079012e9",
   "metadata": {},
   "outputs": [
    {
     "data": {
      "text/html": [
       "<div>\n",
       "<style scoped>\n",
       "    .dataframe tbody tr th:only-of-type {\n",
       "        vertical-align: middle;\n",
       "    }\n",
       "\n",
       "    .dataframe tbody tr th {\n",
       "        vertical-align: top;\n",
       "    }\n",
       "\n",
       "    .dataframe thead th {\n",
       "        text-align: right;\n",
       "    }\n",
       "</style>\n",
       "<table border=\"1\" class=\"dataframe\">\n",
       "  <thead>\n",
       "    <tr style=\"text-align: right;\">\n",
       "      <th></th>\n",
       "      <th>Lead Origin</th>\n",
       "      <th>Lead Source</th>\n",
       "      <th>Do Not Email</th>\n",
       "      <th>Do Not Call</th>\n",
       "      <th>Converted</th>\n",
       "      <th>TotalVisits</th>\n",
       "      <th>Total Time Spent on Website</th>\n",
       "      <th>Page Views Per Visit</th>\n",
       "      <th>Last Activity</th>\n",
       "      <th>Country</th>\n",
       "      <th>...</th>\n",
       "      <th>Newspaper Article</th>\n",
       "      <th>X Education Forums</th>\n",
       "      <th>Newspaper</th>\n",
       "      <th>Digital Advertisement</th>\n",
       "      <th>Through Recommendations</th>\n",
       "      <th>Receive More Updates About Our Courses</th>\n",
       "      <th>Update me on Supply Chain Content</th>\n",
       "      <th>Get updates on DM Content</th>\n",
       "      <th>City</th>\n",
       "      <th>I agree to pay the amount through cheque</th>\n",
       "    </tr>\n",
       "  </thead>\n",
       "  <tbody>\n",
       "    <tr>\n",
       "      <th>0</th>\n",
       "      <td>API</td>\n",
       "      <td>Olark Chat</td>\n",
       "      <td>No</td>\n",
       "      <td>No</td>\n",
       "      <td>0</td>\n",
       "      <td>0.0</td>\n",
       "      <td>0</td>\n",
       "      <td>0.0</td>\n",
       "      <td>Page Visited on Website</td>\n",
       "      <td>NaN</td>\n",
       "      <td>...</td>\n",
       "      <td>No</td>\n",
       "      <td>No</td>\n",
       "      <td>No</td>\n",
       "      <td>No</td>\n",
       "      <td>No</td>\n",
       "      <td>No</td>\n",
       "      <td>No</td>\n",
       "      <td>No</td>\n",
       "      <td>NaN</td>\n",
       "      <td>No</td>\n",
       "    </tr>\n",
       "    <tr>\n",
       "      <th>1</th>\n",
       "      <td>API</td>\n",
       "      <td>Organic Search</td>\n",
       "      <td>No</td>\n",
       "      <td>No</td>\n",
       "      <td>0</td>\n",
       "      <td>5.0</td>\n",
       "      <td>674</td>\n",
       "      <td>2.5</td>\n",
       "      <td>Email Opened</td>\n",
       "      <td>India</td>\n",
       "      <td>...</td>\n",
       "      <td>No</td>\n",
       "      <td>No</td>\n",
       "      <td>No</td>\n",
       "      <td>No</td>\n",
       "      <td>No</td>\n",
       "      <td>No</td>\n",
       "      <td>No</td>\n",
       "      <td>No</td>\n",
       "      <td>NaN</td>\n",
       "      <td>No</td>\n",
       "    </tr>\n",
       "  </tbody>\n",
       "</table>\n",
       "<p>2 rows × 25 columns</p>\n",
       "</div>"
      ],
      "text/plain": [
       "  Lead Origin     Lead Source Do Not Email Do Not Call  Converted  \\\n",
       "0         API      Olark Chat           No          No          0   \n",
       "1         API  Organic Search           No          No          0   \n",
       "\n",
       "   TotalVisits  Total Time Spent on Website  Page Views Per Visit  \\\n",
       "0          0.0                            0                   0.0   \n",
       "1          5.0                          674                   2.5   \n",
       "\n",
       "             Last Activity Country  ... Newspaper Article X Education Forums  \\\n",
       "0  Page Visited on Website     NaN  ...                No                 No   \n",
       "1             Email Opened   India  ...                No                 No   \n",
       "\n",
       "  Newspaper Digital Advertisement Through Recommendations  \\\n",
       "0        No                    No                      No   \n",
       "1        No                    No                      No   \n",
       "\n",
       "  Receive More Updates About Our Courses Update me on Supply Chain Content  \\\n",
       "0                                     No                                No   \n",
       "1                                     No                                No   \n",
       "\n",
       "  Get updates on DM Content City I agree to pay the amount through cheque  \n",
       "0                        No  NaN                                       No  \n",
       "1                        No  NaN                                       No  \n",
       "\n",
       "[2 rows x 25 columns]"
      ]
     },
     "execution_count": 9,
     "metadata": {},
     "output_type": "execute_result"
    }
   ],
   "source": [
    "df.head(2)"
   ]
  },
  {
   "cell_type": "code",
   "execution_count": null,
   "id": "2846086b",
   "metadata": {},
   "outputs": [],
   "source": []
  },
  {
   "cell_type": "code",
   "execution_count": 10,
   "id": "70147084",
   "metadata": {},
   "outputs": [],
   "source": [
    "df.rename(columns= { 'What is your current occupation':'occupation',\n",
    "                    'Total Time Spent on Website':'time_on_website',\n",
    "                    'age Views Per Visit':'Page_Views_Per_Visit',\n",
    "                    'what_is_your_current_occupation': 'occupation',\n",
    "                    'What matters most to you in choosing a course' : 'course_selection_reason',\n",
    "                    'Receive More Updates About Our Courses':'courses_updates',\n",
    "                    'Update me on Supply Chain Content': 'supply_chain_content_updates',\n",
    "                    'Get updates on DM Content':'dm_content_updates', \n",
    "                    'I agree to pay the amount through cheque' : 'mastering_interview'},inplace= True )"
   ]
  },
  {
   "cell_type": "code",
   "execution_count": 11,
   "id": "b29a4ede",
   "metadata": {},
   "outputs": [
    {
     "data": {
      "text/plain": [
       "Lead Origin                      0.000000\n",
       "Lead Source                      0.389610\n",
       "Do Not Email                     0.000000\n",
       "Do Not Call                      0.000000\n",
       "Converted                        0.000000\n",
       "TotalVisits                      1.482684\n",
       "time_on_website                  0.000000\n",
       "Page Views Per Visit             1.482684\n",
       "Last Activity                    1.114719\n",
       "Country                         26.634199\n",
       "Specialization                  36.580087\n",
       "occupation                      29.112554\n",
       "course_selection_reason         29.318182\n",
       "Search                           0.000000\n",
       "Magazine                         0.000000\n",
       "Newspaper Article                0.000000\n",
       "X Education Forums               0.000000\n",
       "Newspaper                        0.000000\n",
       "Digital Advertisement            0.000000\n",
       "Through Recommendations          0.000000\n",
       "courses_updates                  0.000000\n",
       "supply_chain_content_updates     0.000000\n",
       "dm_content_updates               0.000000\n",
       "City                            39.707792\n",
       "mastering_interview              0.000000\n",
       "dtype: float64"
      ]
     },
     "execution_count": 11,
     "metadata": {},
     "output_type": "execute_result"
    }
   ],
   "source": [
    "(df.isnull().sum()/ df.shape[0] )*100"
   ]
  },
  {
   "cell_type": "markdown",
   "id": "b71747dd",
   "metadata": {},
   "source": [
    "#### Categorical Attributes check"
   ]
  },
  {
   "cell_type": "code",
   "execution_count": 12,
   "id": "74f5ec73",
   "metadata": {},
   "outputs": [
    {
     "data": {
      "text/plain": [
       "India                   95.766337\n",
       "United States            1.017849\n",
       "United Arab Emirates     0.781826\n",
       "Singapore                0.354035\n",
       "Saudi Arabia             0.309780\n",
       "United Kingdom           0.221272\n",
       "Australia                0.191769\n",
       "Qatar                    0.147514\n",
       "Hong Kong                0.103260\n",
       "Bahrain                  0.103260\n",
       "Oman                     0.088509\n",
       "France                   0.088509\n",
       "unknown                  0.073757\n",
       "South Africa             0.059006\n",
       "Nigeria                  0.059006\n",
       "Germany                  0.059006\n",
       "Kuwait                   0.059006\n",
       "Canada                   0.059006\n",
       "Sweden                   0.044254\n",
       "China                    0.029503\n",
       "Asia/Pacific Region      0.029503\n",
       "Uganda                   0.029503\n",
       "Bangladesh               0.029503\n",
       "Italy                    0.029503\n",
       "Belgium                  0.029503\n",
       "Netherlands              0.029503\n",
       "Ghana                    0.029503\n",
       "Philippines              0.029503\n",
       "Russia                   0.014751\n",
       "Switzerland              0.014751\n",
       "Vietnam                  0.014751\n",
       "Denmark                  0.014751\n",
       "Tanzania                 0.014751\n",
       "Liberia                  0.014751\n",
       "Malaysia                 0.014751\n",
       "Kenya                    0.014751\n",
       "Sri Lanka                0.014751\n",
       "Indonesia                0.014751\n",
       "Name: Country, dtype: float64"
      ]
     },
     "execution_count": 12,
     "metadata": {},
     "output_type": "execute_result"
    }
   ],
   "source": [
    "df.Country.value_counts(normalize= True)*100"
   ]
  },
  {
   "cell_type": "code",
   "execution_count": 13,
   "id": "2997b31b",
   "metadata": {},
   "outputs": [
    {
     "data": {
      "image/png": "[encoded data removed]",
      "text/plain": [
       "<Figure size 1080x432 with 1 Axes>"
      ]
     },
     "metadata": {
      "needs_background": "light"
     },
     "output_type": "display_data"
    }
   ],
   "source": [
    "plt.figure(figsize=[15,6])\n",
    "s1 = sns.countplot(df.Country,hue=df.Converted)\n",
    "s1.set_xticklabels(s1.get_xticklabels(),rotation=90)\n",
    "plt.show()"
   ]
  },
  {
   "cell_type": "code",
   "execution_count": 14,
   "id": "7cfb10ab",
   "metadata": {},
   "outputs": [],
   "source": [
    "df.Country  = df.Country.replace(np.nan,\"India\")"
   ]
  },
  {
   "cell_type": "code",
   "execution_count": 15,
   "id": "0d1e7871",
   "metadata": {},
   "outputs": [
    {
     "data": {
      "image/png": "[encoded data removed]",
      "text/plain": [
       "<Figure size 1080x432 with 1 Axes>"
      ]
     },
     "metadata": {
      "needs_background": "light"
     },
     "output_type": "display_data"
    }
   ],
   "source": [
    "plt.figure(figsize=[15,6])\n",
    "s1 = sns.countplot(df.Country,hue=df.Converted)\n",
    "s1.set_xticklabels(s1.get_xticklabels(),rotation=90)\n",
    "plt.show()"
   ]
  },
  {
   "cell_type": "code",
   "execution_count": 16,
   "id": "a63ed6c1",
   "metadata": {},
   "outputs": [
    {
     "data": {
      "text/plain": [
       "India                   97.0\n",
       "United States            1.0\n",
       "United Arab Emirates     1.0\n",
       "Singapore                0.0\n",
       "Saudi Arabia             0.0\n",
       "United Kingdom           0.0\n",
       "Australia                0.0\n",
       "Qatar                    0.0\n",
       "Hong Kong                0.0\n",
       "Bahrain                  0.0\n",
       "Oman                     0.0\n",
       "France                   0.0\n",
       "unknown                  0.0\n",
       "South Africa             0.0\n",
       "Nigeria                  0.0\n",
       "Germany                  0.0\n",
       "Kuwait                   0.0\n",
       "Canada                   0.0\n",
       "Sweden                   0.0\n",
       "China                    0.0\n",
       "Asia/Pacific Region      0.0\n",
       "Uganda                   0.0\n",
       "Bangladesh               0.0\n",
       "Italy                    0.0\n",
       "Belgium                  0.0\n",
       "Netherlands              0.0\n",
       "Ghana                    0.0\n",
       "Philippines              0.0\n",
       "Russia                   0.0\n",
       "Switzerland              0.0\n",
       "Vietnam                  0.0\n",
       "Denmark                  0.0\n",
       "Tanzania                 0.0\n",
       "Liberia                  0.0\n",
       "Malaysia                 0.0\n",
       "Kenya                    0.0\n",
       "Sri Lanka                0.0\n",
       "Indonesia                0.0\n",
       "Name: Country, dtype: float64"
      ]
     },
     "execution_count": 16,
     "metadata": {},
     "output_type": "execute_result"
    }
   ],
   "source": [
    "round (df.Country.value_counts(normalize= True)*100)"
   ]
  },
  {
   "cell_type": "code",
   "execution_count": 17,
   "id": "4b478572",
   "metadata": {},
   "outputs": [],
   "source": [
    "df.drop('Country',axis=1,inplace=True)"
   ]
  },
  {
   "cell_type": "code",
   "execution_count": 18,
   "id": "8f68a879",
   "metadata": {},
   "outputs": [
    {
     "data": {
      "text/plain": [
       "NaN                            3669\n",
       "Mumbai                         3222\n",
       "Thane & Outskirts               752\n",
       "Other Cities                    686\n",
       "Other Cities of Maharashtra     457\n",
       "Other Metro Cities              380\n",
       "Tier II Cities                   74\n",
       "Name: City, dtype: int64"
      ]
     },
     "execution_count": 18,
     "metadata": {},
     "output_type": "execute_result"
    }
   ],
   "source": [
    "# City\n",
    "df.City.value_counts(dropna= False)"
   ]
  },
  {
   "cell_type": "code",
   "execution_count": 19,
   "id": "b4490363",
   "metadata": {},
   "outputs": [],
   "source": [
    "df.City = df.City.replace(np.nan,\"Mumbai\" )"
   ]
  },
  {
   "cell_type": "code",
   "execution_count": 20,
   "id": "b4c8f7bf",
   "metadata": {},
   "outputs": [
    {
     "data": {
      "text/plain": [
       "<AxesSubplot:xlabel='City', ylabel='count'>"
      ]
     },
     "execution_count": 20,
     "metadata": {},
     "output_type": "execute_result"
    },
    {
     "data": {
      "image/png": "[encoded data removed]",
      "text/plain": [
       "<Figure size 1080x360 with 1 Axes>"
      ]
     },
     "metadata": {
      "needs_background": "light"
     },
     "output_type": "display_data"
    }
   ],
   "source": [
    "plt.figure(figsize=[15,5])\n",
    "sns.countplot(df.City,hue=df.Converted)"
   ]
  },
  {
   "cell_type": "code",
   "execution_count": 21,
   "id": "a62fb31d",
   "metadata": {},
   "outputs": [],
   "source": [
    "df.City = df.City.replace(['Tier II Cities'],'Other Cities')"
   ]
  },
  {
   "cell_type": "code",
   "execution_count": 22,
   "id": "ae7654bd",
   "metadata": {},
   "outputs": [
    {
     "data": {
      "text/plain": [
       "Unemployed              5600\n",
       "NaN                     2690\n",
       "Working Professional     706\n",
       "Student                  210\n",
       "Other                     16\n",
       "Housewife                 10\n",
       "Businessman                8\n",
       "Name: occupation, dtype: int64"
      ]
     },
     "execution_count": 22,
     "metadata": {},
     "output_type": "execute_result"
    }
   ],
   "source": [
    "# Occupation\n",
    "df.occupation.value_counts(dropna=False)"
   ]
  },
  {
   "cell_type": "code",
   "execution_count": 23,
   "id": "aad2588c",
   "metadata": {},
   "outputs": [],
   "source": [
    "df.occupation = df.occupation.replace(np.nan,'Unemployed')\n",
    "df.occupation = df.occupation.replace(['Housewife','Businessman'],'Other')"
   ]
  },
  {
   "cell_type": "code",
   "execution_count": 24,
   "id": "91755a78",
   "metadata": {},
   "outputs": [
    {
     "data": {
      "text/plain": [
       "<AxesSubplot:xlabel='occupation', ylabel='count'>"
      ]
     },
     "execution_count": 24,
     "metadata": {},
     "output_type": "execute_result"
    },
    {
     "data": {
      "image/png": "[encoded data removed]",
      "text/plain": [
       "<Figure size 1080x360 with 1 Axes>"
      ]
     },
     "metadata": {
      "needs_background": "light"
     },
     "output_type": "display_data"
    }
   ],
   "source": [
    "plt.figure(figsize=[15,5])\n",
    "sns.countplot(df.occupation,hue=df.Converted)"
   ]
  },
  {
   "cell_type": "code",
   "execution_count": 25,
   "id": "0dd19857",
   "metadata": {},
   "outputs": [
    {
     "data": {
      "text/plain": [
       "Better Career Prospects      6528\n",
       "NaN                          2709\n",
       "Flexibility & Convenience       2\n",
       "Other                           1\n",
       "Name: course_selection_reason, dtype: int64"
      ]
     },
     "execution_count": 25,
     "metadata": {},
     "output_type": "execute_result"
    }
   ],
   "source": [
    "# course_selection_reason\n",
    "df.course_selection_reason.value_counts(dropna=False)"
   ]
  },
  {
   "cell_type": "code",
   "execution_count": 26,
   "id": "86b42091",
   "metadata": {},
   "outputs": [],
   "source": [
    "df.course_selection_reason = df.course_selection_reason.replace(np.nan, \"Better Career Prospects\")"
   ]
  },
  {
   "cell_type": "code",
   "execution_count": 27,
   "id": "dddeea89",
   "metadata": {},
   "outputs": [
    {
     "data": {
      "text/plain": [
       "<AxesSubplot:xlabel='course_selection_reason', ylabel='count'>"
      ]
     },
     "execution_count": 27,
     "metadata": {},
     "output_type": "execute_result"
    },
    {
     "data": {
      "image/png": "[encoded data removed]",
      "text/plain": [
       "<Figure size 720x360 with 1 Axes>"
      ]
     },
     "metadata": {
      "needs_background": "light"
     },
     "output_type": "display_data"
    }
   ],
   "source": [
    "plt.figure(figsize=[10,5])\n",
    "sns.countplot(df.course_selection_reason,hue=df.Converted)"
   ]
  },
  {
   "cell_type": "code",
   "execution_count": 28,
   "id": "d840c7d1",
   "metadata": {},
   "outputs": [],
   "source": [
    "df.drop('course_selection_reason',axis=1,inplace= True)"
   ]
  },
  {
   "cell_type": "code",
   "execution_count": 29,
   "id": "a8c6893a",
   "metadata": {},
   "outputs": [
    {
     "data": {
      "text/plain": [
       "NaN                                  3380\n",
       "Finance Management                    976\n",
       "Human Resource Management             848\n",
       "Marketing Management                  838\n",
       "Operations Management                 503\n",
       "Business Administration               403\n",
       "IT Projects Management                366\n",
       "Supply Chain Management               349\n",
       "Banking, Investment And Insurance     338\n",
       "Travel and Tourism                    203\n",
       "Media and Advertising                 203\n",
       "International Business                178\n",
       "Healthcare Management                 159\n",
       "Hospitality Management                114\n",
       "E-COMMERCE                            112\n",
       "Retail Management                     100\n",
       "Rural and Agribusiness                 73\n",
       "E-Business                             57\n",
       "Services Excellence                    40\n",
       "Name: Specialization, dtype: int64"
      ]
     },
     "execution_count": 29,
     "metadata": {},
     "output_type": "execute_result"
    }
   ],
   "source": [
    "# Specialization\n",
    "df.Specialization.value_counts(dropna= False)"
   ]
  },
  {
   "cell_type": "code",
   "execution_count": 30,
   "id": "81a28fea",
   "metadata": {},
   "outputs": [
    {
     "data": {
      "image/png": "[encoded data removed]",
      "text/plain": [
       "<Figure size 720x360 with 1 Axes>"
      ]
     },
     "metadata": {
      "needs_background": "light"
     },
     "output_type": "display_data"
    }
   ],
   "source": [
    "plt.figure(figsize= [10,5])\n",
    "s1 = sns.countplot(df.Specialization , hue=df.Converted)\n",
    "s1.set_xticklabels(s1.get_xticklabels(),rotation=90)\n",
    "plt.show()"
   ]
  },
  {
   "cell_type": "code",
   "execution_count": 31,
   "id": "d0561cd4",
   "metadata": {},
   "outputs": [],
   "source": [
    "df.Specialization = df.Specialization.replace(np.nan,\"Not_Specified \")\n",
    "df.Specialization = df.Specialization.replace(['Finance Management','Human Resource Management',\n",
    "                                                           'Marketing Management','Operations Management',\n",
    "                                                           'IT Projects Management','Supply Chain Management',\n",
    "                                                    'Healthcare Management','Hospitality Management',\n",
    "                                                           'Retail Management'] ,'Management_Specializations')\n",
    "\n"
   ]
  },
  {
   "cell_type": "code",
   "execution_count": 32,
   "id": "01cbbd5c",
   "metadata": {},
   "outputs": [
    {
     "data": {
      "image/png": "[encoded data removed]",
      "text/plain": [
       "<Figure size 720x360 with 1 Axes>"
      ]
     },
     "metadata": {
      "needs_background": "light"
     },
     "output_type": "display_data"
    }
   ],
   "source": [
    "plt.figure(figsize= [10,5])\n",
    "s1 = sns.countplot(df.Specialization , hue=df.Converted)\n",
    "s1.set_xticklabels(s1.get_xticklabels(),rotation=90)\n",
    "plt.show()"
   ]
  },
  {
   "cell_type": "code",
   "execution_count": 33,
   "id": "67f3e374",
   "metadata": {},
   "outputs": [
    {
     "data": {
      "text/plain": [
       "Email Opened                    3437\n",
       "SMS Sent                        2745\n",
       "Olark Chat Conversation          973\n",
       "Page Visited on Website          640\n",
       "Converted to Lead                428\n",
       "Email Bounced                    326\n",
       "Email Link Clicked               267\n",
       "Form Submitted on Website        116\n",
       "NaN                              103\n",
       "Unreachable                       93\n",
       "Unsubscribed                      61\n",
       "Had a Phone Conversation          30\n",
       "Approached upfront                 9\n",
       "View in browser link Clicked       6\n",
       "Email Received                     2\n",
       "Email Marked Spam                  2\n",
       "Visited Booth in Tradeshow         1\n",
       "Resubscribed to emails             1\n",
       "Name: Last Activity, dtype: int64"
      ]
     },
     "execution_count": 33,
     "metadata": {},
     "output_type": "execute_result"
    }
   ],
   "source": [
    "# Last Activity\n",
    "df['Last Activity'].value_counts(dropna=False)"
   ]
  },
  {
   "cell_type": "code",
   "execution_count": 34,
   "id": "bad7d229",
   "metadata": {},
   "outputs": [],
   "source": [
    "df['Last Activity'] = df['Last Activity'].replace((np.nan, 'Others'))\n",
    "\n",
    "df['Last Activity'] = df['Last Activity'].replace(['Unreachable','Unsubscribed',\n",
    "                                                        'Had a Phone Conversation', \n",
    "                                                        'Approached upfront',\n",
    "                                                        'View in browser link Clicked',       \n",
    "                                                        'Email Marked Spam',                  \n",
    "                                                        'Email Received','Resubscribed to emails',\n",
    "                                                         'Visited Booth in Tradeshow'],'Others')"
   ]
  },
  {
   "cell_type": "code",
   "execution_count": 35,
   "id": "99f22ed7",
   "metadata": {},
   "outputs": [
    {
     "data": {
      "text/plain": [
       "Email Opened                 3485\n",
       "SMS Sent                     2775\n",
       "Olark Chat Conversation       981\n",
       "Page Visited on Website       646\n",
       "Converted to Lead             432\n",
       "Email Bounced                 329\n",
       "Email Link Clicked            269\n",
       "Others                        205\n",
       "Form Submitted on Website     118\n",
       "Name: Last Activity, dtype: int64"
      ]
     },
     "execution_count": 35,
     "metadata": {},
     "output_type": "execute_result"
    }
   ],
   "source": [
    "df['Last Activity'].value_counts(dropna=False)"
   ]
  },
  {
   "cell_type": "code",
   "execution_count": 36,
   "id": "44ed2d64",
   "metadata": {},
   "outputs": [
    {
     "data": {
      "image/png": "[encoded data removed]",
      "text/plain": [
       "<Figure size 720x360 with 1 Axes>"
      ]
     },
     "metadata": {
      "needs_background": "light"
     },
     "output_type": "display_data"
    }
   ],
   "source": [
    "plt.figure(figsize= [10,5])\n",
    "s1 = sns.countplot(df['Last Activity'] , hue=df.Converted)\n",
    "s1.set_xticklabels(s1.get_xticklabels(),rotation=90)\n",
    "plt.show()"
   ]
  },
  {
   "cell_type": "code",
   "execution_count": 37,
   "id": "25494b97",
   "metadata": {},
   "outputs": [
    {
     "data": {
      "text/plain": [
       "Lead Origin                     0.0\n",
       "Lead Source                     0.0\n",
       "Do Not Email                    0.0\n",
       "Do Not Call                     0.0\n",
       "Converted                       0.0\n",
       "TotalVisits                     0.0\n",
       "time_on_website                 0.0\n",
       "Page Views Per Visit            0.0\n",
       "Last Activity                   0.0\n",
       "Specialization                  0.0\n",
       "occupation                      0.0\n",
       "Search                          0.0\n",
       "Magazine                        0.0\n",
       "Newspaper Article               0.0\n",
       "X Education Forums              0.0\n",
       "Newspaper                       0.0\n",
       "Digital Advertisement           0.0\n",
       "Through Recommendations         0.0\n",
       "courses_updates                 0.0\n",
       "supply_chain_content_updates    0.0\n",
       "dm_content_updates              0.0\n",
       "City                            0.0\n",
       "mastering_interview             0.0\n",
       "dtype: float64"
      ]
     },
     "execution_count": 37,
     "metadata": {},
     "output_type": "execute_result"
    }
   ],
   "source": [
    "round(df.isnull().sum() / df.shape[0])*100\n"
   ]
  },
  {
   "cell_type": "code",
   "execution_count": 38,
   "id": "8954f6b8",
   "metadata": {},
   "outputs": [
    {
     "data": {
      "text/plain": [
       "Landing Page Submission    4886\n",
       "API                        3580\n",
       "Lead Add Form               718\n",
       "Lead Import                  55\n",
       "Quick Add Form                1\n",
       "Name: Lead Origin, dtype: int64"
      ]
     },
     "execution_count": 38,
     "metadata": {},
     "output_type": "execute_result"
    }
   ],
   "source": [
    "# Lead Origin\n",
    "df[\"Lead Origin\"].value_counts(dropna= False)"
   ]
  },
  {
   "cell_type": "code",
   "execution_count": 39,
   "id": "69eaeaf0",
   "metadata": {},
   "outputs": [
    {
     "data": {
      "image/png": "[encoded data removed]",
      "text/plain": [
       "<Figure size 720x360 with 1 Axes>"
      ]
     },
     "metadata": {
      "needs_background": "light"
     },
     "output_type": "display_data"
    }
   ],
   "source": [
    "plt.figure(figsize= [10,5])\n",
    "s1 = sns.countplot(df[\"Lead Origin\"] , hue=df.Converted)\n",
    "s1.set_xticklabels(s1.get_xticklabels(),rotation=90)\n",
    "plt.show()"
   ]
  },
  {
   "cell_type": "code",
   "execution_count": 40,
   "id": "8c18d607",
   "metadata": {},
   "outputs": [
    {
     "data": {
      "text/plain": [
       "Google               2868\n",
       "Direct Traffic       2543\n",
       "Olark Chat           1755\n",
       "Organic Search       1154\n",
       "Reference             534\n",
       "Welingak Website      142\n",
       "Referral Sites        125\n",
       "Facebook               55\n",
       "NaN                    36\n",
       "bing                    6\n",
       "google                  5\n",
       "Click2call              4\n",
       "Press_Release           2\n",
       "Social Media            2\n",
       "Live Chat               2\n",
       "youtubechannel          1\n",
       "testone                 1\n",
       "Pay per Click Ads       1\n",
       "welearnblog_Home        1\n",
       "WeLearn                 1\n",
       "blog                    1\n",
       "NC_EDM                  1\n",
       "Name: Lead Source, dtype: int64"
      ]
     },
     "execution_count": 40,
     "metadata": {},
     "output_type": "execute_result"
    }
   ],
   "source": [
    "# lead Source\n",
    "df[\"Lead Source\"].value_counts(dropna=False)"
   ]
  },
  {
   "cell_type": "code",
   "execution_count": 41,
   "id": "9b107bb4",
   "metadata": {},
   "outputs": [],
   "source": [
    "df[\"Lead Source\"] = df[\"Lead Source\"].apply(lambda x : x if (( x == 'Google')|(x == 'Direct Traffic')|(x == 'Olark Chat')|(x == 'Organic Search')|(x == 'Reference ')\n",
    "                                                            ) else 'Other Social Sites')\n",
    "                                           "
   ]
  },
  {
   "cell_type": "code",
   "execution_count": 42,
   "id": "db9f6cf4",
   "metadata": {},
   "outputs": [
    {
     "data": {
      "text/plain": [
       "Google                2868\n",
       "Direct Traffic        2543\n",
       "Olark Chat            1755\n",
       "Organic Search        1154\n",
       "Other Social Sites     920\n",
       "Name: Lead Source, dtype: int64"
      ]
     },
     "execution_count": 42,
     "metadata": {},
     "output_type": "execute_result"
    }
   ],
   "source": [
    "df[\"Lead Source\"].value_counts(dropna=False)"
   ]
  },
  {
   "cell_type": "code",
   "execution_count": 43,
   "id": "379ae4d8",
   "metadata": {},
   "outputs": [
    {
     "data": {
      "image/png": "[encoded data removed]",
      "text/plain": [
       "<Figure size 720x360 with 1 Axes>"
      ]
     },
     "metadata": {
      "needs_background": "light"
     },
     "output_type": "display_data"
    }
   ],
   "source": [
    "plt.figure(figsize= [10,5])\n",
    "s1 = sns.countplot(df[\"Lead Source\"] , hue=df.Converted)\n",
    "s1.set_xticklabels(s1.get_xticklabels(),rotation=90)\n",
    "plt.show()"
   ]
  },
  {
   "cell_type": "code",
   "execution_count": 44,
   "id": "6ca3152c",
   "metadata": {},
   "outputs": [],
   "source": [
    "# IMBALANCED VARIABLES "
   ]
  },
  {
   "cell_type": "code",
   "execution_count": 45,
   "id": "cba40475",
   "metadata": {},
   "outputs": [
    {
     "name": "stdout",
     "output_type": "stream",
     "text": [
      "No     92.056277\n",
      "Yes     7.943723\n",
      "Name: Do Not Email, dtype: float64\n",
      "\n",
      "No     99.978355\n",
      "Yes     0.021645\n",
      "Name: Do Not Call, dtype: float64\n",
      "\n",
      "No     99.848485\n",
      "Yes     0.151515\n",
      "Name: Search, dtype: float64\n",
      "\n",
      "No    100.0\n",
      "Name: Magazine, dtype: float64\n",
      "\n",
      "No     99.978355\n",
      "Yes     0.021645\n",
      "Name: Newspaper Article, dtype: float64\n",
      "\n",
      "No     99.989177\n",
      "Yes     0.010823\n",
      "Name: X Education Forums, dtype: float64\n",
      "\n",
      "No     99.989177\n",
      "Yes     0.010823\n",
      "Name: Newspaper, dtype: float64\n",
      "\n",
      "No     99.95671\n",
      "Yes     0.04329\n",
      "Name: Digital Advertisement, dtype: float64\n",
      "\n",
      "No     99.924242\n",
      "Yes     0.075758\n",
      "Name: Through Recommendations, dtype: float64\n",
      "\n",
      "No    100.0\n",
      "Name: courses_updates, dtype: float64\n",
      "\n",
      "No    100.0\n",
      "Name: supply_chain_content_updates, dtype: float64\n",
      "\n",
      "No    100.0\n",
      "Name: dm_content_updates, dtype: float64\n",
      "\n"
     ]
    }
   ],
   "source": [
    "list1 = df[[ 'Do Not Email','Do Not Call','Search', 'Magazine', 'Newspaper Article', 'X Education Forums','Newspaper', 'Digital Advertisement', 'Through Recommendations',\n",
    "       'courses_updates', 'supply_chain_content_updates', 'dm_content_updates']]\n",
    "\n",
    "for i in list1 : \n",
    "    x = (list1[i].value_counts(normalize = True)) * 100\n",
    "    print(x)\n",
    "    print()"
   ]
  },
  {
   "cell_type": "markdown",
   "id": "a9505bc5",
   "metadata": {},
   "source": [
    "Data is heavily imbalanced so it is better to drop the variable."
   ]
  },
  {
   "cell_type": "code",
   "execution_count": 46,
   "id": "d753fa01",
   "metadata": {},
   "outputs": [],
   "source": [
    "# Data is heavily imbalanced so it is better to drop the variable.\n",
    "df.drop([ 'Do Not Email','Do Not Call','Search', 'Magazine', 'Newspaper Article', 'X Education Forums','Newspaper', 'Digital Advertisement', 'Through Recommendations',\n",
    "       'courses_updates', 'supply_chain_content_updates', 'dm_content_updates'],axis=1 , inplace= True )"
   ]
  },
  {
   "cell_type": "code",
   "execution_count": 47,
   "id": "2ffa35bf",
   "metadata": {},
   "outputs": [
    {
     "data": {
      "text/plain": [
       "Index(['Lead Origin', 'Lead Source', 'Converted', 'TotalVisits',\n",
       "       'time_on_website', 'Page Views Per Visit', 'Last Activity',\n",
       "       'Specialization', 'occupation', 'City', 'mastering_interview'],\n",
       "      dtype='object')"
      ]
     },
     "execution_count": 47,
     "metadata": {},
     "output_type": "execute_result"
    }
   ],
   "source": [
    "df.columns"
   ]
  },
  {
   "cell_type": "code",
   "execution_count": 48,
   "id": "9a408d71",
   "metadata": {},
   "outputs": [
    {
     "data": {
      "text/html": [
       "<div>\n",
       "<style scoped>\n",
       "    .dataframe tbody tr th:only-of-type {\n",
       "        vertical-align: middle;\n",
       "    }\n",
       "\n",
       "    .dataframe tbody tr th {\n",
       "        vertical-align: top;\n",
       "    }\n",
       "\n",
       "    .dataframe thead th {\n",
       "        text-align: right;\n",
       "    }\n",
       "</style>\n",
       "<table border=\"1\" class=\"dataframe\">\n",
       "  <thead>\n",
       "    <tr style=\"text-align: right;\">\n",
       "      <th></th>\n",
       "      <th>Converted</th>\n",
       "      <th>TotalVisits</th>\n",
       "      <th>time_on_website</th>\n",
       "      <th>Page Views Per Visit</th>\n",
       "    </tr>\n",
       "  </thead>\n",
       "  <tbody>\n",
       "    <tr>\n",
       "      <th>Converted</th>\n",
       "      <td>1.000000</td>\n",
       "      <td>0.030395</td>\n",
       "      <td>0.362483</td>\n",
       "      <td>-0.003328</td>\n",
       "    </tr>\n",
       "    <tr>\n",
       "      <th>TotalVisits</th>\n",
       "      <td>0.030395</td>\n",
       "      <td>1.000000</td>\n",
       "      <td>0.221240</td>\n",
       "      <td>0.512125</td>\n",
       "    </tr>\n",
       "    <tr>\n",
       "      <th>time_on_website</th>\n",
       "      <td>0.362483</td>\n",
       "      <td>0.221240</td>\n",
       "      <td>1.000000</td>\n",
       "      <td>0.320361</td>\n",
       "    </tr>\n",
       "    <tr>\n",
       "      <th>Page Views Per Visit</th>\n",
       "      <td>-0.003328</td>\n",
       "      <td>0.512125</td>\n",
       "      <td>0.320361</td>\n",
       "      <td>1.000000</td>\n",
       "    </tr>\n",
       "  </tbody>\n",
       "</table>\n",
       "</div>"
      ],
      "text/plain": [
       "                      Converted  TotalVisits  time_on_website  \\\n",
       "Converted              1.000000     0.030395         0.362483   \n",
       "TotalVisits            0.030395     1.000000         0.221240   \n",
       "time_on_website        0.362483     0.221240         1.000000   \n",
       "Page Views Per Visit  -0.003328     0.512125         0.320361   \n",
       "\n",
       "                      Page Views Per Visit  \n",
       "Converted                        -0.003328  \n",
       "TotalVisits                       0.512125  \n",
       "time_on_website                   0.320361  \n",
       "Page Views Per Visit              1.000000  "
      ]
     },
     "execution_count": 48,
     "metadata": {},
     "output_type": "execute_result"
    }
   ],
   "source": [
    "df.corr()"
   ]
  },
  {
   "cell_type": "code",
   "execution_count": 49,
   "id": "4b4b6b90",
   "metadata": {},
   "outputs": [
    {
     "data": {
      "text/plain": [
       "<AxesSubplot:>"
      ]
     },
     "execution_count": 49,
     "metadata": {},
     "output_type": "execute_result"
    },
    {
     "data": {
      "image/png": "[encoded data removed]",
      "text/plain": [
       "<Figure size 432x288 with 2 Axes>"
      ]
     },
     "metadata": {
      "needs_background": "light"
     },
     "output_type": "display_data"
    }
   ],
   "source": [
    "sns.heatmap(df.corr(),cmap=\"YlGnBu\", annot=True)"
   ]
  },
  {
   "cell_type": "code",
   "execution_count": 50,
   "id": "7bc30c17",
   "metadata": {},
   "outputs": [
    {
     "data": {
      "text/plain": [
       "count    9103.000000\n",
       "mean        3.445238\n",
       "std         4.854853\n",
       "min         0.000000\n",
       "5%          0.000000\n",
       "25%         1.000000\n",
       "50%         3.000000\n",
       "75%         5.000000\n",
       "80%         5.000000\n",
       "90%         7.000000\n",
       "95%        10.000000\n",
       "99%        17.000000\n",
       "max       251.000000\n",
       "Name: TotalVisits, dtype: float64"
      ]
     },
     "execution_count": 50,
     "metadata": {},
     "output_type": "execute_result"
    }
   ],
   "source": [
    "# Total Visits \n",
    "df['TotalVisits'].describe(percentiles= [0.05,.25, .5, .75,.80 ,.90, .95, .99])"
   ]
  },
  {
   "cell_type": "code",
   "execution_count": 51,
   "id": "a9ee33bd",
   "metadata": {
    "scrolled": true
   },
   "outputs": [
    {
     "data": {
      "image/png": "[encoded data removed]",
      "text/plain": [
       "<Figure size 432x288 with 1 Axes>"
      ]
     },
     "metadata": {
      "needs_background": "light"
     },
     "output_type": "display_data"
    }
   ],
   "source": [
    "sns.boxplot(y = df['TotalVisits'])\n",
    "plt.show()"
   ]
  },
  {
   "cell_type": "code",
   "execution_count": 52,
   "id": "225e3744",
   "metadata": {},
   "outputs": [],
   "source": [
    "df = df[(df.TotalVisits <= 20 )]"
   ]
  },
  {
   "cell_type": "code",
   "execution_count": 53,
   "id": "08f08840",
   "metadata": {},
   "outputs": [
    {
     "data": {
      "image/png": "[encoded data removed]",
      "text/plain": [
       "<Figure size 432x288 with 1 Axes>"
      ]
     },
     "metadata": {
      "needs_background": "light"
     },
     "output_type": "display_data"
    }
   ],
   "source": [
    "sns.boxplot(y = df['TotalVisits'])\n",
    "plt.show()"
   ]
  },
  {
   "cell_type": "code",
   "execution_count": 54,
   "id": "c204c3bc",
   "metadata": {},
   "outputs": [
    {
     "data": {
      "text/plain": [
       "(9056, 11)"
      ]
     },
     "execution_count": 54,
     "metadata": {},
     "output_type": "execute_result"
    }
   ],
   "source": [
    "df.shape"
   ]
  },
  {
   "cell_type": "code",
   "execution_count": 55,
   "id": "87dc2800",
   "metadata": {},
   "outputs": [
    {
     "data": {
      "text/plain": [
       "<AxesSubplot:xlabel='Converted', ylabel='TotalVisits'>"
      ]
     },
     "execution_count": 55,
     "metadata": {},
     "output_type": "execute_result"
    },
    {
     "data": {
      "image/png": "[encoded data removed]",
      "text/plain": [
       "<Figure size 432x288 with 1 Axes>"
      ]
     },
     "metadata": {
      "needs_background": "light"
     },
     "output_type": "display_data"
    }
   ],
   "source": [
    "sns.boxplot(x =df.Converted, y= df['TotalVisits'])"
   ]
  },
  {
   "cell_type": "code",
   "execution_count": 56,
   "id": "a4988803",
   "metadata": {},
   "outputs": [
    {
     "data": {
      "text/plain": [
       "count    9056.000000\n",
       "mean      480.613516\n",
       "std       544.942016\n",
       "min         0.000000\n",
       "5%          0.000000\n",
       "25%         8.000000\n",
       "50%       243.000000\n",
       "75%       918.000000\n",
       "90%      1372.000000\n",
       "95%      1556.000000\n",
       "99%      1837.900000\n",
       "max      2272.000000\n",
       "Name: time_on_website, dtype: float64"
      ]
     },
     "execution_count": 56,
     "metadata": {},
     "output_type": "execute_result"
    }
   ],
   "source": [
    "# Time on website\n",
    "df['time_on_website'].describe(percentiles=[0.05,.25, .5, .75, .90, .95, .99])"
   ]
  },
  {
   "cell_type": "code",
   "execution_count": 57,
   "id": "ce017916",
   "metadata": {
    "scrolled": true
   },
   "outputs": [
    {
     "data": {
      "text/plain": [
       "<AxesSubplot:ylabel='time_on_website'>"
      ]
     },
     "execution_count": 57,
     "metadata": {},
     "output_type": "execute_result"
    },
    {
     "data": {
      "image/png": "[encoded data removed]",
      "text/plain": [
       "<Figure size 432x288 with 1 Axes>"
      ]
     },
     "metadata": {
      "needs_background": "light"
     },
     "output_type": "display_data"
    }
   ],
   "source": [
    "sns.boxplot(y= df.time_on_website)"
   ]
  },
  {
   "cell_type": "code",
   "execution_count": 58,
   "id": "03558b70",
   "metadata": {},
   "outputs": [
    {
     "data": {
      "text/plain": [
       "<AxesSubplot:xlabel='Converted', ylabel='time_on_website'>"
      ]
     },
     "execution_count": 58,
     "metadata": {},
     "output_type": "execute_result"
    },
    {
     "data": {
      "image/png": "[encoded data removed]",
      "text/plain": [
       "<Figure size 432x288 with 1 Axes>"
      ]
     },
     "metadata": {
      "needs_background": "light"
     },
     "output_type": "display_data"
    }
   ],
   "source": [
    "sns.boxplot(x =df.Converted, y= df['time_on_website'])"
   ]
  },
  {
   "cell_type": "code",
   "execution_count": 59,
   "id": "34afd0c9",
   "metadata": {},
   "outputs": [
    {
     "data": {
      "text/plain": [
       "count    9056.000000\n",
       "mean        2.342778\n",
       "std         2.063161\n",
       "min         0.000000\n",
       "5%          0.000000\n",
       "25%         1.000000\n",
       "50%         2.000000\n",
       "75%         3.000000\n",
       "90%         5.000000\n",
       "95%         6.000000\n",
       "99%         9.000000\n",
       "max        16.000000\n",
       "Name: Page Views Per Visit, dtype: float64"
      ]
     },
     "execution_count": 59,
     "metadata": {},
     "output_type": "execute_result"
    }
   ],
   "source": [
    "# Page Views Per Visit\n",
    "df['Page Views Per Visit'].describe(percentiles=[0.05,.25, .5, .75, .90, .95, .99])"
   ]
  },
  {
   "cell_type": "code",
   "execution_count": 60,
   "id": "897a74dc",
   "metadata": {},
   "outputs": [
    {
     "data": {
      "text/plain": [
       "<AxesSubplot:ylabel='Page Views Per Visit'>"
      ]
     },
     "execution_count": 60,
     "metadata": {},
     "output_type": "execute_result"
    },
    {
     "data": {
      "image/png": "[encoded data removed]",
      "text/plain": [
       "<Figure size 432x288 with 1 Axes>"
      ]
     },
     "metadata": {
      "needs_background": "light"
     },
     "output_type": "display_data"
    }
   ],
   "source": [
    "sns.boxplot(y= df['Page Views Per Visit'])"
   ]
  },
  {
   "cell_type": "code",
   "execution_count": 61,
   "id": "47177e84",
   "metadata": {},
   "outputs": [],
   "source": [
    "df = df[df['Page Views Per Visit'] < 10 ]"
   ]
  },
  {
   "cell_type": "code",
   "execution_count": 62,
   "id": "6125c252",
   "metadata": {},
   "outputs": [
    {
     "data": {
      "text/plain": [
       "<AxesSubplot:ylabel='Page Views Per Visit'>"
      ]
     },
     "execution_count": 62,
     "metadata": {},
     "output_type": "execute_result"
    },
    {
     "data": {
      "image/png": "[encoded data removed]",
      "text/plain": [
       "<Figure size 432x288 with 1 Axes>"
      ]
     },
     "metadata": {
      "needs_background": "light"
     },
     "output_type": "display_data"
    }
   ],
   "source": [
    "sns.boxplot(y= df['Page Views Per Visit'])"
   ]
  },
  {
   "cell_type": "code",
   "execution_count": 63,
   "id": "8d655a26",
   "metadata": {},
   "outputs": [
    {
     "data": {
      "text/plain": [
       "(8988, 11)"
      ]
     },
     "execution_count": 63,
     "metadata": {},
     "output_type": "execute_result"
    }
   ],
   "source": [
    "df.shape"
   ]
  },
  {
   "cell_type": "code",
   "execution_count": 64,
   "id": "8c54e3bc",
   "metadata": {},
   "outputs": [
    {
     "data": {
      "text/plain": [
       "<AxesSubplot:xlabel='Converted', ylabel='Page Views Per Visit'>"
      ]
     },
     "execution_count": 64,
     "metadata": {},
     "output_type": "execute_result"
    },
    {
     "data": {
      "image/png": "[encoded data removed]",
      "text/plain": [
       "<Figure size 432x288 with 1 Axes>"
      ]
     },
     "metadata": {
      "needs_background": "light"
     },
     "output_type": "display_data"
    }
   ],
   "source": [
    "sns.boxplot(x =df.Converted, y= df['Page Views Per Visit'])"
   ]
  },
  {
   "cell_type": "code",
   "execution_count": 65,
   "id": "73103c97",
   "metadata": {},
   "outputs": [],
   "source": [
    "# mastering_interview \n",
    "df.mastering_interview = df.mastering_interview.apply(lambda x : 1 if x  == ' Yes' else 0 )"
   ]
  },
  {
   "cell_type": "code",
   "execution_count": 66,
   "id": "e806b806",
   "metadata": {
    "scrolled": true
   },
   "outputs": [
    {
     "data": {
      "text/html": [
       "<div>\n",
       "<style scoped>\n",
       "    .dataframe tbody tr th:only-of-type {\n",
       "        vertical-align: middle;\n",
       "    }\n",
       "\n",
       "    .dataframe tbody tr th {\n",
       "        vertical-align: top;\n",
       "    }\n",
       "\n",
       "    .dataframe thead th {\n",
       "        text-align: right;\n",
       "    }\n",
       "</style>\n",
       "<table border=\"1\" class=\"dataframe\">\n",
       "  <thead>\n",
       "    <tr style=\"text-align: right;\">\n",
       "      <th></th>\n",
       "      <th>Lead Origin</th>\n",
       "      <th>Lead Source</th>\n",
       "      <th>Converted</th>\n",
       "      <th>TotalVisits</th>\n",
       "      <th>time_on_website</th>\n",
       "      <th>Page Views Per Visit</th>\n",
       "      <th>Last Activity</th>\n",
       "      <th>Specialization</th>\n",
       "      <th>occupation</th>\n",
       "      <th>City</th>\n",
       "      <th>mastering_interview</th>\n",
       "    </tr>\n",
       "  </thead>\n",
       "  <tbody>\n",
       "    <tr>\n",
       "      <th>0</th>\n",
       "      <td>API</td>\n",
       "      <td>Olark Chat</td>\n",
       "      <td>0</td>\n",
       "      <td>0.0</td>\n",
       "      <td>0</td>\n",
       "      <td>0.0</td>\n",
       "      <td>Page Visited on Website</td>\n",
       "      <td>Not_Specified</td>\n",
       "      <td>Unemployed</td>\n",
       "      <td>Mumbai</td>\n",
       "      <td>0</td>\n",
       "    </tr>\n",
       "    <tr>\n",
       "      <th>1</th>\n",
       "      <td>API</td>\n",
       "      <td>Organic Search</td>\n",
       "      <td>0</td>\n",
       "      <td>5.0</td>\n",
       "      <td>674</td>\n",
       "      <td>2.5</td>\n",
       "      <td>Email Opened</td>\n",
       "      <td>Not_Specified</td>\n",
       "      <td>Unemployed</td>\n",
       "      <td>Mumbai</td>\n",
       "      <td>0</td>\n",
       "    </tr>\n",
       "    <tr>\n",
       "      <th>2</th>\n",
       "      <td>Landing Page Submission</td>\n",
       "      <td>Direct Traffic</td>\n",
       "      <td>1</td>\n",
       "      <td>2.0</td>\n",
       "      <td>1532</td>\n",
       "      <td>2.0</td>\n",
       "      <td>Email Opened</td>\n",
       "      <td>Business Administration</td>\n",
       "      <td>Student</td>\n",
       "      <td>Mumbai</td>\n",
       "      <td>0</td>\n",
       "    </tr>\n",
       "    <tr>\n",
       "      <th>3</th>\n",
       "      <td>Landing Page Submission</td>\n",
       "      <td>Direct Traffic</td>\n",
       "      <td>0</td>\n",
       "      <td>1.0</td>\n",
       "      <td>305</td>\n",
       "      <td>1.0</td>\n",
       "      <td>Others</td>\n",
       "      <td>Media and Advertising</td>\n",
       "      <td>Unemployed</td>\n",
       "      <td>Mumbai</td>\n",
       "      <td>0</td>\n",
       "    </tr>\n",
       "    <tr>\n",
       "      <th>4</th>\n",
       "      <td>Landing Page Submission</td>\n",
       "      <td>Google</td>\n",
       "      <td>1</td>\n",
       "      <td>2.0</td>\n",
       "      <td>1428</td>\n",
       "      <td>1.0</td>\n",
       "      <td>Converted to Lead</td>\n",
       "      <td>Not_Specified</td>\n",
       "      <td>Unemployed</td>\n",
       "      <td>Mumbai</td>\n",
       "      <td>0</td>\n",
       "    </tr>\n",
       "  </tbody>\n",
       "</table>\n",
       "</div>"
      ],
      "text/plain": [
       "               Lead Origin     Lead Source  Converted  TotalVisits  \\\n",
       "0                      API      Olark Chat          0          0.0   \n",
       "1                      API  Organic Search          0          5.0   \n",
       "2  Landing Page Submission  Direct Traffic          1          2.0   \n",
       "3  Landing Page Submission  Direct Traffic          0          1.0   \n",
       "4  Landing Page Submission          Google          1          2.0   \n",
       "\n",
       "   time_on_website  Page Views Per Visit            Last Activity  \\\n",
       "0                0                   0.0  Page Visited on Website   \n",
       "1              674                   2.5             Email Opened   \n",
       "2             1532                   2.0             Email Opened   \n",
       "3              305                   1.0                   Others   \n",
       "4             1428                   1.0        Converted to Lead   \n",
       "\n",
       "            Specialization  occupation    City  mastering_interview  \n",
       "0           Not_Specified   Unemployed  Mumbai                    0  \n",
       "1           Not_Specified   Unemployed  Mumbai                    0  \n",
       "2  Business Administration     Student  Mumbai                    0  \n",
       "3    Media and Advertising  Unemployed  Mumbai                    0  \n",
       "4           Not_Specified   Unemployed  Mumbai                    0  "
      ]
     },
     "execution_count": 66,
     "metadata": {},
     "output_type": "execute_result"
    }
   ],
   "source": [
    "df.head()"
   ]
  },
  {
   "cell_type": "code",
   "execution_count": 67,
   "id": "3684a6d3",
   "metadata": {},
   "outputs": [
    {
     "data": {
      "text/plain": [
       "Index(['Lead Origin', 'Lead Source', 'Converted', 'TotalVisits',\n",
       "       'time_on_website', 'Page Views Per Visit', 'Last Activity',\n",
       "       'Specialization', 'occupation', 'City', 'mastering_interview'],\n",
       "      dtype='object')"
      ]
     },
     "execution_count": 67,
     "metadata": {},
     "output_type": "execute_result"
    }
   ],
   "source": [
    "df.columns"
   ]
  },
  {
   "cell_type": "markdown",
   "id": "523834b5",
   "metadata": {},
   "source": [
    "###  Get Dummys"
   ]
  },
  {
   "cell_type": "code",
   "execution_count": 68,
   "id": "f7470cc3",
   "metadata": {},
   "outputs": [],
   "source": [
    "dummy1 = pd.get_dummies(df[['Lead Origin', 'Lead Source', 'Specialization', 'occupation', 'City','Last Activity']], drop_first= True)\n",
    "\n",
    "df = pd.concat([df,dummy1],axis= 1)"
   ]
  },
  {
   "cell_type": "code",
   "execution_count": 69,
   "id": "6dd75117",
   "metadata": {},
   "outputs": [],
   "source": [
    "df.drop(['Lead Origin', 'Lead Source', 'Specialization', 'occupation', 'City','Last Activity'],axis=1 , inplace= True)"
   ]
  },
  {
   "cell_type": "code",
   "execution_count": 70,
   "id": "36c2a448",
   "metadata": {},
   "outputs": [
    {
     "data": {
      "text/html": [
       "<div>\n",
       "<style scoped>\n",
       "    .dataframe tbody tr th:only-of-type {\n",
       "        vertical-align: middle;\n",
       "    }\n",
       "\n",
       "    .dataframe tbody tr th {\n",
       "        vertical-align: top;\n",
       "    }\n",
       "\n",
       "    .dataframe thead th {\n",
       "        text-align: right;\n",
       "    }\n",
       "</style>\n",
       "<table border=\"1\" class=\"dataframe\">\n",
       "  <thead>\n",
       "    <tr style=\"text-align: right;\">\n",
       "      <th></th>\n",
       "      <th>Converted</th>\n",
       "      <th>TotalVisits</th>\n",
       "      <th>time_on_website</th>\n",
       "      <th>Page Views Per Visit</th>\n",
       "      <th>mastering_interview</th>\n",
       "      <th>Lead Origin_Landing Page Submission</th>\n",
       "      <th>Lead Origin_Lead Add Form</th>\n",
       "      <th>Lead Origin_Lead Import</th>\n",
       "      <th>Lead Source_Google</th>\n",
       "      <th>Lead Source_Olark Chat</th>\n",
       "      <th>...</th>\n",
       "      <th>City_Other Metro Cities</th>\n",
       "      <th>City_Thane &amp; Outskirts</th>\n",
       "      <th>Last Activity_Email Bounced</th>\n",
       "      <th>Last Activity_Email Link Clicked</th>\n",
       "      <th>Last Activity_Email Opened</th>\n",
       "      <th>Last Activity_Form Submitted on Website</th>\n",
       "      <th>Last Activity_Olark Chat Conversation</th>\n",
       "      <th>Last Activity_Others</th>\n",
       "      <th>Last Activity_Page Visited on Website</th>\n",
       "      <th>Last Activity_SMS Sent</th>\n",
       "    </tr>\n",
       "  </thead>\n",
       "  <tbody>\n",
       "    <tr>\n",
       "      <th>0</th>\n",
       "      <td>0</td>\n",
       "      <td>0.0</td>\n",
       "      <td>0</td>\n",
       "      <td>0.0</td>\n",
       "      <td>0</td>\n",
       "      <td>0</td>\n",
       "      <td>0</td>\n",
       "      <td>0</td>\n",
       "      <td>0</td>\n",
       "      <td>1</td>\n",
       "      <td>...</td>\n",
       "      <td>0</td>\n",
       "      <td>0</td>\n",
       "      <td>0</td>\n",
       "      <td>0</td>\n",
       "      <td>0</td>\n",
       "      <td>0</td>\n",
       "      <td>0</td>\n",
       "      <td>0</td>\n",
       "      <td>1</td>\n",
       "      <td>0</td>\n",
       "    </tr>\n",
       "    <tr>\n",
       "      <th>1</th>\n",
       "      <td>0</td>\n",
       "      <td>5.0</td>\n",
       "      <td>674</td>\n",
       "      <td>2.5</td>\n",
       "      <td>0</td>\n",
       "      <td>0</td>\n",
       "      <td>0</td>\n",
       "      <td>0</td>\n",
       "      <td>0</td>\n",
       "      <td>0</td>\n",
       "      <td>...</td>\n",
       "      <td>0</td>\n",
       "      <td>0</td>\n",
       "      <td>0</td>\n",
       "      <td>0</td>\n",
       "      <td>1</td>\n",
       "      <td>0</td>\n",
       "      <td>0</td>\n",
       "      <td>0</td>\n",
       "      <td>0</td>\n",
       "      <td>0</td>\n",
       "    </tr>\n",
       "    <tr>\n",
       "      <th>2</th>\n",
       "      <td>1</td>\n",
       "      <td>2.0</td>\n",
       "      <td>1532</td>\n",
       "      <td>2.0</td>\n",
       "      <td>0</td>\n",
       "      <td>1</td>\n",
       "      <td>0</td>\n",
       "      <td>0</td>\n",
       "      <td>0</td>\n",
       "      <td>0</td>\n",
       "      <td>...</td>\n",
       "      <td>0</td>\n",
       "      <td>0</td>\n",
       "      <td>0</td>\n",
       "      <td>0</td>\n",
       "      <td>1</td>\n",
       "      <td>0</td>\n",
       "      <td>0</td>\n",
       "      <td>0</td>\n",
       "      <td>0</td>\n",
       "      <td>0</td>\n",
       "    </tr>\n",
       "    <tr>\n",
       "      <th>3</th>\n",
       "      <td>0</td>\n",
       "      <td>1.0</td>\n",
       "      <td>305</td>\n",
       "      <td>1.0</td>\n",
       "      <td>0</td>\n",
       "      <td>1</td>\n",
       "      <td>0</td>\n",
       "      <td>0</td>\n",
       "      <td>0</td>\n",
       "      <td>0</td>\n",
       "      <td>...</td>\n",
       "      <td>0</td>\n",
       "      <td>0</td>\n",
       "      <td>0</td>\n",
       "      <td>0</td>\n",
       "      <td>0</td>\n",
       "      <td>0</td>\n",
       "      <td>0</td>\n",
       "      <td>1</td>\n",
       "      <td>0</td>\n",
       "      <td>0</td>\n",
       "    </tr>\n",
       "    <tr>\n",
       "      <th>4</th>\n",
       "      <td>1</td>\n",
       "      <td>2.0</td>\n",
       "      <td>1428</td>\n",
       "      <td>1.0</td>\n",
       "      <td>0</td>\n",
       "      <td>1</td>\n",
       "      <td>0</td>\n",
       "      <td>0</td>\n",
       "      <td>1</td>\n",
       "      <td>0</td>\n",
       "      <td>...</td>\n",
       "      <td>0</td>\n",
       "      <td>0</td>\n",
       "      <td>0</td>\n",
       "      <td>0</td>\n",
       "      <td>0</td>\n",
       "      <td>0</td>\n",
       "      <td>0</td>\n",
       "      <td>0</td>\n",
       "      <td>0</td>\n",
       "      <td>0</td>\n",
       "    </tr>\n",
       "  </tbody>\n",
       "</table>\n",
       "<p>5 rows × 37 columns</p>\n",
       "</div>"
      ],
      "text/plain": [
       "   Converted  TotalVisits  time_on_website  Page Views Per Visit  \\\n",
       "0          0          0.0                0                   0.0   \n",
       "1          0          5.0              674                   2.5   \n",
       "2          1          2.0             1532                   2.0   \n",
       "3          0          1.0              305                   1.0   \n",
       "4          1          2.0             1428                   1.0   \n",
       "\n",
       "   mastering_interview  Lead Origin_Landing Page Submission  \\\n",
       "0                    0                                    0   \n",
       "1                    0                                    0   \n",
       "2                    0                                    1   \n",
       "3                    0                                    1   \n",
       "4                    0                                    1   \n",
       "\n",
       "   Lead Origin_Lead Add Form  Lead Origin_Lead Import  Lead Source_Google  \\\n",
       "0                          0                        0                   0   \n",
       "1                          0                        0                   0   \n",
       "2                          0                        0                   0   \n",
       "3                          0                        0                   0   \n",
       "4                          0                        0                   1   \n",
       "\n",
       "   Lead Source_Olark Chat  ...  City_Other Metro Cities  \\\n",
       "0                       1  ...                        0   \n",
       "1                       0  ...                        0   \n",
       "2                       0  ...                        0   \n",
       "3                       0  ...                        0   \n",
       "4                       0  ...                        0   \n",
       "\n",
       "   City_Thane & Outskirts  Last Activity_Email Bounced  \\\n",
       "0                       0                            0   \n",
       "1                       0                            0   \n",
       "2                       0                            0   \n",
       "3                       0                            0   \n",
       "4                       0                            0   \n",
       "\n",
       "   Last Activity_Email Link Clicked  Last Activity_Email Opened  \\\n",
       "0                                 0                           0   \n",
       "1                                 0                           1   \n",
       "2                                 0                           1   \n",
       "3                                 0                           0   \n",
       "4                                 0                           0   \n",
       "\n",
       "   Last Activity_Form Submitted on Website  \\\n",
       "0                                        0   \n",
       "1                                        0   \n",
       "2                                        0   \n",
       "3                                        0   \n",
       "4                                        0   \n",
       "\n",
       "   Last Activity_Olark Chat Conversation  Last Activity_Others  \\\n",
       "0                                      0                     0   \n",
       "1                                      0                     0   \n",
       "2                                      0                     0   \n",
       "3                                      0                     1   \n",
       "4                                      0                     0   \n",
       "\n",
       "   Last Activity_Page Visited on Website  Last Activity_SMS Sent  \n",
       "0                                      1                       0  \n",
       "1                                      0                       0  \n",
       "2                                      0                       0  \n",
       "3                                      0                       0  \n",
       "4                                      0                       0  \n",
       "\n",
       "[5 rows x 37 columns]"
      ]
     },
     "execution_count": 70,
     "metadata": {},
     "output_type": "execute_result"
    }
   ],
   "source": [
    "df.head()"
   ]
  },
  {
   "cell_type": "markdown",
   "id": "a378d7de",
   "metadata": {},
   "source": [
    "### Train-Test Split & Logistic Regression Model Building:"
   ]
  },
  {
   "cell_type": "code",
   "execution_count": 71,
   "id": "c534d283",
   "metadata": {},
   "outputs": [
    {
     "data": {
      "text/plain": [
       "0    0\n",
       "1    0\n",
       "2    1\n",
       "3    0\n",
       "4    1\n",
       "Name: Converted, dtype: int64"
      ]
     },
     "execution_count": 71,
     "metadata": {},
     "output_type": "execute_result"
    }
   ],
   "source": [
    "y = df.Converted\n",
    "y.head()"
   ]
  },
  {
   "cell_type": "code",
   "execution_count": 72,
   "id": "02c0ec10",
   "metadata": {},
   "outputs": [
    {
     "data": {
      "text/html": [
       "<div>\n",
       "<style scoped>\n",
       "    .dataframe tbody tr th:only-of-type {\n",
       "        vertical-align: middle;\n",
       "    }\n",
       "\n",
       "    .dataframe tbody tr th {\n",
       "        vertical-align: top;\n",
       "    }\n",
       "\n",
       "    .dataframe thead th {\n",
       "        text-align: right;\n",
       "    }\n",
       "</style>\n",
       "<table border=\"1\" class=\"dataframe\">\n",
       "  <thead>\n",
       "    <tr style=\"text-align: right;\">\n",
       "      <th></th>\n",
       "      <th>TotalVisits</th>\n",
       "      <th>time_on_website</th>\n",
       "      <th>Page Views Per Visit</th>\n",
       "      <th>mastering_interview</th>\n",
       "      <th>Lead Origin_Landing Page Submission</th>\n",
       "      <th>Lead Origin_Lead Add Form</th>\n",
       "      <th>Lead Origin_Lead Import</th>\n",
       "      <th>Lead Source_Google</th>\n",
       "      <th>Lead Source_Olark Chat</th>\n",
       "      <th>Lead Source_Organic Search</th>\n",
       "      <th>...</th>\n",
       "      <th>City_Other Metro Cities</th>\n",
       "      <th>City_Thane &amp; Outskirts</th>\n",
       "      <th>Last Activity_Email Bounced</th>\n",
       "      <th>Last Activity_Email Link Clicked</th>\n",
       "      <th>Last Activity_Email Opened</th>\n",
       "      <th>Last Activity_Form Submitted on Website</th>\n",
       "      <th>Last Activity_Olark Chat Conversation</th>\n",
       "      <th>Last Activity_Others</th>\n",
       "      <th>Last Activity_Page Visited on Website</th>\n",
       "      <th>Last Activity_SMS Sent</th>\n",
       "    </tr>\n",
       "  </thead>\n",
       "  <tbody>\n",
       "    <tr>\n",
       "      <th>0</th>\n",
       "      <td>0.0</td>\n",
       "      <td>0</td>\n",
       "      <td>0.0</td>\n",
       "      <td>0</td>\n",
       "      <td>0</td>\n",
       "      <td>0</td>\n",
       "      <td>0</td>\n",
       "      <td>0</td>\n",
       "      <td>1</td>\n",
       "      <td>0</td>\n",
       "      <td>...</td>\n",
       "      <td>0</td>\n",
       "      <td>0</td>\n",
       "      <td>0</td>\n",
       "      <td>0</td>\n",
       "      <td>0</td>\n",
       "      <td>0</td>\n",
       "      <td>0</td>\n",
       "      <td>0</td>\n",
       "      <td>1</td>\n",
       "      <td>0</td>\n",
       "    </tr>\n",
       "    <tr>\n",
       "      <th>1</th>\n",
       "      <td>5.0</td>\n",
       "      <td>674</td>\n",
       "      <td>2.5</td>\n",
       "      <td>0</td>\n",
       "      <td>0</td>\n",
       "      <td>0</td>\n",
       "      <td>0</td>\n",
       "      <td>0</td>\n",
       "      <td>0</td>\n",
       "      <td>1</td>\n",
       "      <td>...</td>\n",
       "      <td>0</td>\n",
       "      <td>0</td>\n",
       "      <td>0</td>\n",
       "      <td>0</td>\n",
       "      <td>1</td>\n",
       "      <td>0</td>\n",
       "      <td>0</td>\n",
       "      <td>0</td>\n",
       "      <td>0</td>\n",
       "      <td>0</td>\n",
       "    </tr>\n",
       "    <tr>\n",
       "      <th>2</th>\n",
       "      <td>2.0</td>\n",
       "      <td>1532</td>\n",
       "      <td>2.0</td>\n",
       "      <td>0</td>\n",
       "      <td>1</td>\n",
       "      <td>0</td>\n",
       "      <td>0</td>\n",
       "      <td>0</td>\n",
       "      <td>0</td>\n",
       "      <td>0</td>\n",
       "      <td>...</td>\n",
       "      <td>0</td>\n",
       "      <td>0</td>\n",
       "      <td>0</td>\n",
       "      <td>0</td>\n",
       "      <td>1</td>\n",
       "      <td>0</td>\n",
       "      <td>0</td>\n",
       "      <td>0</td>\n",
       "      <td>0</td>\n",
       "      <td>0</td>\n",
       "    </tr>\n",
       "    <tr>\n",
       "      <th>3</th>\n",
       "      <td>1.0</td>\n",
       "      <td>305</td>\n",
       "      <td>1.0</td>\n",
       "      <td>0</td>\n",
       "      <td>1</td>\n",
       "      <td>0</td>\n",
       "      <td>0</td>\n",
       "      <td>0</td>\n",
       "      <td>0</td>\n",
       "      <td>0</td>\n",
       "      <td>...</td>\n",
       "      <td>0</td>\n",
       "      <td>0</td>\n",
       "      <td>0</td>\n",
       "      <td>0</td>\n",
       "      <td>0</td>\n",
       "      <td>0</td>\n",
       "      <td>0</td>\n",
       "      <td>1</td>\n",
       "      <td>0</td>\n",
       "      <td>0</td>\n",
       "    </tr>\n",
       "    <tr>\n",
       "      <th>4</th>\n",
       "      <td>2.0</td>\n",
       "      <td>1428</td>\n",
       "      <td>1.0</td>\n",
       "      <td>0</td>\n",
       "      <td>1</td>\n",
       "      <td>0</td>\n",
       "      <td>0</td>\n",
       "      <td>1</td>\n",
       "      <td>0</td>\n",
       "      <td>0</td>\n",
       "      <td>...</td>\n",
       "      <td>0</td>\n",
       "      <td>0</td>\n",
       "      <td>0</td>\n",
       "      <td>0</td>\n",
       "      <td>0</td>\n",
       "      <td>0</td>\n",
       "      <td>0</td>\n",
       "      <td>0</td>\n",
       "      <td>0</td>\n",
       "      <td>0</td>\n",
       "    </tr>\n",
       "  </tbody>\n",
       "</table>\n",
       "<p>5 rows × 36 columns</p>\n",
       "</div>"
      ],
      "text/plain": [
       "   TotalVisits  time_on_website  Page Views Per Visit  mastering_interview  \\\n",
       "0          0.0                0                   0.0                    0   \n",
       "1          5.0              674                   2.5                    0   \n",
       "2          2.0             1532                   2.0                    0   \n",
       "3          1.0              305                   1.0                    0   \n",
       "4          2.0             1428                   1.0                    0   \n",
       "\n",
       "   Lead Origin_Landing Page Submission  Lead Origin_Lead Add Form  \\\n",
       "0                                    0                          0   \n",
       "1                                    0                          0   \n",
       "2                                    1                          0   \n",
       "3                                    1                          0   \n",
       "4                                    1                          0   \n",
       "\n",
       "   Lead Origin_Lead Import  Lead Source_Google  Lead Source_Olark Chat  \\\n",
       "0                        0                   0                       1   \n",
       "1                        0                   0                       0   \n",
       "2                        0                   0                       0   \n",
       "3                        0                   0                       0   \n",
       "4                        0                   1                       0   \n",
       "\n",
       "   Lead Source_Organic Search  ...  City_Other Metro Cities  \\\n",
       "0                           0  ...                        0   \n",
       "1                           1  ...                        0   \n",
       "2                           0  ...                        0   \n",
       "3                           0  ...                        0   \n",
       "4                           0  ...                        0   \n",
       "\n",
       "   City_Thane & Outskirts  Last Activity_Email Bounced  \\\n",
       "0                       0                            0   \n",
       "1                       0                            0   \n",
       "2                       0                            0   \n",
       "3                       0                            0   \n",
       "4                       0                            0   \n",
       "\n",
       "   Last Activity_Email Link Clicked  Last Activity_Email Opened  \\\n",
       "0                                 0                           0   \n",
       "1                                 0                           1   \n",
       "2                                 0                           1   \n",
       "3                                 0                           0   \n",
       "4                                 0                           0   \n",
       "\n",
       "   Last Activity_Form Submitted on Website  \\\n",
       "0                                        0   \n",
       "1                                        0   \n",
       "2                                        0   \n",
       "3                                        0   \n",
       "4                                        0   \n",
       "\n",
       "   Last Activity_Olark Chat Conversation  Last Activity_Others  \\\n",
       "0                                      0                     0   \n",
       "1                                      0                     0   \n",
       "2                                      0                     0   \n",
       "3                                      0                     1   \n",
       "4                                      0                     0   \n",
       "\n",
       "   Last Activity_Page Visited on Website  Last Activity_SMS Sent  \n",
       "0                                      1                       0  \n",
       "1                                      0                       0  \n",
       "2                                      0                       0  \n",
       "3                                      0                       0  \n",
       "4                                      0                       0  \n",
       "\n",
       "[5 rows x 36 columns]"
      ]
     },
     "execution_count": 72,
     "metadata": {},
     "output_type": "execute_result"
    }
   ],
   "source": [
    "X = df.drop('Converted', axis= 1 )\n",
    "X.head()"
   ]
  },
  {
   "cell_type": "code",
   "execution_count": 73,
   "id": "1c664c78",
   "metadata": {},
   "outputs": [],
   "source": [
    "X_train, X_test,y_train,y_test = train_test_split(X, y , train_size=.7 , test_size=.3, random_state= 100)"
   ]
  },
  {
   "cell_type": "code",
   "execution_count": 74,
   "id": "342f6511",
   "metadata": {},
   "outputs": [
    {
     "name": "stdout",
     "output_type": "stream",
     "text": [
      "<class 'pandas.core.frame.DataFrame'>\n",
      "Int64Index: 6291 entries, 990 to 5803\n",
      "Data columns (total 36 columns):\n",
      " #   Column                                     Non-Null Count  Dtype  \n",
      "---  ------                                     --------------  -----  \n",
      " 0   TotalVisits                                6291 non-null   float64\n",
      " 1   time_on_website                            6291 non-null   int64  \n",
      " 2   Page Views Per Visit                       6291 non-null   float64\n",
      " 3   mastering_interview                        6291 non-null   int64  \n",
      " 4   Lead Origin_Landing Page Submission        6291 non-null   uint8  \n",
      " 5   Lead Origin_Lead Add Form                  6291 non-null   uint8  \n",
      " 6   Lead Origin_Lead Import                    6291 non-null   uint8  \n",
      " 7   Lead Source_Google                         6291 non-null   uint8  \n",
      " 8   Lead Source_Olark Chat                     6291 non-null   uint8  \n",
      " 9   Lead Source_Organic Search                 6291 non-null   uint8  \n",
      " 10  Lead Source_Other Social Sites             6291 non-null   uint8  \n",
      " 11  Specialization_Business Administration     6291 non-null   uint8  \n",
      " 12  Specialization_E-Business                  6291 non-null   uint8  \n",
      " 13  Specialization_E-COMMERCE                  6291 non-null   uint8  \n",
      " 14  Specialization_International Business      6291 non-null   uint8  \n",
      " 15  Specialization_Management_Specializations  6291 non-null   uint8  \n",
      " 16  Specialization_Media and Advertising       6291 non-null   uint8  \n",
      " 17  Specialization_Not_Specified               6291 non-null   uint8  \n",
      " 18  Specialization_Rural and Agribusiness      6291 non-null   uint8  \n",
      " 19  Specialization_Services Excellence         6291 non-null   uint8  \n",
      " 20  Specialization_Travel and Tourism          6291 non-null   uint8  \n",
      " 21  occupation_Student                         6291 non-null   uint8  \n",
      " 22  occupation_Unemployed                      6291 non-null   uint8  \n",
      " 23  occupation_Working Professional            6291 non-null   uint8  \n",
      " 24  City_Other Cities                          6291 non-null   uint8  \n",
      " 25  City_Other Cities of Maharashtra           6291 non-null   uint8  \n",
      " 26  City_Other Metro Cities                    6291 non-null   uint8  \n",
      " 27  City_Thane & Outskirts                     6291 non-null   uint8  \n",
      " 28  Last Activity_Email Bounced                6291 non-null   uint8  \n",
      " 29  Last Activity_Email Link Clicked           6291 non-null   uint8  \n",
      " 30  Last Activity_Email Opened                 6291 non-null   uint8  \n",
      " 31  Last Activity_Form Submitted on Website    6291 non-null   uint8  \n",
      " 32  Last Activity_Olark Chat Conversation      6291 non-null   uint8  \n",
      " 33  Last Activity_Others                       6291 non-null   uint8  \n",
      " 34  Last Activity_Page Visited on Website      6291 non-null   uint8  \n",
      " 35  Last Activity_SMS Sent                     6291 non-null   uint8  \n",
      "dtypes: float64(2), int64(2), uint8(32)\n",
      "memory usage: 442.3 KB\n"
     ]
    }
   ],
   "source": [
    "X_train.info()"
   ]
  },
  {
   "cell_type": "markdown",
   "id": "875ff88a",
   "metadata": {},
   "source": [
    "### Scaling of Data"
   ]
  },
  {
   "cell_type": "code",
   "execution_count": 75,
   "id": "6963f49d",
   "metadata": {},
   "outputs": [
    {
     "data": {
      "text/html": [
       "<div>\n",
       "<style scoped>\n",
       "    .dataframe tbody tr th:only-of-type {\n",
       "        vertical-align: middle;\n",
       "    }\n",
       "\n",
       "    .dataframe tbody tr th {\n",
       "        vertical-align: top;\n",
       "    }\n",
       "\n",
       "    .dataframe thead th {\n",
       "        text-align: right;\n",
       "    }\n",
       "</style>\n",
       "<table border=\"1\" class=\"dataframe\">\n",
       "  <thead>\n",
       "    <tr style=\"text-align: right;\">\n",
       "      <th></th>\n",
       "      <th>TotalVisits</th>\n",
       "      <th>time_on_website</th>\n",
       "      <th>Page Views Per Visit</th>\n",
       "      <th>mastering_interview</th>\n",
       "      <th>Lead Origin_Landing Page Submission</th>\n",
       "      <th>Lead Origin_Lead Add Form</th>\n",
       "      <th>Lead Origin_Lead Import</th>\n",
       "      <th>Lead Source_Google</th>\n",
       "      <th>Lead Source_Olark Chat</th>\n",
       "      <th>Lead Source_Organic Search</th>\n",
       "      <th>...</th>\n",
       "      <th>City_Other Metro Cities</th>\n",
       "      <th>City_Thane &amp; Outskirts</th>\n",
       "      <th>Last Activity_Email Bounced</th>\n",
       "      <th>Last Activity_Email Link Clicked</th>\n",
       "      <th>Last Activity_Email Opened</th>\n",
       "      <th>Last Activity_Form Submitted on Website</th>\n",
       "      <th>Last Activity_Olark Chat Conversation</th>\n",
       "      <th>Last Activity_Others</th>\n",
       "      <th>Last Activity_Page Visited on Website</th>\n",
       "      <th>Last Activity_SMS Sent</th>\n",
       "    </tr>\n",
       "  </thead>\n",
       "  <tbody>\n",
       "    <tr>\n",
       "      <th>990</th>\n",
       "      <td>-0.057807</td>\n",
       "      <td>-0.530536</td>\n",
       "      <td>-0.408395</td>\n",
       "      <td>0</td>\n",
       "      <td>0</td>\n",
       "      <td>0</td>\n",
       "      <td>0</td>\n",
       "      <td>0</td>\n",
       "      <td>0</td>\n",
       "      <td>0</td>\n",
       "      <td>...</td>\n",
       "      <td>0</td>\n",
       "      <td>0</td>\n",
       "      <td>0</td>\n",
       "      <td>0</td>\n",
       "      <td>1</td>\n",
       "      <td>0</td>\n",
       "      <td>0</td>\n",
       "      <td>0</td>\n",
       "      <td>0</td>\n",
       "      <td>0</td>\n",
       "    </tr>\n",
       "    <tr>\n",
       "      <th>1482</th>\n",
       "      <td>-0.057807</td>\n",
       "      <td>-0.234880</td>\n",
       "      <td>0.389576</td>\n",
       "      <td>0</td>\n",
       "      <td>1</td>\n",
       "      <td>0</td>\n",
       "      <td>0</td>\n",
       "      <td>1</td>\n",
       "      <td>0</td>\n",
       "      <td>0</td>\n",
       "      <td>...</td>\n",
       "      <td>0</td>\n",
       "      <td>0</td>\n",
       "      <td>0</td>\n",
       "      <td>0</td>\n",
       "      <td>1</td>\n",
       "      <td>0</td>\n",
       "      <td>0</td>\n",
       "      <td>0</td>\n",
       "      <td>0</td>\n",
       "      <td>0</td>\n",
       "    </tr>\n",
       "    <tr>\n",
       "      <th>110</th>\n",
       "      <td>0.936721</td>\n",
       "      <td>0.768503</td>\n",
       "      <td>1.985519</td>\n",
       "      <td>0</td>\n",
       "      <td>1</td>\n",
       "      <td>0</td>\n",
       "      <td>0</td>\n",
       "      <td>0</td>\n",
       "      <td>0</td>\n",
       "      <td>1</td>\n",
       "      <td>...</td>\n",
       "      <td>0</td>\n",
       "      <td>0</td>\n",
       "      <td>0</td>\n",
       "      <td>0</td>\n",
       "      <td>1</td>\n",
       "      <td>0</td>\n",
       "      <td>0</td>\n",
       "      <td>0</td>\n",
       "      <td>0</td>\n",
       "      <td>0</td>\n",
       "    </tr>\n",
       "    <tr>\n",
       "      <th>4627</th>\n",
       "      <td>-0.389317</td>\n",
       "      <td>1.162095</td>\n",
       "      <td>-0.142404</td>\n",
       "      <td>0</td>\n",
       "      <td>1</td>\n",
       "      <td>0</td>\n",
       "      <td>0</td>\n",
       "      <td>0</td>\n",
       "      <td>0</td>\n",
       "      <td>0</td>\n",
       "      <td>...</td>\n",
       "      <td>0</td>\n",
       "      <td>0</td>\n",
       "      <td>0</td>\n",
       "      <td>0</td>\n",
       "      <td>1</td>\n",
       "      <td>0</td>\n",
       "      <td>0</td>\n",
       "      <td>0</td>\n",
       "      <td>0</td>\n",
       "      <td>0</td>\n",
       "    </tr>\n",
       "    <tr>\n",
       "      <th>5220</th>\n",
       "      <td>-1.052336</td>\n",
       "      <td>-0.885323</td>\n",
       "      <td>-1.206366</td>\n",
       "      <td>0</td>\n",
       "      <td>0</td>\n",
       "      <td>0</td>\n",
       "      <td>0</td>\n",
       "      <td>0</td>\n",
       "      <td>1</td>\n",
       "      <td>0</td>\n",
       "      <td>...</td>\n",
       "      <td>0</td>\n",
       "      <td>0</td>\n",
       "      <td>0</td>\n",
       "      <td>0</td>\n",
       "      <td>0</td>\n",
       "      <td>0</td>\n",
       "      <td>0</td>\n",
       "      <td>0</td>\n",
       "      <td>0</td>\n",
       "      <td>1</td>\n",
       "    </tr>\n",
       "  </tbody>\n",
       "</table>\n",
       "<p>5 rows × 36 columns</p>\n",
       "</div>"
      ],
      "text/plain": [
       "      TotalVisits  time_on_website  Page Views Per Visit  mastering_interview  \\\n",
       "990     -0.057807        -0.530536             -0.408395                    0   \n",
       "1482    -0.057807        -0.234880              0.389576                    0   \n",
       "110      0.936721         0.768503              1.985519                    0   \n",
       "4627    -0.389317         1.162095             -0.142404                    0   \n",
       "5220    -1.052336        -0.885323             -1.206366                    0   \n",
       "\n",
       "      Lead Origin_Landing Page Submission  Lead Origin_Lead Add Form  \\\n",
       "990                                     0                          0   \n",
       "1482                                    1                          0   \n",
       "110                                     1                          0   \n",
       "4627                                    1                          0   \n",
       "5220                                    0                          0   \n",
       "\n",
       "      Lead Origin_Lead Import  Lead Source_Google  Lead Source_Olark Chat  \\\n",
       "990                         0                   0                       0   \n",
       "1482                        0                   1                       0   \n",
       "110                         0                   0                       0   \n",
       "4627                        0                   0                       0   \n",
       "5220                        0                   0                       1   \n",
       "\n",
       "      Lead Source_Organic Search  ...  City_Other Metro Cities  \\\n",
       "990                            0  ...                        0   \n",
       "1482                           0  ...                        0   \n",
       "110                            1  ...                        0   \n",
       "4627                           0  ...                        0   \n",
       "5220                           0  ...                        0   \n",
       "\n",
       "      City_Thane & Outskirts  Last Activity_Email Bounced  \\\n",
       "990                        0                            0   \n",
       "1482                       0                            0   \n",
       "110                        0                            0   \n",
       "4627                       0                            0   \n",
       "5220                       0                            0   \n",
       "\n",
       "      Last Activity_Email Link Clicked  Last Activity_Email Opened  \\\n",
       "990                                  0                           1   \n",
       "1482                                 0                           1   \n",
       "110                                  0                           1   \n",
       "4627                                 0                           1   \n",
       "5220                                 0                           0   \n",
       "\n",
       "      Last Activity_Form Submitted on Website  \\\n",
       "990                                         0   \n",
       "1482                                        0   \n",
       "110                                         0   \n",
       "4627                                        0   \n",
       "5220                                        0   \n",
       "\n",
       "      Last Activity_Olark Chat Conversation  Last Activity_Others  \\\n",
       "990                                       0                     0   \n",
       "1482                                      0                     0   \n",
       "110                                       0                     0   \n",
       "4627                                      0                     0   \n",
       "5220                                      0                     0   \n",
       "\n",
       "      Last Activity_Page Visited on Website  Last Activity_SMS Sent  \n",
       "990                                       0                       0  \n",
       "1482                                      0                       0  \n",
       "110                                       0                       0  \n",
       "4627                                      0                       0  \n",
       "5220                                      0                       1  \n",
       "\n",
       "[5 rows x 36 columns]"
      ]
     },
     "execution_count": 75,
     "metadata": {},
     "output_type": "execute_result"
    }
   ],
   "source": [
    "scaler = StandardScaler()\n",
    "\n",
    "X_train[['TotalVisits','time_on_website','Page Views Per Visit']] = scaler.fit_transform(\n",
    "    X_train[['TotalVisits','time_on_website','Page Views Per Visit']])\n",
    "\n",
    "X_train.head()"
   ]
  },
  {
   "cell_type": "code",
   "execution_count": 76,
   "id": "a548e750",
   "metadata": {},
   "outputs": [
    {
     "data": {
      "text/html": [
       "<div>\n",
       "<style scoped>\n",
       "    .dataframe tbody tr th:only-of-type {\n",
       "        vertical-align: middle;\n",
       "    }\n",
       "\n",
       "    .dataframe tbody tr th {\n",
       "        vertical-align: top;\n",
       "    }\n",
       "\n",
       "    .dataframe thead th {\n",
       "        text-align: right;\n",
       "    }\n",
       "</style>\n",
       "<table border=\"1\" class=\"dataframe\">\n",
       "  <thead>\n",
       "    <tr style=\"text-align: right;\">\n",
       "      <th></th>\n",
       "      <th>Converted</th>\n",
       "      <th>TotalVisits</th>\n",
       "      <th>time_on_website</th>\n",
       "      <th>Page Views Per Visit</th>\n",
       "      <th>mastering_interview</th>\n",
       "      <th>Lead Origin_Landing Page Submission</th>\n",
       "      <th>Lead Origin_Lead Add Form</th>\n",
       "      <th>Lead Origin_Lead Import</th>\n",
       "      <th>Lead Source_Google</th>\n",
       "      <th>Lead Source_Olark Chat</th>\n",
       "      <th>...</th>\n",
       "      <th>City_Other Metro Cities</th>\n",
       "      <th>City_Thane &amp; Outskirts</th>\n",
       "      <th>Last Activity_Email Bounced</th>\n",
       "      <th>Last Activity_Email Link Clicked</th>\n",
       "      <th>Last Activity_Email Opened</th>\n",
       "      <th>Last Activity_Form Submitted on Website</th>\n",
       "      <th>Last Activity_Olark Chat Conversation</th>\n",
       "      <th>Last Activity_Others</th>\n",
       "      <th>Last Activity_Page Visited on Website</th>\n",
       "      <th>Last Activity_SMS Sent</th>\n",
       "    </tr>\n",
       "  </thead>\n",
       "  <tbody>\n",
       "    <tr>\n",
       "      <th>Converted</th>\n",
       "      <td>1.000000</td>\n",
       "      <td>0.043841</td>\n",
       "      <td>0.351835</td>\n",
       "      <td>-0.006072</td>\n",
       "      <td>NaN</td>\n",
       "      <td>-0.040602</td>\n",
       "      <td>0.308564</td>\n",
       "      <td>-0.010799</td>\n",
       "      <td>0.027799</td>\n",
       "      <td>-0.126005</td>\n",
       "      <td>...</td>\n",
       "      <td>0.008993</td>\n",
       "      <td>0.043534</td>\n",
       "      <td>-0.127952</td>\n",
       "      <td>-0.038240</td>\n",
       "      <td>-0.026567</td>\n",
       "      <td>-0.033929</td>\n",
       "      <td>-0.210801</td>\n",
       "      <td>0.004284</td>\n",
       "      <td>-0.079703</td>\n",
       "      <td>0.340347</td>\n",
       "    </tr>\n",
       "    <tr>\n",
       "      <th>TotalVisits</th>\n",
       "      <td>0.043841</td>\n",
       "      <td>1.000000</td>\n",
       "      <td>0.340028</td>\n",
       "      <td>0.694981</td>\n",
       "      <td>NaN</td>\n",
       "      <td>0.422352</td>\n",
       "      <td>-0.260246</td>\n",
       "      <td>-0.056648</td>\n",
       "      <td>0.199538</td>\n",
       "      <td>-0.460695</td>\n",
       "      <td>...</td>\n",
       "      <td>0.065776</td>\n",
       "      <td>0.089989</td>\n",
       "      <td>-0.061388</td>\n",
       "      <td>-0.030355</td>\n",
       "      <td>0.056053</td>\n",
       "      <td>0.025720</td>\n",
       "      <td>-0.202853</td>\n",
       "      <td>0.035211</td>\n",
       "      <td>0.232945</td>\n",
       "      <td>0.012581</td>\n",
       "    </tr>\n",
       "    <tr>\n",
       "      <th>time_on_website</th>\n",
       "      <td>0.351835</td>\n",
       "      <td>0.340028</td>\n",
       "      <td>1.000000</td>\n",
       "      <td>0.350531</td>\n",
       "      <td>NaN</td>\n",
       "      <td>0.295862</td>\n",
       "      <td>-0.194314</td>\n",
       "      <td>-0.051448</td>\n",
       "      <td>0.221184</td>\n",
       "      <td>-0.378215</td>\n",
       "      <td>...</td>\n",
       "      <td>0.047007</td>\n",
       "      <td>0.077930</td>\n",
       "      <td>-0.035855</td>\n",
       "      <td>-0.039395</td>\n",
       "      <td>0.008992</td>\n",
       "      <td>0.010352</td>\n",
       "      <td>-0.190757</td>\n",
       "      <td>0.012811</td>\n",
       "      <td>0.033833</td>\n",
       "      <td>0.126297</td>\n",
       "    </tr>\n",
       "    <tr>\n",
       "      <th>Page Views Per Visit</th>\n",
       "      <td>-0.006072</td>\n",
       "      <td>0.694981</td>\n",
       "      <td>0.350531</td>\n",
       "      <td>1.000000</td>\n",
       "      <td>NaN</td>\n",
       "      <td>0.537837</td>\n",
       "      <td>-0.303102</td>\n",
       "      <td>-0.062509</td>\n",
       "      <td>0.252716</td>\n",
       "      <td>-0.552173</td>\n",
       "      <td>...</td>\n",
       "      <td>0.095270</td>\n",
       "      <td>0.090637</td>\n",
       "      <td>-0.036115</td>\n",
       "      <td>-0.041927</td>\n",
       "      <td>0.071563</td>\n",
       "      <td>0.013090</td>\n",
       "      <td>-0.252151</td>\n",
       "      <td>0.046775</td>\n",
       "      <td>0.105406</td>\n",
       "      <td>0.077948</td>\n",
       "    </tr>\n",
       "    <tr>\n",
       "      <th>mastering_interview</th>\n",
       "      <td>NaN</td>\n",
       "      <td>NaN</td>\n",
       "      <td>NaN</td>\n",
       "      <td>NaN</td>\n",
       "      <td>NaN</td>\n",
       "      <td>NaN</td>\n",
       "      <td>NaN</td>\n",
       "      <td>NaN</td>\n",
       "      <td>NaN</td>\n",
       "      <td>NaN</td>\n",
       "      <td>...</td>\n",
       "      <td>NaN</td>\n",
       "      <td>NaN</td>\n",
       "      <td>NaN</td>\n",
       "      <td>NaN</td>\n",
       "      <td>NaN</td>\n",
       "      <td>NaN</td>\n",
       "      <td>NaN</td>\n",
       "      <td>NaN</td>\n",
       "      <td>NaN</td>\n",
       "      <td>NaN</td>\n",
       "    </tr>\n",
       "    <tr>\n",
       "      <th>Lead Origin_Landing Page Submission</th>\n",
       "      <td>-0.040602</td>\n",
       "      <td>0.422352</td>\n",
       "      <td>0.295862</td>\n",
       "      <td>0.537837</td>\n",
       "      <td>NaN</td>\n",
       "      <td>1.000000</td>\n",
       "      <td>-0.287985</td>\n",
       "      <td>-0.062954</td>\n",
       "      <td>0.083134</td>\n",
       "      <td>-0.526552</td>\n",
       "      <td>...</td>\n",
       "      <td>0.161255</td>\n",
       "      <td>0.156444</td>\n",
       "      <td>0.069533</td>\n",
       "      <td>-0.034250</td>\n",
       "      <td>0.043267</td>\n",
       "      <td>0.046854</td>\n",
       "      <td>-0.311093</td>\n",
       "      <td>0.036845</td>\n",
       "      <td>0.085452</td>\n",
       "      <td>0.060740</td>\n",
       "    </tr>\n",
       "    <tr>\n",
       "      <th>Lead Origin_Lead Add Form</th>\n",
       "      <td>0.308564</td>\n",
       "      <td>-0.260246</td>\n",
       "      <td>-0.194314</td>\n",
       "      <td>-0.303102</td>\n",
       "      <td>NaN</td>\n",
       "      <td>-0.287985</td>\n",
       "      <td>1.000000</td>\n",
       "      <td>-0.015832</td>\n",
       "      <td>-0.182098</td>\n",
       "      <td>-0.130185</td>\n",
       "      <td>...</td>\n",
       "      <td>-0.048806</td>\n",
       "      <td>0.001357</td>\n",
       "      <td>-0.048524</td>\n",
       "      <td>0.013578</td>\n",
       "      <td>-0.013242</td>\n",
       "      <td>-0.014858</td>\n",
       "      <td>-0.086288</td>\n",
       "      <td>-0.011452</td>\n",
       "      <td>-0.039126</td>\n",
       "      <td>0.143207</td>\n",
       "    </tr>\n",
       "    <tr>\n",
       "      <th>Lead Origin_Lead Import</th>\n",
       "      <td>-0.010799</td>\n",
       "      <td>-0.056648</td>\n",
       "      <td>-0.051448</td>\n",
       "      <td>-0.062509</td>\n",
       "      <td>NaN</td>\n",
       "      <td>-0.062954</td>\n",
       "      <td>-0.015832</td>\n",
       "      <td>1.000000</td>\n",
       "      <td>-0.040015</td>\n",
       "      <td>-0.028948</td>\n",
       "      <td>...</td>\n",
       "      <td>-0.002549</td>\n",
       "      <td>-0.003554</td>\n",
       "      <td>-0.011138</td>\n",
       "      <td>-0.010234</td>\n",
       "      <td>0.051974</td>\n",
       "      <td>-0.006698</td>\n",
       "      <td>-0.020427</td>\n",
       "      <td>-0.008599</td>\n",
       "      <td>-0.015874</td>\n",
       "      <td>-0.013802</td>\n",
       "    </tr>\n",
       "    <tr>\n",
       "      <th>Lead Source_Google</th>\n",
       "      <td>0.027799</td>\n",
       "      <td>0.199538</td>\n",
       "      <td>0.221184</td>\n",
       "      <td>0.252716</td>\n",
       "      <td>NaN</td>\n",
       "      <td>0.083134</td>\n",
       "      <td>-0.182098</td>\n",
       "      <td>-0.040015</td>\n",
       "      <td>1.000000</td>\n",
       "      <td>-0.334692</td>\n",
       "      <td>...</td>\n",
       "      <td>-0.069013</td>\n",
       "      <td>0.063774</td>\n",
       "      <td>-0.052849</td>\n",
       "      <td>-0.023388</td>\n",
       "      <td>0.031664</td>\n",
       "      <td>0.060935</td>\n",
       "      <td>-0.089468</td>\n",
       "      <td>0.019282</td>\n",
       "      <td>0.020975</td>\n",
       "      <td>0.011863</td>\n",
       "    </tr>\n",
       "    <tr>\n",
       "      <th>Lead Source_Olark Chat</th>\n",
       "      <td>-0.126005</td>\n",
       "      <td>-0.460695</td>\n",
       "      <td>-0.378215</td>\n",
       "      <td>-0.552173</td>\n",
       "      <td>NaN</td>\n",
       "      <td>-0.526552</td>\n",
       "      <td>-0.130185</td>\n",
       "      <td>-0.028948</td>\n",
       "      <td>-0.334692</td>\n",
       "      <td>1.000000</td>\n",
       "      <td>...</td>\n",
       "      <td>-0.085914</td>\n",
       "      <td>-0.112110</td>\n",
       "      <td>-0.020933</td>\n",
       "      <td>0.047471</td>\n",
       "      <td>-0.043070</td>\n",
       "      <td>-0.031029</td>\n",
       "      <td>0.424653</td>\n",
       "      <td>-0.040520</td>\n",
       "      <td>-0.094808</td>\n",
       "      <td>-0.127132</td>\n",
       "    </tr>\n",
       "    <tr>\n",
       "      <th>Lead Source_Organic Search</th>\n",
       "      <td>-0.007580</td>\n",
       "      <td>0.278089</td>\n",
       "      <td>0.097616</td>\n",
       "      <td>0.305819</td>\n",
       "      <td>NaN</td>\n",
       "      <td>0.047331</td>\n",
       "      <td>-0.100707</td>\n",
       "      <td>-0.022015</td>\n",
       "      <td>-0.254530</td>\n",
       "      <td>-0.184132</td>\n",
       "      <td>...</td>\n",
       "      <td>0.083790</td>\n",
       "      <td>-0.030339</td>\n",
       "      <td>0.020029</td>\n",
       "      <td>-0.018925</td>\n",
       "      <td>-0.021235</td>\n",
       "      <td>-0.027522</td>\n",
       "      <td>-0.075235</td>\n",
       "      <td>0.030573</td>\n",
       "      <td>0.025704</td>\n",
       "      <td>0.030660</td>\n",
       "    </tr>\n",
       "    <tr>\n",
       "      <th>Lead Source_Other Social Sites</th>\n",
       "      <td>0.257284</td>\n",
       "      <td>-0.212238</td>\n",
       "      <td>-0.179322</td>\n",
       "      <td>-0.251508</td>\n",
       "      <td>NaN</td>\n",
       "      <td>-0.296141</td>\n",
       "      <td>0.871347</td>\n",
       "      <td>0.191514</td>\n",
       "      <td>-0.208943</td>\n",
       "      <td>-0.151153</td>\n",
       "      <td>...</td>\n",
       "      <td>-0.043352</td>\n",
       "      <td>-0.002575</td>\n",
       "      <td>-0.049481</td>\n",
       "      <td>0.014640</td>\n",
       "      <td>0.005725</td>\n",
       "      <td>-0.017338</td>\n",
       "      <td>-0.081076</td>\n",
       "      <td>0.002187</td>\n",
       "      <td>-0.023005</td>\n",
       "      <td>0.102456</td>\n",
       "    </tr>\n",
       "    <tr>\n",
       "      <th>Specialization_Business Administration</th>\n",
       "      <td>0.023888</td>\n",
       "      <td>0.065141</td>\n",
       "      <td>0.052197</td>\n",
       "      <td>0.068072</td>\n",
       "      <td>NaN</td>\n",
       "      <td>0.135129</td>\n",
       "      <td>-0.011882</td>\n",
       "      <td>-0.003271</td>\n",
       "      <td>0.021093</td>\n",
       "      <td>-0.083076</td>\n",
       "      <td>...</td>\n",
       "      <td>0.024757</td>\n",
       "      <td>0.020465</td>\n",
       "      <td>-0.013603</td>\n",
       "      <td>-0.014564</td>\n",
       "      <td>0.018875</td>\n",
       "      <td>-0.004923</td>\n",
       "      <td>-0.065357</td>\n",
       "      <td>0.010661</td>\n",
       "      <td>0.013852</td>\n",
       "      <td>0.024862</td>\n",
       "    </tr>\n",
       "    <tr>\n",
       "      <th>Specialization_E-Business</th>\n",
       "      <td>-0.001807</td>\n",
       "      <td>0.033140</td>\n",
       "      <td>0.020723</td>\n",
       "      <td>0.045492</td>\n",
       "      <td>NaN</td>\n",
       "      <td>0.063418</td>\n",
       "      <td>-0.010330</td>\n",
       "      <td>-0.004700</td>\n",
       "      <td>-0.003103</td>\n",
       "      <td>-0.039310</td>\n",
       "      <td>...</td>\n",
       "      <td>0.011845</td>\n",
       "      <td>-0.013443</td>\n",
       "      <td>0.000212</td>\n",
       "      <td>-0.005597</td>\n",
       "      <td>-0.001588</td>\n",
       "      <td>0.040788</td>\n",
       "      <td>-0.009646</td>\n",
       "      <td>0.007911</td>\n",
       "      <td>0.011878</td>\n",
       "      <td>-0.006621</td>\n",
       "    </tr>\n",
       "    <tr>\n",
       "      <th>Specialization_E-COMMERCE</th>\n",
       "      <td>-0.006260</td>\n",
       "      <td>0.038020</td>\n",
       "      <td>-0.003007</td>\n",
       "      <td>0.045022</td>\n",
       "      <td>NaN</td>\n",
       "      <td>0.078495</td>\n",
       "      <td>-0.017472</td>\n",
       "      <td>0.028347</td>\n",
       "      <td>-0.024509</td>\n",
       "      <td>-0.046532</td>\n",
       "      <td>...</td>\n",
       "      <td>0.003045</td>\n",
       "      <td>0.000944</td>\n",
       "      <td>0.001469</td>\n",
       "      <td>-0.007089</td>\n",
       "      <td>-0.008066</td>\n",
       "      <td>-0.012555</td>\n",
       "      <td>-0.028405</td>\n",
       "      <td>0.012423</td>\n",
       "      <td>0.014901</td>\n",
       "      <td>0.012181</td>\n",
       "    </tr>\n",
       "    <tr>\n",
       "      <th>Specialization_International Business</th>\n",
       "      <td>-0.007123</td>\n",
       "      <td>0.054898</td>\n",
       "      <td>0.023922</td>\n",
       "      <td>0.075094</td>\n",
       "      <td>NaN</td>\n",
       "      <td>0.096343</td>\n",
       "      <td>-0.027882</td>\n",
       "      <td>0.005634</td>\n",
       "      <td>0.011516</td>\n",
       "      <td>-0.058480</td>\n",
       "      <td>...</td>\n",
       "      <td>0.004009</td>\n",
       "      <td>0.006157</td>\n",
       "      <td>0.000216</td>\n",
       "      <td>-0.009870</td>\n",
       "      <td>0.011679</td>\n",
       "      <td>-0.008676</td>\n",
       "      <td>-0.035394</td>\n",
       "      <td>0.013632</td>\n",
       "      <td>-0.005403</td>\n",
       "      <td>0.018050</td>\n",
       "    </tr>\n",
       "    <tr>\n",
       "      <th>Specialization_Management_Specializations</th>\n",
       "      <td>0.128872</td>\n",
       "      <td>0.219074</td>\n",
       "      <td>0.212125</td>\n",
       "      <td>0.269434</td>\n",
       "      <td>NaN</td>\n",
       "      <td>0.503968</td>\n",
       "      <td>0.015302</td>\n",
       "      <td>-0.020137</td>\n",
       "      <td>0.080886</td>\n",
       "      <td>-0.351346</td>\n",
       "      <td>...</td>\n",
       "      <td>0.099060</td>\n",
       "      <td>0.159880</td>\n",
       "      <td>0.004452</td>\n",
       "      <td>-0.006200</td>\n",
       "      <td>0.065684</td>\n",
       "      <td>0.075449</td>\n",
       "      <td>-0.244002</td>\n",
       "      <td>0.025488</td>\n",
       "      <td>0.035338</td>\n",
       "      <td>0.050702</td>\n",
       "    </tr>\n",
       "    <tr>\n",
       "      <th>Specialization_Media and Advertising</th>\n",
       "      <td>0.008236</td>\n",
       "      <td>0.063014</td>\n",
       "      <td>0.040283</td>\n",
       "      <td>0.073256</td>\n",
       "      <td>NaN</td>\n",
       "      <td>0.100287</td>\n",
       "      <td>-0.034230</td>\n",
       "      <td>0.004155</td>\n",
       "      <td>0.004390</td>\n",
       "      <td>-0.058314</td>\n",
       "      <td>...</td>\n",
       "      <td>0.034389</td>\n",
       "      <td>-0.008234</td>\n",
       "      <td>-0.015868</td>\n",
       "      <td>-0.021541</td>\n",
       "      <td>-0.005450</td>\n",
       "      <td>0.016764</td>\n",
       "      <td>-0.042168</td>\n",
       "      <td>0.009979</td>\n",
       "      <td>0.032115</td>\n",
       "      <td>0.035889</td>\n",
       "    </tr>\n",
       "    <tr>\n",
       "      <th>Specialization_Not_Specified</th>\n",
       "      <td>-0.157137</td>\n",
       "      <td>-0.375055</td>\n",
       "      <td>-0.298463</td>\n",
       "      <td>-0.445606</td>\n",
       "      <td>NaN</td>\n",
       "      <td>-0.756513</td>\n",
       "      <td>0.024868</td>\n",
       "      <td>0.022314</td>\n",
       "      <td>-0.071886</td>\n",
       "      <td>0.507491</td>\n",
       "      <td>...</td>\n",
       "      <td>-0.150831</td>\n",
       "      <td>-0.200869</td>\n",
       "      <td>-0.008514</td>\n",
       "      <td>0.027982</td>\n",
       "      <td>-0.073690</td>\n",
       "      <td>-0.082334</td>\n",
       "      <td>0.350662</td>\n",
       "      <td>-0.039958</td>\n",
       "      <td>-0.069878</td>\n",
       "      <td>-0.097170</td>\n",
       "    </tr>\n",
       "    <tr>\n",
       "      <th>Specialization_Rural and Agribusiness</th>\n",
       "      <td>0.010523</td>\n",
       "      <td>0.045793</td>\n",
       "      <td>0.023821</td>\n",
       "      <td>0.028561</td>\n",
       "      <td>NaN</td>\n",
       "      <td>0.055674</td>\n",
       "      <td>-0.013998</td>\n",
       "      <td>-0.005250</td>\n",
       "      <td>-0.028264</td>\n",
       "      <td>-0.034390</td>\n",
       "      <td>...</td>\n",
       "      <td>0.019693</td>\n",
       "      <td>0.010361</td>\n",
       "      <td>0.010612</td>\n",
       "      <td>-0.008079</td>\n",
       "      <td>0.008184</td>\n",
       "      <td>-0.010159</td>\n",
       "      <td>-0.026927</td>\n",
       "      <td>0.022086</td>\n",
       "      <td>0.030887</td>\n",
       "      <td>-0.012009</td>\n",
       "    </tr>\n",
       "    <tr>\n",
       "      <th>Specialization_Services Excellence</th>\n",
       "      <td>-0.015609</td>\n",
       "      <td>0.023668</td>\n",
       "      <td>0.004044</td>\n",
       "      <td>0.013418</td>\n",
       "      <td>NaN</td>\n",
       "      <td>0.050580</td>\n",
       "      <td>-0.010703</td>\n",
       "      <td>-0.003833</td>\n",
       "      <td>-0.025884</td>\n",
       "      <td>-0.027734</td>\n",
       "      <td>...</td>\n",
       "      <td>0.012550</td>\n",
       "      <td>0.005795</td>\n",
       "      <td>0.043956</td>\n",
       "      <td>0.029287</td>\n",
       "      <td>-0.015440</td>\n",
       "      <td>-0.007418</td>\n",
       "      <td>-0.017091</td>\n",
       "      <td>-0.009524</td>\n",
       "      <td>0.016505</td>\n",
       "      <td>-0.001663</td>\n",
       "    </tr>\n",
       "    <tr>\n",
       "      <th>Specialization_Travel and Tourism</th>\n",
       "      <td>-0.009844</td>\n",
       "      <td>0.095712</td>\n",
       "      <td>0.041641</td>\n",
       "      <td>0.108931</td>\n",
       "      <td>NaN</td>\n",
       "      <td>0.110737</td>\n",
       "      <td>-0.036808</td>\n",
       "      <td>-0.008715</td>\n",
       "      <td>-0.049594</td>\n",
       "      <td>-0.063204</td>\n",
       "      <td>...</td>\n",
       "      <td>0.066396</td>\n",
       "      <td>-0.001779</td>\n",
       "      <td>0.047547</td>\n",
       "      <td>-0.021224</td>\n",
       "      <td>-0.015774</td>\n",
       "      <td>0.003624</td>\n",
       "      <td>-0.048958</td>\n",
       "      <td>-0.000198</td>\n",
       "      <td>0.027164</td>\n",
       "      <td>0.013171</td>\n",
       "    </tr>\n",
       "    <tr>\n",
       "      <th>occupation_Student</th>\n",
       "      <td>-0.007335</td>\n",
       "      <td>-0.029690</td>\n",
       "      <td>-0.012465</td>\n",
       "      <td>-0.036139</td>\n",
       "      <td>NaN</td>\n",
       "      <td>0.000846</td>\n",
       "      <td>0.009371</td>\n",
       "      <td>-0.008988</td>\n",
       "      <td>-0.033403</td>\n",
       "      <td>0.022650</td>\n",
       "      <td>...</td>\n",
       "      <td>0.002370</td>\n",
       "      <td>-0.012577</td>\n",
       "      <td>0.032240</td>\n",
       "      <td>-0.000094</td>\n",
       "      <td>0.022282</td>\n",
       "      <td>-0.017393</td>\n",
       "      <td>0.028728</td>\n",
       "      <td>-0.017123</td>\n",
       "      <td>0.000258</td>\n",
       "      <td>-0.049938</td>\n",
       "    </tr>\n",
       "    <tr>\n",
       "      <th>occupation_Unemployed</th>\n",
       "      <td>-0.278948</td>\n",
       "      <td>0.008596</td>\n",
       "      <td>-0.083187</td>\n",
       "      <td>0.023640</td>\n",
       "      <td>NaN</td>\n",
       "      <td>0.000477</td>\n",
       "      <td>-0.172025</td>\n",
       "      <td>0.007090</td>\n",
       "      <td>0.029862</td>\n",
       "      <td>0.066797</td>\n",
       "      <td>...</td>\n",
       "      <td>-0.013083</td>\n",
       "      <td>0.005937</td>\n",
       "      <td>0.020926</td>\n",
       "      <td>0.012282</td>\n",
       "      <td>0.001160</td>\n",
       "      <td>0.008523</td>\n",
       "      <td>0.059006</td>\n",
       "      <td>0.005037</td>\n",
       "      <td>0.018349</td>\n",
       "      <td>-0.078242</td>\n",
       "    </tr>\n",
       "    <tr>\n",
       "      <th>occupation_Working Professional</th>\n",
       "      <td>0.315298</td>\n",
       "      <td>0.001779</td>\n",
       "      <td>0.096397</td>\n",
       "      <td>-0.008668</td>\n",
       "      <td>NaN</td>\n",
       "      <td>-0.000166</td>\n",
       "      <td>0.188395</td>\n",
       "      <td>-0.002269</td>\n",
       "      <td>-0.014787</td>\n",
       "      <td>-0.085267</td>\n",
       "      <td>...</td>\n",
       "      <td>0.014121</td>\n",
       "      <td>-0.000541</td>\n",
       "      <td>-0.039878</td>\n",
       "      <td>-0.014312</td>\n",
       "      <td>-0.019797</td>\n",
       "      <td>-0.005971</td>\n",
       "      <td>-0.082229</td>\n",
       "      <td>0.002854</td>\n",
       "      <td>-0.026153</td>\n",
       "      <td>0.125403</td>\n",
       "    </tr>\n",
       "    <tr>\n",
       "      <th>City_Other Cities</th>\n",
       "      <td>0.010459</td>\n",
       "      <td>0.093697</td>\n",
       "      <td>0.063090</td>\n",
       "      <td>0.111885</td>\n",
       "      <td>NaN</td>\n",
       "      <td>0.194901</td>\n",
       "      <td>-0.052115</td>\n",
       "      <td>0.002912</td>\n",
       "      <td>-0.078248</td>\n",
       "      <td>-0.103379</td>\n",
       "      <td>...</td>\n",
       "      <td>-0.062119</td>\n",
       "      <td>-0.089381</td>\n",
       "      <td>0.015773</td>\n",
       "      <td>0.007301</td>\n",
       "      <td>0.027919</td>\n",
       "      <td>-0.002000</td>\n",
       "      <td>-0.079823</td>\n",
       "      <td>0.020771</td>\n",
       "      <td>0.011702</td>\n",
       "      <td>0.000017</td>\n",
       "    </tr>\n",
       "    <tr>\n",
       "      <th>City_Other Cities of Maharashtra</th>\n",
       "      <td>0.025372</td>\n",
       "      <td>0.053955</td>\n",
       "      <td>0.065739</td>\n",
       "      <td>0.085875</td>\n",
       "      <td>NaN</td>\n",
       "      <td>0.152465</td>\n",
       "      <td>-0.040320</td>\n",
       "      <td>0.092455</td>\n",
       "      <td>-0.008383</td>\n",
       "      <td>-0.094413</td>\n",
       "      <td>...</td>\n",
       "      <td>-0.046699</td>\n",
       "      <td>-0.067194</td>\n",
       "      <td>0.002388</td>\n",
       "      <td>-0.017950</td>\n",
       "      <td>0.032407</td>\n",
       "      <td>-0.002778</td>\n",
       "      <td>-0.070249</td>\n",
       "      <td>-0.000583</td>\n",
       "      <td>-0.009710</td>\n",
       "      <td>0.026001</td>\n",
       "    </tr>\n",
       "    <tr>\n",
       "      <th>City_Other Metro Cities</th>\n",
       "      <td>0.008993</td>\n",
       "      <td>0.065776</td>\n",
       "      <td>0.047007</td>\n",
       "      <td>0.095270</td>\n",
       "      <td>NaN</td>\n",
       "      <td>0.161255</td>\n",
       "      <td>-0.048806</td>\n",
       "      <td>-0.002549</td>\n",
       "      <td>-0.069013</td>\n",
       "      <td>-0.085914</td>\n",
       "      <td>...</td>\n",
       "      <td>1.000000</td>\n",
       "      <td>-0.061253</td>\n",
       "      <td>0.025534</td>\n",
       "      <td>-0.019244</td>\n",
       "      <td>0.028118</td>\n",
       "      <td>-0.013485</td>\n",
       "      <td>-0.064382</td>\n",
       "      <td>0.005200</td>\n",
       "      <td>-0.006499</td>\n",
       "      <td>0.020180</td>\n",
       "    </tr>\n",
       "    <tr>\n",
       "      <th>City_Thane &amp; Outskirts</th>\n",
       "      <td>0.043534</td>\n",
       "      <td>0.089989</td>\n",
       "      <td>0.077930</td>\n",
       "      <td>0.090637</td>\n",
       "      <td>NaN</td>\n",
       "      <td>0.156444</td>\n",
       "      <td>0.001357</td>\n",
       "      <td>-0.003554</td>\n",
       "      <td>0.063774</td>\n",
       "      <td>-0.112110</td>\n",
       "      <td>...</td>\n",
       "      <td>-0.061253</td>\n",
       "      <td>1.000000</td>\n",
       "      <td>-0.002655</td>\n",
       "      <td>-0.010586</td>\n",
       "      <td>0.042699</td>\n",
       "      <td>0.046028</td>\n",
       "      <td>-0.083339</td>\n",
       "      <td>0.002202</td>\n",
       "      <td>0.023658</td>\n",
       "      <td>-0.007341</td>\n",
       "    </tr>\n",
       "    <tr>\n",
       "      <th>Last Activity_Email Bounced</th>\n",
       "      <td>-0.127952</td>\n",
       "      <td>-0.061388</td>\n",
       "      <td>-0.035855</td>\n",
       "      <td>-0.036115</td>\n",
       "      <td>NaN</td>\n",
       "      <td>0.069533</td>\n",
       "      <td>-0.048524</td>\n",
       "      <td>-0.011138</td>\n",
       "      <td>-0.052849</td>\n",
       "      <td>-0.020933</td>\n",
       "      <td>...</td>\n",
       "      <td>0.025534</td>\n",
       "      <td>-0.002655</td>\n",
       "      <td>1.000000</td>\n",
       "      <td>-0.032934</td>\n",
       "      <td>-0.147605</td>\n",
       "      <td>-0.021553</td>\n",
       "      <td>-0.065735</td>\n",
       "      <td>-0.027672</td>\n",
       "      <td>-0.051085</td>\n",
       "      <td>-0.124287</td>\n",
       "    </tr>\n",
       "    <tr>\n",
       "      <th>Last Activity_Email Link Clicked</th>\n",
       "      <td>-0.038240</td>\n",
       "      <td>-0.030355</td>\n",
       "      <td>-0.039395</td>\n",
       "      <td>-0.041927</td>\n",
       "      <td>NaN</td>\n",
       "      <td>-0.034250</td>\n",
       "      <td>0.013578</td>\n",
       "      <td>-0.010234</td>\n",
       "      <td>-0.023388</td>\n",
       "      <td>0.047471</td>\n",
       "      <td>...</td>\n",
       "      <td>-0.019244</td>\n",
       "      <td>-0.010586</td>\n",
       "      <td>-0.032934</td>\n",
       "      <td>1.000000</td>\n",
       "      <td>-0.135628</td>\n",
       "      <td>-0.019804</td>\n",
       "      <td>-0.060401</td>\n",
       "      <td>-0.025426</td>\n",
       "      <td>-0.046940</td>\n",
       "      <td>-0.114202</td>\n",
       "    </tr>\n",
       "    <tr>\n",
       "      <th>Last Activity_Email Opened</th>\n",
       "      <td>-0.026567</td>\n",
       "      <td>0.056053</td>\n",
       "      <td>0.008992</td>\n",
       "      <td>0.071563</td>\n",
       "      <td>NaN</td>\n",
       "      <td>0.043267</td>\n",
       "      <td>-0.013242</td>\n",
       "      <td>0.051974</td>\n",
       "      <td>0.031664</td>\n",
       "      <td>-0.043070</td>\n",
       "      <td>...</td>\n",
       "      <td>0.028118</td>\n",
       "      <td>0.042699</td>\n",
       "      <td>-0.147605</td>\n",
       "      <td>-0.135628</td>\n",
       "      <td>1.000000</td>\n",
       "      <td>-0.088760</td>\n",
       "      <td>-0.270710</td>\n",
       "      <td>-0.113958</td>\n",
       "      <td>-0.210378</td>\n",
       "      <td>-0.511842</td>\n",
       "    </tr>\n",
       "    <tr>\n",
       "      <th>Last Activity_Form Submitted on Website</th>\n",
       "      <td>-0.033929</td>\n",
       "      <td>0.025720</td>\n",
       "      <td>0.010352</td>\n",
       "      <td>0.013090</td>\n",
       "      <td>NaN</td>\n",
       "      <td>0.046854</td>\n",
       "      <td>-0.014858</td>\n",
       "      <td>-0.006698</td>\n",
       "      <td>0.060935</td>\n",
       "      <td>-0.031029</td>\n",
       "      <td>...</td>\n",
       "      <td>-0.013485</td>\n",
       "      <td>0.046028</td>\n",
       "      <td>-0.021553</td>\n",
       "      <td>-0.019804</td>\n",
       "      <td>-0.088760</td>\n",
       "      <td>1.000000</td>\n",
       "      <td>-0.039529</td>\n",
       "      <td>-0.016640</td>\n",
       "      <td>-0.030719</td>\n",
       "      <td>-0.074738</td>\n",
       "    </tr>\n",
       "    <tr>\n",
       "      <th>Last Activity_Olark Chat Conversation</th>\n",
       "      <td>-0.210801</td>\n",
       "      <td>-0.202853</td>\n",
       "      <td>-0.190757</td>\n",
       "      <td>-0.252151</td>\n",
       "      <td>NaN</td>\n",
       "      <td>-0.311093</td>\n",
       "      <td>-0.086288</td>\n",
       "      <td>-0.020427</td>\n",
       "      <td>-0.089468</td>\n",
       "      <td>0.424653</td>\n",
       "      <td>...</td>\n",
       "      <td>-0.064382</td>\n",
       "      <td>-0.083339</td>\n",
       "      <td>-0.065735</td>\n",
       "      <td>-0.060401</td>\n",
       "      <td>-0.270710</td>\n",
       "      <td>-0.039529</td>\n",
       "      <td>1.000000</td>\n",
       "      <td>-0.050750</td>\n",
       "      <td>-0.093690</td>\n",
       "      <td>-0.227944</td>\n",
       "    </tr>\n",
       "    <tr>\n",
       "      <th>Last Activity_Others</th>\n",
       "      <td>0.004284</td>\n",
       "      <td>0.035211</td>\n",
       "      <td>0.012811</td>\n",
       "      <td>0.046775</td>\n",
       "      <td>NaN</td>\n",
       "      <td>0.036845</td>\n",
       "      <td>-0.011452</td>\n",
       "      <td>-0.008599</td>\n",
       "      <td>0.019282</td>\n",
       "      <td>-0.040520</td>\n",
       "      <td>...</td>\n",
       "      <td>0.005200</td>\n",
       "      <td>0.002202</td>\n",
       "      <td>-0.027672</td>\n",
       "      <td>-0.025426</td>\n",
       "      <td>-0.113958</td>\n",
       "      <td>-0.016640</td>\n",
       "      <td>-0.050750</td>\n",
       "      <td>1.000000</td>\n",
       "      <td>-0.039440</td>\n",
       "      <td>-0.095955</td>\n",
       "    </tr>\n",
       "    <tr>\n",
       "      <th>Last Activity_Page Visited on Website</th>\n",
       "      <td>-0.079703</td>\n",
       "      <td>0.232945</td>\n",
       "      <td>0.033833</td>\n",
       "      <td>0.105406</td>\n",
       "      <td>NaN</td>\n",
       "      <td>0.085452</td>\n",
       "      <td>-0.039126</td>\n",
       "      <td>-0.015874</td>\n",
       "      <td>0.020975</td>\n",
       "      <td>-0.094808</td>\n",
       "      <td>...</td>\n",
       "      <td>-0.006499</td>\n",
       "      <td>0.023658</td>\n",
       "      <td>-0.051085</td>\n",
       "      <td>-0.046940</td>\n",
       "      <td>-0.210378</td>\n",
       "      <td>-0.030719</td>\n",
       "      <td>-0.093690</td>\n",
       "      <td>-0.039440</td>\n",
       "      <td>1.000000</td>\n",
       "      <td>-0.177143</td>\n",
       "    </tr>\n",
       "    <tr>\n",
       "      <th>Last Activity_SMS Sent</th>\n",
       "      <td>0.340347</td>\n",
       "      <td>0.012581</td>\n",
       "      <td>0.126297</td>\n",
       "      <td>0.077948</td>\n",
       "      <td>NaN</td>\n",
       "      <td>0.060740</td>\n",
       "      <td>0.143207</td>\n",
       "      <td>-0.013802</td>\n",
       "      <td>0.011863</td>\n",
       "      <td>-0.127132</td>\n",
       "      <td>...</td>\n",
       "      <td>0.020180</td>\n",
       "      <td>-0.007341</td>\n",
       "      <td>-0.124287</td>\n",
       "      <td>-0.114202</td>\n",
       "      <td>-0.511842</td>\n",
       "      <td>-0.074738</td>\n",
       "      <td>-0.227944</td>\n",
       "      <td>-0.095955</td>\n",
       "      <td>-0.177143</td>\n",
       "      <td>1.000000</td>\n",
       "    </tr>\n",
       "  </tbody>\n",
       "</table>\n",
       "<p>37 rows × 37 columns</p>\n",
       "</div>"
      ],
      "text/plain": [
       "                                           Converted  TotalVisits  \\\n",
       "Converted                                   1.000000     0.043841   \n",
       "TotalVisits                                 0.043841     1.000000   \n",
       "time_on_website                             0.351835     0.340028   \n",
       "Page Views Per Visit                       -0.006072     0.694981   \n",
       "mastering_interview                              NaN          NaN   \n",
       "Lead Origin_Landing Page Submission        -0.040602     0.422352   \n",
       "Lead Origin_Lead Add Form                   0.308564    -0.260246   \n",
       "Lead Origin_Lead Import                    -0.010799    -0.056648   \n",
       "Lead Source_Google                          0.027799     0.199538   \n",
       "Lead Source_Olark Chat                     -0.126005    -0.460695   \n",
       "Lead Source_Organic Search                 -0.007580     0.278089   \n",
       "Lead Source_Other Social Sites              0.257284    -0.212238   \n",
       "Specialization_Business Administration      0.023888     0.065141   \n",
       "Specialization_E-Business                  -0.001807     0.033140   \n",
       "Specialization_E-COMMERCE                  -0.006260     0.038020   \n",
       "Specialization_International Business      -0.007123     0.054898   \n",
       "Specialization_Management_Specializations   0.128872     0.219074   \n",
       "Specialization_Media and Advertising        0.008236     0.063014   \n",
       "Specialization_Not_Specified               -0.157137    -0.375055   \n",
       "Specialization_Rural and Agribusiness       0.010523     0.045793   \n",
       "Specialization_Services Excellence         -0.015609     0.023668   \n",
       "Specialization_Travel and Tourism          -0.009844     0.095712   \n",
       "occupation_Student                         -0.007335    -0.029690   \n",
       "occupation_Unemployed                      -0.278948     0.008596   \n",
       "occupation_Working Professional             0.315298     0.001779   \n",
       "City_Other Cities                           0.010459     0.093697   \n",
       "City_Other Cities of Maharashtra            0.025372     0.053955   \n",
       "City_Other Metro Cities                     0.008993     0.065776   \n",
       "City_Thane & Outskirts                      0.043534     0.089989   \n",
       "Last Activity_Email Bounced                -0.127952    -0.061388   \n",
       "Last Activity_Email Link Clicked           -0.038240    -0.030355   \n",
       "Last Activity_Email Opened                 -0.026567     0.056053   \n",
       "Last Activity_Form Submitted on Website    -0.033929     0.025720   \n",
       "Last Activity_Olark Chat Conversation      -0.210801    -0.202853   \n",
       "Last Activity_Others                        0.004284     0.035211   \n",
       "Last Activity_Page Visited on Website      -0.079703     0.232945   \n",
       "Last Activity_SMS Sent                      0.340347     0.012581   \n",
       "\n",
       "                                           time_on_website  \\\n",
       "Converted                                         0.351835   \n",
       "TotalVisits                                       0.340028   \n",
       "time_on_website                                   1.000000   \n",
       "Page Views Per Visit                              0.350531   \n",
       "mastering_interview                                    NaN   \n",
       "Lead Origin_Landing Page Submission               0.295862   \n",
       "Lead Origin_Lead Add Form                        -0.194314   \n",
       "Lead Origin_Lead Import                          -0.051448   \n",
       "Lead Source_Google                                0.221184   \n",
       "Lead Source_Olark Chat                           -0.378215   \n",
       "Lead Source_Organic Search                        0.097616   \n",
       "Lead Source_Other Social Sites                   -0.179322   \n",
       "Specialization_Business Administration            0.052197   \n",
       "Specialization_E-Business                         0.020723   \n",
       "Specialization_E-COMMERCE                        -0.003007   \n",
       "Specialization_International Business             0.023922   \n",
       "Specialization_Management_Specializations         0.212125   \n",
       "Specialization_Media and Advertising              0.040283   \n",
       "Specialization_Not_Specified                     -0.298463   \n",
       "Specialization_Rural and Agribusiness             0.023821   \n",
       "Specialization_Services Excellence                0.004044   \n",
       "Specialization_Travel and Tourism                 0.041641   \n",
       "occupation_Student                               -0.012465   \n",
       "occupation_Unemployed                            -0.083187   \n",
       "occupation_Working Professional                   0.096397   \n",
       "City_Other Cities                                 0.063090   \n",
       "City_Other Cities of Maharashtra                  0.065739   \n",
       "City_Other Metro Cities                           0.047007   \n",
       "City_Thane & Outskirts                            0.077930   \n",
       "Last Activity_Email Bounced                      -0.035855   \n",
       "Last Activity_Email Link Clicked                 -0.039395   \n",
       "Last Activity_Email Opened                        0.008992   \n",
       "Last Activity_Form Submitted on Website           0.010352   \n",
       "Last Activity_Olark Chat Conversation            -0.190757   \n",
       "Last Activity_Others                              0.012811   \n",
       "Last Activity_Page Visited on Website             0.033833   \n",
       "Last Activity_SMS Sent                            0.126297   \n",
       "\n",
       "                                           Page Views Per Visit  \\\n",
       "Converted                                             -0.006072   \n",
       "TotalVisits                                            0.694981   \n",
       "time_on_website                                        0.350531   \n",
       "Page Views Per Visit                                   1.000000   \n",
       "mastering_interview                                         NaN   \n",
       "Lead Origin_Landing Page Submission                    0.537837   \n",
       "Lead Origin_Lead Add Form                             -0.303102   \n",
       "Lead Origin_Lead Import                               -0.062509   \n",
       "Lead Source_Google                                     0.252716   \n",
       "Lead Source_Olark Chat                                -0.552173   \n",
       "Lead Source_Organic Search                             0.305819   \n",
       "Lead Source_Other Social Sites                        -0.251508   \n",
       "Specialization_Business Administration                 0.068072   \n",
       "Specialization_E-Business                              0.045492   \n",
       "Specialization_E-COMMERCE                              0.045022   \n",
       "Specialization_International Business                  0.075094   \n",
       "Specialization_Management_Specializations              0.269434   \n",
       "Specialization_Media and Advertising                   0.073256   \n",
       "Specialization_Not_Specified                          -0.445606   \n",
       "Specialization_Rural and Agribusiness                  0.028561   \n",
       "Specialization_Services Excellence                     0.013418   \n",
       "Specialization_Travel and Tourism                      0.108931   \n",
       "occupation_Student                                    -0.036139   \n",
       "occupation_Unemployed                                  0.023640   \n",
       "occupation_Working Professional                       -0.008668   \n",
       "City_Other Cities                                      0.111885   \n",
       "City_Other Cities of Maharashtra                       0.085875   \n",
       "City_Other Metro Cities                                0.095270   \n",
       "City_Thane & Outskirts                                 0.090637   \n",
       "Last Activity_Email Bounced                           -0.036115   \n",
       "Last Activity_Email Link Clicked                      -0.041927   \n",
       "Last Activity_Email Opened                             0.071563   \n",
       "Last Activity_Form Submitted on Website                0.013090   \n",
       "Last Activity_Olark Chat Conversation                 -0.252151   \n",
       "Last Activity_Others                                   0.046775   \n",
       "Last Activity_Page Visited on Website                  0.105406   \n",
       "Last Activity_SMS Sent                                 0.077948   \n",
       "\n",
       "                                           mastering_interview  \\\n",
       "Converted                                                  NaN   \n",
       "TotalVisits                                                NaN   \n",
       "time_on_website                                            NaN   \n",
       "Page Views Per Visit                                       NaN   \n",
       "mastering_interview                                        NaN   \n",
       "Lead Origin_Landing Page Submission                        NaN   \n",
       "Lead Origin_Lead Add Form                                  NaN   \n",
       "Lead Origin_Lead Import                                    NaN   \n",
       "Lead Source_Google                                         NaN   \n",
       "Lead Source_Olark Chat                                     NaN   \n",
       "Lead Source_Organic Search                                 NaN   \n",
       "Lead Source_Other Social Sites                             NaN   \n",
       "Specialization_Business Administration                     NaN   \n",
       "Specialization_E-Business                                  NaN   \n",
       "Specialization_E-COMMERCE                                  NaN   \n",
       "Specialization_International Business                      NaN   \n",
       "Specialization_Management_Specializations                  NaN   \n",
       "Specialization_Media and Advertising                       NaN   \n",
       "Specialization_Not_Specified                               NaN   \n",
       "Specialization_Rural and Agribusiness                      NaN   \n",
       "Specialization_Services Excellence                         NaN   \n",
       "Specialization_Travel and Tourism                          NaN   \n",
       "occupation_Student                                         NaN   \n",
       "occupation_Unemployed                                      NaN   \n",
       "occupation_Working Professional                            NaN   \n",
       "City_Other Cities                                          NaN   \n",
       "City_Other Cities of Maharashtra                           NaN   \n",
       "City_Other Metro Cities                                    NaN   \n",
       "City_Thane & Outskirts                                     NaN   \n",
       "Last Activity_Email Bounced                                NaN   \n",
       "Last Activity_Email Link Clicked                           NaN   \n",
       "Last Activity_Email Opened                                 NaN   \n",
       "Last Activity_Form Submitted on Website                    NaN   \n",
       "Last Activity_Olark Chat Conversation                      NaN   \n",
       "Last Activity_Others                                       NaN   \n",
       "Last Activity_Page Visited on Website                      NaN   \n",
       "Last Activity_SMS Sent                                     NaN   \n",
       "\n",
       "                                           Lead Origin_Landing Page Submission  \\\n",
       "Converted                                                            -0.040602   \n",
       "TotalVisits                                                           0.422352   \n",
       "time_on_website                                                       0.295862   \n",
       "Page Views Per Visit                                                  0.537837   \n",
       "mastering_interview                                                        NaN   \n",
       "Lead Origin_Landing Page Submission                                   1.000000   \n",
       "Lead Origin_Lead Add Form                                            -0.287985   \n",
       "Lead Origin_Lead Import                                              -0.062954   \n",
       "Lead Source_Google                                                    0.083134   \n",
       "Lead Source_Olark Chat                                               -0.526552   \n",
       "Lead Source_Organic Search                                            0.047331   \n",
       "Lead Source_Other Social Sites                                       -0.296141   \n",
       "Specialization_Business Administration                                0.135129   \n",
       "Specialization_E-Business                                             0.063418   \n",
       "Specialization_E-COMMERCE                                             0.078495   \n",
       "Specialization_International Business                                 0.096343   \n",
       "Specialization_Management_Specializations                             0.503968   \n",
       "Specialization_Media and Advertising                                  0.100287   \n",
       "Specialization_Not_Specified                                         -0.756513   \n",
       "Specialization_Rural and Agribusiness                                 0.055674   \n",
       "Specialization_Services Excellence                                    0.050580   \n",
       "Specialization_Travel and Tourism                                     0.110737   \n",
       "occupation_Student                                                    0.000846   \n",
       "occupation_Unemployed                                                 0.000477   \n",
       "occupation_Working Professional                                      -0.000166   \n",
       "City_Other Cities                                                     0.194901   \n",
       "City_Other Cities of Maharashtra                                      0.152465   \n",
       "City_Other Metro Cities                                               0.161255   \n",
       "City_Thane & Outskirts                                                0.156444   \n",
       "Last Activity_Email Bounced                                           0.069533   \n",
       "Last Activity_Email Link Clicked                                     -0.034250   \n",
       "Last Activity_Email Opened                                            0.043267   \n",
       "Last Activity_Form Submitted on Website                               0.046854   \n",
       "Last Activity_Olark Chat Conversation                                -0.311093   \n",
       "Last Activity_Others                                                  0.036845   \n",
       "Last Activity_Page Visited on Website                                 0.085452   \n",
       "Last Activity_SMS Sent                                                0.060740   \n",
       "\n",
       "                                           Lead Origin_Lead Add Form  \\\n",
       "Converted                                                   0.308564   \n",
       "TotalVisits                                                -0.260246   \n",
       "time_on_website                                            -0.194314   \n",
       "Page Views Per Visit                                       -0.303102   \n",
       "mastering_interview                                              NaN   \n",
       "Lead Origin_Landing Page Submission                        -0.287985   \n",
       "Lead Origin_Lead Add Form                                   1.000000   \n",
       "Lead Origin_Lead Import                                    -0.015832   \n",
       "Lead Source_Google                                         -0.182098   \n",
       "Lead Source_Olark Chat                                     -0.130185   \n",
       "Lead Source_Organic Search                                 -0.100707   \n",
       "Lead Source_Other Social Sites                              0.871347   \n",
       "Specialization_Business Administration                     -0.011882   \n",
       "Specialization_E-Business                                  -0.010330   \n",
       "Specialization_E-COMMERCE                                  -0.017472   \n",
       "Specialization_International Business                      -0.027882   \n",
       "Specialization_Management_Specializations                   0.015302   \n",
       "Specialization_Media and Advertising                       -0.034230   \n",
       "Specialization_Not_Specified                                0.024868   \n",
       "Specialization_Rural and Agribusiness                      -0.013998   \n",
       "Specialization_Services Excellence                         -0.010703   \n",
       "Specialization_Travel and Tourism                          -0.036808   \n",
       "occupation_Student                                          0.009371   \n",
       "occupation_Unemployed                                      -0.172025   \n",
       "occupation_Working Professional                             0.188395   \n",
       "City_Other Cities                                          -0.052115   \n",
       "City_Other Cities of Maharashtra                           -0.040320   \n",
       "City_Other Metro Cities                                    -0.048806   \n",
       "City_Thane & Outskirts                                      0.001357   \n",
       "Last Activity_Email Bounced                                -0.048524   \n",
       "Last Activity_Email Link Clicked                            0.013578   \n",
       "Last Activity_Email Opened                                 -0.013242   \n",
       "Last Activity_Form Submitted on Website                    -0.014858   \n",
       "Last Activity_Olark Chat Conversation                      -0.086288   \n",
       "Last Activity_Others                                       -0.011452   \n",
       "Last Activity_Page Visited on Website                      -0.039126   \n",
       "Last Activity_SMS Sent                                      0.143207   \n",
       "\n",
       "                                           Lead Origin_Lead Import  \\\n",
       "Converted                                                -0.010799   \n",
       "TotalVisits                                              -0.056648   \n",
       "time_on_website                                          -0.051448   \n",
       "Page Views Per Visit                                     -0.062509   \n",
       "mastering_interview                                            NaN   \n",
       "Lead Origin_Landing Page Submission                      -0.062954   \n",
       "Lead Origin_Lead Add Form                                -0.015832   \n",
       "Lead Origin_Lead Import                                   1.000000   \n",
       "Lead Source_Google                                       -0.040015   \n",
       "Lead Source_Olark Chat                                   -0.028948   \n",
       "Lead Source_Organic Search                               -0.022015   \n",
       "Lead Source_Other Social Sites                            0.191514   \n",
       "Specialization_Business Administration                   -0.003271   \n",
       "Specialization_E-Business                                -0.004700   \n",
       "Specialization_E-COMMERCE                                 0.028347   \n",
       "Specialization_International Business                     0.005634   \n",
       "Specialization_Management_Specializations                -0.020137   \n",
       "Specialization_Media and Advertising                      0.004155   \n",
       "Specialization_Not_Specified                              0.022314   \n",
       "Specialization_Rural and Agribusiness                    -0.005250   \n",
       "Specialization_Services Excellence                       -0.003833   \n",
       "Specialization_Travel and Tourism                        -0.008715   \n",
       "occupation_Student                                       -0.008988   \n",
       "occupation_Unemployed                                     0.007090   \n",
       "occupation_Working Professional                          -0.002269   \n",
       "City_Other Cities                                         0.002912   \n",
       "City_Other Cities of Maharashtra                          0.092455   \n",
       "City_Other Metro Cities                                  -0.002549   \n",
       "City_Thane & Outskirts                                   -0.003554   \n",
       "Last Activity_Email Bounced                              -0.011138   \n",
       "Last Activity_Email Link Clicked                         -0.010234   \n",
       "Last Activity_Email Opened                                0.051974   \n",
       "Last Activity_Form Submitted on Website                  -0.006698   \n",
       "Last Activity_Olark Chat Conversation                    -0.020427   \n",
       "Last Activity_Others                                     -0.008599   \n",
       "Last Activity_Page Visited on Website                    -0.015874   \n",
       "Last Activity_SMS Sent                                   -0.013802   \n",
       "\n",
       "                                           Lead Source_Google  \\\n",
       "Converted                                            0.027799   \n",
       "TotalVisits                                          0.199538   \n",
       "time_on_website                                      0.221184   \n",
       "Page Views Per Visit                                 0.252716   \n",
       "mastering_interview                                       NaN   \n",
       "Lead Origin_Landing Page Submission                  0.083134   \n",
       "Lead Origin_Lead Add Form                           -0.182098   \n",
       "Lead Origin_Lead Import                             -0.040015   \n",
       "Lead Source_Google                                   1.000000   \n",
       "Lead Source_Olark Chat                              -0.334692   \n",
       "Lead Source_Organic Search                          -0.254530   \n",
       "Lead Source_Other Social Sites                      -0.208943   \n",
       "Specialization_Business Administration               0.021093   \n",
       "Specialization_E-Business                           -0.003103   \n",
       "Specialization_E-COMMERCE                           -0.024509   \n",
       "Specialization_International Business                0.011516   \n",
       "Specialization_Management_Specializations            0.080886   \n",
       "Specialization_Media and Advertising                 0.004390   \n",
       "Specialization_Not_Specified                        -0.071886   \n",
       "Specialization_Rural and Agribusiness               -0.028264   \n",
       "Specialization_Services Excellence                  -0.025884   \n",
       "Specialization_Travel and Tourism                   -0.049594   \n",
       "occupation_Student                                  -0.033403   \n",
       "occupation_Unemployed                                0.029862   \n",
       "occupation_Working Professional                     -0.014787   \n",
       "City_Other Cities                                   -0.078248   \n",
       "City_Other Cities of Maharashtra                    -0.008383   \n",
       "City_Other Metro Cities                             -0.069013   \n",
       "City_Thane & Outskirts                               0.063774   \n",
       "Last Activity_Email Bounced                         -0.052849   \n",
       "Last Activity_Email Link Clicked                    -0.023388   \n",
       "Last Activity_Email Opened                           0.031664   \n",
       "Last Activity_Form Submitted on Website              0.060935   \n",
       "Last Activity_Olark Chat Conversation               -0.089468   \n",
       "Last Activity_Others                                 0.019282   \n",
       "Last Activity_Page Visited on Website                0.020975   \n",
       "Last Activity_SMS Sent                               0.011863   \n",
       "\n",
       "                                           Lead Source_Olark Chat  ...  \\\n",
       "Converted                                               -0.126005  ...   \n",
       "TotalVisits                                             -0.460695  ...   \n",
       "time_on_website                                         -0.378215  ...   \n",
       "Page Views Per Visit                                    -0.552173  ...   \n",
       "mastering_interview                                           NaN  ...   \n",
       "Lead Origin_Landing Page Submission                     -0.526552  ...   \n",
       "Lead Origin_Lead Add Form                               -0.130185  ...   \n",
       "Lead Origin_Lead Import                                 -0.028948  ...   \n",
       "Lead Source_Google                                      -0.334692  ...   \n",
       "Lead Source_Olark Chat                                   1.000000  ...   \n",
       "Lead Source_Organic Search                              -0.184132  ...   \n",
       "Lead Source_Other Social Sites                          -0.151153  ...   \n",
       "Specialization_Business Administration                  -0.083076  ...   \n",
       "Specialization_E-Business                               -0.039310  ...   \n",
       "Specialization_E-COMMERCE                               -0.046532  ...   \n",
       "Specialization_International Business                   -0.058480  ...   \n",
       "Specialization_Management_Specializations               -0.351346  ...   \n",
       "Specialization_Media and Advertising                    -0.058314  ...   \n",
       "Specialization_Not_Specified                             0.507491  ...   \n",
       "Specialization_Rural and Agribusiness                   -0.034390  ...   \n",
       "Specialization_Services Excellence                      -0.027734  ...   \n",
       "Specialization_Travel and Tourism                       -0.063204  ...   \n",
       "occupation_Student                                       0.022650  ...   \n",
       "occupation_Unemployed                                    0.066797  ...   \n",
       "occupation_Working Professional                         -0.085267  ...   \n",
       "City_Other Cities                                       -0.103379  ...   \n",
       "City_Other Cities of Maharashtra                        -0.094413  ...   \n",
       "City_Other Metro Cities                                 -0.085914  ...   \n",
       "City_Thane & Outskirts                                  -0.112110  ...   \n",
       "Last Activity_Email Bounced                             -0.020933  ...   \n",
       "Last Activity_Email Link Clicked                         0.047471  ...   \n",
       "Last Activity_Email Opened                              -0.043070  ...   \n",
       "Last Activity_Form Submitted on Website                 -0.031029  ...   \n",
       "Last Activity_Olark Chat Conversation                    0.424653  ...   \n",
       "Last Activity_Others                                    -0.040520  ...   \n",
       "Last Activity_Page Visited on Website                   -0.094808  ...   \n",
       "Last Activity_SMS Sent                                  -0.127132  ...   \n",
       "\n",
       "                                           City_Other Metro Cities  \\\n",
       "Converted                                                 0.008993   \n",
       "TotalVisits                                               0.065776   \n",
       "time_on_website                                           0.047007   \n",
       "Page Views Per Visit                                      0.095270   \n",
       "mastering_interview                                            NaN   \n",
       "Lead Origin_Landing Page Submission                       0.161255   \n",
       "Lead Origin_Lead Add Form                                -0.048806   \n",
       "Lead Origin_Lead Import                                  -0.002549   \n",
       "Lead Source_Google                                       -0.069013   \n",
       "Lead Source_Olark Chat                                   -0.085914   \n",
       "Lead Source_Organic Search                                0.083790   \n",
       "Lead Source_Other Social Sites                           -0.043352   \n",
       "Specialization_Business Administration                    0.024757   \n",
       "Specialization_E-Business                                 0.011845   \n",
       "Specialization_E-COMMERCE                                 0.003045   \n",
       "Specialization_International Business                     0.004009   \n",
       "Specialization_Management_Specializations                 0.099060   \n",
       "Specialization_Media and Advertising                      0.034389   \n",
       "Specialization_Not_Specified                             -0.150831   \n",
       "Specialization_Rural and Agribusiness                     0.019693   \n",
       "Specialization_Services Excellence                        0.012550   \n",
       "Specialization_Travel and Tourism                         0.066396   \n",
       "occupation_Student                                        0.002370   \n",
       "occupation_Unemployed                                    -0.013083   \n",
       "occupation_Working Professional                           0.014121   \n",
       "City_Other Cities                                        -0.062119   \n",
       "City_Other Cities of Maharashtra                         -0.046699   \n",
       "City_Other Metro Cities                                   1.000000   \n",
       "City_Thane & Outskirts                                   -0.061253   \n",
       "Last Activity_Email Bounced                               0.025534   \n",
       "Last Activity_Email Link Clicked                         -0.019244   \n",
       "Last Activity_Email Opened                                0.028118   \n",
       "Last Activity_Form Submitted on Website                  -0.013485   \n",
       "Last Activity_Olark Chat Conversation                    -0.064382   \n",
       "Last Activity_Others                                      0.005200   \n",
       "Last Activity_Page Visited on Website                    -0.006499   \n",
       "Last Activity_SMS Sent                                    0.020180   \n",
       "\n",
       "                                           City_Thane & Outskirts  \\\n",
       "Converted                                                0.043534   \n",
       "TotalVisits                                              0.089989   \n",
       "time_on_website                                          0.077930   \n",
       "Page Views Per Visit                                     0.090637   \n",
       "mastering_interview                                           NaN   \n",
       "Lead Origin_Landing Page Submission                      0.156444   \n",
       "Lead Origin_Lead Add Form                                0.001357   \n",
       "Lead Origin_Lead Import                                 -0.003554   \n",
       "Lead Source_Google                                       0.063774   \n",
       "Lead Source_Olark Chat                                  -0.112110   \n",
       "Lead Source_Organic Search                              -0.030339   \n",
       "Lead Source_Other Social Sites                          -0.002575   \n",
       "Specialization_Business Administration                   0.020465   \n",
       "Specialization_E-Business                               -0.013443   \n",
       "Specialization_E-COMMERCE                                0.000944   \n",
       "Specialization_International Business                    0.006157   \n",
       "Specialization_Management_Specializations                0.159880   \n",
       "Specialization_Media and Advertising                    -0.008234   \n",
       "Specialization_Not_Specified                            -0.200869   \n",
       "Specialization_Rural and Agribusiness                    0.010361   \n",
       "Specialization_Services Excellence                       0.005795   \n",
       "Specialization_Travel and Tourism                       -0.001779   \n",
       "occupation_Student                                      -0.012577   \n",
       "occupation_Unemployed                                    0.005937   \n",
       "occupation_Working Professional                         -0.000541   \n",
       "City_Other Cities                                       -0.089381   \n",
       "City_Other Cities of Maharashtra                        -0.067194   \n",
       "City_Other Metro Cities                                 -0.061253   \n",
       "City_Thane & Outskirts                                   1.000000   \n",
       "Last Activity_Email Bounced                             -0.002655   \n",
       "Last Activity_Email Link Clicked                        -0.010586   \n",
       "Last Activity_Email Opened                               0.042699   \n",
       "Last Activity_Form Submitted on Website                  0.046028   \n",
       "Last Activity_Olark Chat Conversation                   -0.083339   \n",
       "Last Activity_Others                                     0.002202   \n",
       "Last Activity_Page Visited on Website                    0.023658   \n",
       "Last Activity_SMS Sent                                  -0.007341   \n",
       "\n",
       "                                           Last Activity_Email Bounced  \\\n",
       "Converted                                                    -0.127952   \n",
       "TotalVisits                                                  -0.061388   \n",
       "time_on_website                                              -0.035855   \n",
       "Page Views Per Visit                                         -0.036115   \n",
       "mastering_interview                                                NaN   \n",
       "Lead Origin_Landing Page Submission                           0.069533   \n",
       "Lead Origin_Lead Add Form                                    -0.048524   \n",
       "Lead Origin_Lead Import                                      -0.011138   \n",
       "Lead Source_Google                                           -0.052849   \n",
       "Lead Source_Olark Chat                                       -0.020933   \n",
       "Lead Source_Organic Search                                    0.020029   \n",
       "Lead Source_Other Social Sites                               -0.049481   \n",
       "Specialization_Business Administration                       -0.013603   \n",
       "Specialization_E-Business                                     0.000212   \n",
       "Specialization_E-COMMERCE                                     0.001469   \n",
       "Specialization_International Business                         0.000216   \n",
       "Specialization_Management_Specializations                     0.004452   \n",
       "Specialization_Media and Advertising                         -0.015868   \n",
       "Specialization_Not_Specified                                 -0.008514   \n",
       "Specialization_Rural and Agribusiness                         0.010612   \n",
       "Specialization_Services Excellence                            0.043956   \n",
       "Specialization_Travel and Tourism                             0.047547   \n",
       "occupation_Student                                            0.032240   \n",
       "occupation_Unemployed                                         0.020926   \n",
       "occupation_Working Professional                              -0.039878   \n",
       "City_Other Cities                                             0.015773   \n",
       "City_Other Cities of Maharashtra                              0.002388   \n",
       "City_Other Metro Cities                                       0.025534   \n",
       "City_Thane & Outskirts                                       -0.002655   \n",
       "Last Activity_Email Bounced                                   1.000000   \n",
       "Last Activity_Email Link Clicked                             -0.032934   \n",
       "Last Activity_Email Opened                                   -0.147605   \n",
       "Last Activity_Form Submitted on Website                      -0.021553   \n",
       "Last Activity_Olark Chat Conversation                        -0.065735   \n",
       "Last Activity_Others                                         -0.027672   \n",
       "Last Activity_Page Visited on Website                        -0.051085   \n",
       "Last Activity_SMS Sent                                       -0.124287   \n",
       "\n",
       "                                           Last Activity_Email Link Clicked  \\\n",
       "Converted                                                         -0.038240   \n",
       "TotalVisits                                                       -0.030355   \n",
       "time_on_website                                                   -0.039395   \n",
       "Page Views Per Visit                                              -0.041927   \n",
       "mastering_interview                                                     NaN   \n",
       "Lead Origin_Landing Page Submission                               -0.034250   \n",
       "Lead Origin_Lead Add Form                                          0.013578   \n",
       "Lead Origin_Lead Import                                           -0.010234   \n",
       "Lead Source_Google                                                -0.023388   \n",
       "Lead Source_Olark Chat                                             0.047471   \n",
       "Lead Source_Organic Search                                        -0.018925   \n",
       "Lead Source_Other Social Sites                                     0.014640   \n",
       "Specialization_Business Administration                            -0.014564   \n",
       "Specialization_E-Business                                         -0.005597   \n",
       "Specialization_E-COMMERCE                                         -0.007089   \n",
       "Specialization_International Business                             -0.009870   \n",
       "Specialization_Management_Specializations                         -0.006200   \n",
       "Specialization_Media and Advertising                              -0.021541   \n",
       "Specialization_Not_Specified                                       0.027982   \n",
       "Specialization_Rural and Agribusiness                             -0.008079   \n",
       "Specialization_Services Excellence                                 0.029287   \n",
       "Specialization_Travel and Tourism                                 -0.021224   \n",
       "occupation_Student                                                -0.000094   \n",
       "occupation_Unemployed                                              0.012282   \n",
       "occupation_Working Professional                                   -0.014312   \n",
       "City_Other Cities                                                  0.007301   \n",
       "City_Other Cities of Maharashtra                                  -0.017950   \n",
       "City_Other Metro Cities                                           -0.019244   \n",
       "City_Thane & Outskirts                                            -0.010586   \n",
       "Last Activity_Email Bounced                                       -0.032934   \n",
       "Last Activity_Email Link Clicked                                   1.000000   \n",
       "Last Activity_Email Opened                                        -0.135628   \n",
       "Last Activity_Form Submitted on Website                           -0.019804   \n",
       "Last Activity_Olark Chat Conversation                             -0.060401   \n",
       "Last Activity_Others                                              -0.025426   \n",
       "Last Activity_Page Visited on Website                             -0.046940   \n",
       "Last Activity_SMS Sent                                            -0.114202   \n",
       "\n",
       "                                           Last Activity_Email Opened  \\\n",
       "Converted                                                   -0.026567   \n",
       "TotalVisits                                                  0.056053   \n",
       "time_on_website                                              0.008992   \n",
       "Page Views Per Visit                                         0.071563   \n",
       "mastering_interview                                               NaN   \n",
       "Lead Origin_Landing Page Submission                          0.043267   \n",
       "Lead Origin_Lead Add Form                                   -0.013242   \n",
       "Lead Origin_Lead Import                                      0.051974   \n",
       "Lead Source_Google                                           0.031664   \n",
       "Lead Source_Olark Chat                                      -0.043070   \n",
       "Lead Source_Organic Search                                  -0.021235   \n",
       "Lead Source_Other Social Sites                               0.005725   \n",
       "Specialization_Business Administration                       0.018875   \n",
       "Specialization_E-Business                                   -0.001588   \n",
       "Specialization_E-COMMERCE                                   -0.008066   \n",
       "Specialization_International Business                        0.011679   \n",
       "Specialization_Management_Specializations                    0.065684   \n",
       "Specialization_Media and Advertising                        -0.005450   \n",
       "Specialization_Not_Specified                                -0.073690   \n",
       "Specialization_Rural and Agribusiness                        0.008184   \n",
       "Specialization_Services Excellence                          -0.015440   \n",
       "Specialization_Travel and Tourism                           -0.015774   \n",
       "occupation_Student                                           0.022282   \n",
       "occupation_Unemployed                                        0.001160   \n",
       "occupation_Working Professional                             -0.019797   \n",
       "City_Other Cities                                            0.027919   \n",
       "City_Other Cities of Maharashtra                             0.032407   \n",
       "City_Other Metro Cities                                      0.028118   \n",
       "City_Thane & Outskirts                                       0.042699   \n",
       "Last Activity_Email Bounced                                 -0.147605   \n",
       "Last Activity_Email Link Clicked                            -0.135628   \n",
       "Last Activity_Email Opened                                   1.000000   \n",
       "Last Activity_Form Submitted on Website                     -0.088760   \n",
       "Last Activity_Olark Chat Conversation                       -0.270710   \n",
       "Last Activity_Others                                        -0.113958   \n",
       "Last Activity_Page Visited on Website                       -0.210378   \n",
       "Last Activity_SMS Sent                                      -0.511842   \n",
       "\n",
       "                                           Last Activity_Form Submitted on Website  \\\n",
       "Converted                                                                -0.033929   \n",
       "TotalVisits                                                               0.025720   \n",
       "time_on_website                                                           0.010352   \n",
       "Page Views Per Visit                                                      0.013090   \n",
       "mastering_interview                                                            NaN   \n",
       "Lead Origin_Landing Page Submission                                       0.046854   \n",
       "Lead Origin_Lead Add Form                                                -0.014858   \n",
       "Lead Origin_Lead Import                                                  -0.006698   \n",
       "Lead Source_Google                                                        0.060935   \n",
       "Lead Source_Olark Chat                                                   -0.031029   \n",
       "Lead Source_Organic Search                                               -0.027522   \n",
       "Lead Source_Other Social Sites                                           -0.017338   \n",
       "Specialization_Business Administration                                   -0.004923   \n",
       "Specialization_E-Business                                                 0.040788   \n",
       "Specialization_E-COMMERCE                                                -0.012555   \n",
       "Specialization_International Business                                    -0.008676   \n",
       "Specialization_Management_Specializations                                 0.075449   \n",
       "Specialization_Media and Advertising                                      0.016764   \n",
       "Specialization_Not_Specified                                             -0.082334   \n",
       "Specialization_Rural and Agribusiness                                    -0.010159   \n",
       "Specialization_Services Excellence                                       -0.007418   \n",
       "Specialization_Travel and Tourism                                         0.003624   \n",
       "occupation_Student                                                       -0.017393   \n",
       "occupation_Unemployed                                                     0.008523   \n",
       "occupation_Working Professional                                          -0.005971   \n",
       "City_Other Cities                                                        -0.002000   \n",
       "City_Other Cities of Maharashtra                                         -0.002778   \n",
       "City_Other Metro Cities                                                  -0.013485   \n",
       "City_Thane & Outskirts                                                    0.046028   \n",
       "Last Activity_Email Bounced                                              -0.021553   \n",
       "Last Activity_Email Link Clicked                                         -0.019804   \n",
       "Last Activity_Email Opened                                               -0.088760   \n",
       "Last Activity_Form Submitted on Website                                   1.000000   \n",
       "Last Activity_Olark Chat Conversation                                    -0.039529   \n",
       "Last Activity_Others                                                     -0.016640   \n",
       "Last Activity_Page Visited on Website                                    -0.030719   \n",
       "Last Activity_SMS Sent                                                   -0.074738   \n",
       "\n",
       "                                           Last Activity_Olark Chat Conversation  \\\n",
       "Converted                                                              -0.210801   \n",
       "TotalVisits                                                            -0.202853   \n",
       "time_on_website                                                        -0.190757   \n",
       "Page Views Per Visit                                                   -0.252151   \n",
       "mastering_interview                                                          NaN   \n",
       "Lead Origin_Landing Page Submission                                    -0.311093   \n",
       "Lead Origin_Lead Add Form                                              -0.086288   \n",
       "Lead Origin_Lead Import                                                -0.020427   \n",
       "Lead Source_Google                                                     -0.089468   \n",
       "Lead Source_Olark Chat                                                  0.424653   \n",
       "Lead Source_Organic Search                                             -0.075235   \n",
       "Lead Source_Other Social Sites                                         -0.081076   \n",
       "Specialization_Business Administration                                 -0.065357   \n",
       "Specialization_E-Business                                              -0.009646   \n",
       "Specialization_E-COMMERCE                                              -0.028405   \n",
       "Specialization_International Business                                  -0.035394   \n",
       "Specialization_Management_Specializations                              -0.244002   \n",
       "Specialization_Media and Advertising                                   -0.042168   \n",
       "Specialization_Not_Specified                                            0.350662   \n",
       "Specialization_Rural and Agribusiness                                  -0.026927   \n",
       "Specialization_Services Excellence                                     -0.017091   \n",
       "Specialization_Travel and Tourism                                      -0.048958   \n",
       "occupation_Student                                                      0.028728   \n",
       "occupation_Unemployed                                                   0.059006   \n",
       "occupation_Working Professional                                        -0.082229   \n",
       "City_Other Cities                                                      -0.079823   \n",
       "City_Other Cities of Maharashtra                                       -0.070249   \n",
       "City_Other Metro Cities                                                -0.064382   \n",
       "City_Thane & Outskirts                                                 -0.083339   \n",
       "Last Activity_Email Bounced                                            -0.065735   \n",
       "Last Activity_Email Link Clicked                                       -0.060401   \n",
       "Last Activity_Email Opened                                             -0.270710   \n",
       "Last Activity_Form Submitted on Website                                -0.039529   \n",
       "Last Activity_Olark Chat Conversation                                   1.000000   \n",
       "Last Activity_Others                                                   -0.050750   \n",
       "Last Activity_Page Visited on Website                                  -0.093690   \n",
       "Last Activity_SMS Sent                                                 -0.227944   \n",
       "\n",
       "                                           Last Activity_Others  \\\n",
       "Converted                                              0.004284   \n",
       "TotalVisits                                            0.035211   \n",
       "time_on_website                                        0.012811   \n",
       "Page Views Per Visit                                   0.046775   \n",
       "mastering_interview                                         NaN   \n",
       "Lead Origin_Landing Page Submission                    0.036845   \n",
       "Lead Origin_Lead Add Form                             -0.011452   \n",
       "Lead Origin_Lead Import                               -0.008599   \n",
       "Lead Source_Google                                     0.019282   \n",
       "Lead Source_Olark Chat                                -0.040520   \n",
       "Lead Source_Organic Search                             0.030573   \n",
       "Lead Source_Other Social Sites                         0.002187   \n",
       "Specialization_Business Administration                 0.010661   \n",
       "Specialization_E-Business                              0.007911   \n",
       "Specialization_E-COMMERCE                              0.012423   \n",
       "Specialization_International Business                  0.013632   \n",
       "Specialization_Management_Specializations              0.025488   \n",
       "Specialization_Media and Advertising                   0.009979   \n",
       "Specialization_Not_Specified                          -0.039958   \n",
       "Specialization_Rural and Agribusiness                  0.022086   \n",
       "Specialization_Services Excellence                    -0.009524   \n",
       "Specialization_Travel and Tourism                     -0.000198   \n",
       "occupation_Student                                    -0.017123   \n",
       "occupation_Unemployed                                  0.005037   \n",
       "occupation_Working Professional                        0.002854   \n",
       "City_Other Cities                                      0.020771   \n",
       "City_Other Cities of Maharashtra                      -0.000583   \n",
       "City_Other Metro Cities                                0.005200   \n",
       "City_Thane & Outskirts                                 0.002202   \n",
       "Last Activity_Email Bounced                           -0.027672   \n",
       "Last Activity_Email Link Clicked                      -0.025426   \n",
       "Last Activity_Email Opened                            -0.113958   \n",
       "Last Activity_Form Submitted on Website               -0.016640   \n",
       "Last Activity_Olark Chat Conversation                 -0.050750   \n",
       "Last Activity_Others                                   1.000000   \n",
       "Last Activity_Page Visited on Website                 -0.039440   \n",
       "Last Activity_SMS Sent                                -0.095955   \n",
       "\n",
       "                                           Last Activity_Page Visited on Website  \\\n",
       "Converted                                                              -0.079703   \n",
       "TotalVisits                                                             0.232945   \n",
       "time_on_website                                                         0.033833   \n",
       "Page Views Per Visit                                                    0.105406   \n",
       "mastering_interview                                                          NaN   \n",
       "Lead Origin_Landing Page Submission                                     0.085452   \n",
       "Lead Origin_Lead Add Form                                              -0.039126   \n",
       "Lead Origin_Lead Import                                                -0.015874   \n",
       "Lead Source_Google                                                      0.020975   \n",
       "Lead Source_Olark Chat                                                 -0.094808   \n",
       "Lead Source_Organic Search                                              0.025704   \n",
       "Lead Source_Other Social Sites                                         -0.023005   \n",
       "Specialization_Business Administration                                  0.013852   \n",
       "Specialization_E-Business                                               0.011878   \n",
       "Specialization_E-COMMERCE                                               0.014901   \n",
       "Specialization_International Business                                  -0.005403   \n",
       "Specialization_Management_Specializations                               0.035338   \n",
       "Specialization_Media and Advertising                                    0.032115   \n",
       "Specialization_Not_Specified                                           -0.069878   \n",
       "Specialization_Rural and Agribusiness                                   0.030887   \n",
       "Specialization_Services Excellence                                      0.016505   \n",
       "Specialization_Travel and Tourism                                       0.027164   \n",
       "occupation_Student                                                      0.000258   \n",
       "occupation_Unemployed                                                   0.018349   \n",
       "occupation_Working Professional                                        -0.026153   \n",
       "City_Other Cities                                                       0.011702   \n",
       "City_Other Cities of Maharashtra                                       -0.009710   \n",
       "City_Other Metro Cities                                                -0.006499   \n",
       "City_Thane & Outskirts                                                  0.023658   \n",
       "Last Activity_Email Bounced                                            -0.051085   \n",
       "Last Activity_Email Link Clicked                                       -0.046940   \n",
       "Last Activity_Email Opened                                             -0.210378   \n",
       "Last Activity_Form Submitted on Website                                -0.030719   \n",
       "Last Activity_Olark Chat Conversation                                  -0.093690   \n",
       "Last Activity_Others                                                   -0.039440   \n",
       "Last Activity_Page Visited on Website                                   1.000000   \n",
       "Last Activity_SMS Sent                                                 -0.177143   \n",
       "\n",
       "                                           Last Activity_SMS Sent  \n",
       "Converted                                                0.340347  \n",
       "TotalVisits                                              0.012581  \n",
       "time_on_website                                          0.126297  \n",
       "Page Views Per Visit                                     0.077948  \n",
       "mastering_interview                                           NaN  \n",
       "Lead Origin_Landing Page Submission                      0.060740  \n",
       "Lead Origin_Lead Add Form                                0.143207  \n",
       "Lead Origin_Lead Import                                 -0.013802  \n",
       "Lead Source_Google                                       0.011863  \n",
       "Lead Source_Olark Chat                                  -0.127132  \n",
       "Lead Source_Organic Search                               0.030660  \n",
       "Lead Source_Other Social Sites                           0.102456  \n",
       "Specialization_Business Administration                   0.024862  \n",
       "Specialization_E-Business                               -0.006621  \n",
       "Specialization_E-COMMERCE                                0.012181  \n",
       "Specialization_International Business                    0.018050  \n",
       "Specialization_Management_Specializations                0.050702  \n",
       "Specialization_Media and Advertising                     0.035889  \n",
       "Specialization_Not_Specified                            -0.097170  \n",
       "Specialization_Rural and Agribusiness                   -0.012009  \n",
       "Specialization_Services Excellence                      -0.001663  \n",
       "Specialization_Travel and Tourism                        0.013171  \n",
       "occupation_Student                                      -0.049938  \n",
       "occupation_Unemployed                                   -0.078242  \n",
       "occupation_Working Professional                          0.125403  \n",
       "City_Other Cities                                        0.000017  \n",
       "City_Other Cities of Maharashtra                         0.026001  \n",
       "City_Other Metro Cities                                  0.020180  \n",
       "City_Thane & Outskirts                                  -0.007341  \n",
       "Last Activity_Email Bounced                             -0.124287  \n",
       "Last Activity_Email Link Clicked                        -0.114202  \n",
       "Last Activity_Email Opened                              -0.511842  \n",
       "Last Activity_Form Submitted on Website                 -0.074738  \n",
       "Last Activity_Olark Chat Conversation                   -0.227944  \n",
       "Last Activity_Others                                    -0.095955  \n",
       "Last Activity_Page Visited on Website                   -0.177143  \n",
       "Last Activity_SMS Sent                                   1.000000  \n",
       "\n",
       "[37 rows x 37 columns]"
      ]
     },
     "execution_count": 76,
     "metadata": {},
     "output_type": "execute_result"
    }
   ],
   "source": [
    "df.corr()"
   ]
  },
  {
   "cell_type": "code",
   "execution_count": 77,
   "id": "670d418d",
   "metadata": {},
   "outputs": [],
   "source": [
    "logreg = LogisticRegression()\n",
    "rfe = RFE(logreg, step= 15)           \n",
    "rfe = rfe.fit(X_train, y_train)"
   ]
  },
  {
   "cell_type": "code",
   "execution_count": 78,
   "id": "e51dc041",
   "metadata": {},
   "outputs": [
    {
     "data": {
      "text/plain": [
       "array([False,  True, False, False,  True,  True,  True, False,  True,\n",
       "       False,  True, False, False, False, False, False, False,  True,\n",
       "       False,  True,  True,  True,  True,  True, False, False, False,\n",
       "       False,  True,  True,  True, False,  True,  True, False,  True])"
      ]
     },
     "execution_count": 78,
     "metadata": {},
     "output_type": "execute_result"
    }
   ],
   "source": [
    "rfe.support_"
   ]
  },
  {
   "cell_type": "code",
   "execution_count": 79,
   "id": "a028cee7",
   "metadata": {},
   "outputs": [
    {
     "data": {
      "text/plain": [
       "[('TotalVisits', False, 3),\n",
       " ('time_on_website', True, 1),\n",
       " ('Page Views Per Visit', False, 3),\n",
       " ('mastering_interview', False, 3),\n",
       " ('Lead Origin_Landing Page Submission', True, 1),\n",
       " ('Lead Origin_Lead Add Form', True, 1),\n",
       " ('Lead Origin_Lead Import', True, 1),\n",
       " ('Lead Source_Google', False, 2),\n",
       " ('Lead Source_Olark Chat', True, 1),\n",
       " ('Lead Source_Organic Search', False, 3),\n",
       " ('Lead Source_Other Social Sites', True, 1),\n",
       " ('Specialization_Business Administration', False, 3),\n",
       " ('Specialization_E-Business', False, 3),\n",
       " ('Specialization_E-COMMERCE', False, 3),\n",
       " ('Specialization_International Business', False, 2),\n",
       " ('Specialization_Management_Specializations', False, 3),\n",
       " ('Specialization_Media and Advertising', False, 2),\n",
       " ('Specialization_Not_Specified ', True, 1),\n",
       " ('Specialization_Rural and Agribusiness', False, 3),\n",
       " ('Specialization_Services Excellence', True, 1),\n",
       " ('Specialization_Travel and Tourism', True, 1),\n",
       " ('occupation_Student', True, 1),\n",
       " ('occupation_Unemployed', True, 1),\n",
       " ('occupation_Working Professional', True, 1),\n",
       " ('City_Other Cities', False, 3),\n",
       " ('City_Other Cities of Maharashtra', False, 3),\n",
       " ('City_Other Metro Cities', False, 3),\n",
       " ('City_Thane & Outskirts', False, 3),\n",
       " ('Last Activity_Email Bounced', True, 1),\n",
       " ('Last Activity_Email Link Clicked', True, 1),\n",
       " ('Last Activity_Email Opened', True, 1),\n",
       " ('Last Activity_Form Submitted on Website', False, 3),\n",
       " ('Last Activity_Olark Chat Conversation', True, 1),\n",
       " ('Last Activity_Others', True, 1),\n",
       " ('Last Activity_Page Visited on Website', False, 3),\n",
       " ('Last Activity_SMS Sent', True, 1)]"
      ]
     },
     "execution_count": 79,
     "metadata": {},
     "output_type": "execute_result"
    }
   ],
   "source": [
    "list ( zip (X_train.columns,rfe.support_ ,rfe.ranking_))"
   ]
  },
  {
   "cell_type": "code",
   "execution_count": 80,
   "id": "1d511a14",
   "metadata": {
    "scrolled": true
   },
   "outputs": [
    {
     "data": {
      "text/plain": [
       "Index(['time_on_website', 'Lead Origin_Landing Page Submission',\n",
       "       'Lead Origin_Lead Add Form', 'Lead Origin_Lead Import',\n",
       "       'Lead Source_Olark Chat', 'Lead Source_Other Social Sites',\n",
       "       'Specialization_Not_Specified ', 'Specialization_Services Excellence',\n",
       "       'Specialization_Travel and Tourism', 'occupation_Student',\n",
       "       'occupation_Unemployed', 'occupation_Working Professional',\n",
       "       'Last Activity_Email Bounced', 'Last Activity_Email Link Clicked',\n",
       "       'Last Activity_Email Opened', 'Last Activity_Olark Chat Conversation',\n",
       "       'Last Activity_Others', 'Last Activity_SMS Sent'],\n",
       "      dtype='object')"
      ]
     },
     "execution_count": 80,
     "metadata": {},
     "output_type": "execute_result"
    }
   ],
   "source": [
    "clms = X_train.columns[rfe.support_]\n",
    "clms"
   ]
  },
  {
   "cell_type": "code",
   "execution_count": 81,
   "id": "7c463102",
   "metadata": {
    "scrolled": true
   },
   "outputs": [
    {
     "data": {
      "text/plain": [
       "Index(['TotalVisits', 'Page Views Per Visit', 'mastering_interview',\n",
       "       'Lead Source_Google', 'Lead Source_Organic Search',\n",
       "       'Specialization_Business Administration', 'Specialization_E-Business',\n",
       "       'Specialization_E-COMMERCE', 'Specialization_International Business',\n",
       "       'Specialization_Management_Specializations',\n",
       "       'Specialization_Media and Advertising',\n",
       "       'Specialization_Rural and Agribusiness', 'City_Other Cities',\n",
       "       'City_Other Cities of Maharashtra', 'City_Other Metro Cities',\n",
       "       'City_Thane & Outskirts', 'Last Activity_Form Submitted on Website',\n",
       "       'Last Activity_Page Visited on Website'],\n",
       "      dtype='object')"
      ]
     },
     "execution_count": 81,
     "metadata": {},
     "output_type": "execute_result"
    }
   ],
   "source": [
    "X_train.columns[~rfe.support_]"
   ]
  },
  {
   "cell_type": "code",
   "execution_count": 82,
   "id": "ec67e89b",
   "metadata": {},
   "outputs": [],
   "source": [
    "X_train_sm = sm.add_constant(X_train[clms])"
   ]
  },
  {
   "cell_type": "code",
   "execution_count": 83,
   "id": "a536ec21",
   "metadata": {},
   "outputs": [
    {
     "data": {
      "image/png": "[encoded data removed]",
      "text/plain": [
       "<Figure size 1008x720 with 2 Axes>"
      ]
     },
     "metadata": {
      "needs_background": "light"
     },
     "output_type": "display_data"
    }
   ],
   "source": [
    "plt.figure(figsize = (14,10))       \n",
    "sns.heatmap(X_train_sm.corr(),annot = True, cmap=\"YlGnBu\")\n",
    "plt.show()"
   ]
  },
  {
   "cell_type": "code",
   "execution_count": 84,
   "id": "51466704",
   "metadata": {
    "scrolled": false
   },
   "outputs": [
    {
     "name": "stdout",
     "output_type": "stream",
     "text": [
      "                 Generalized Linear Model Regression Results                  \n",
      "==============================================================================\n",
      "Dep. Variable:              Converted   No. Observations:                 6291\n",
      "Model:                            GLM   Df Residuals:                     6272\n",
      "Model Family:                Binomial   Df Model:                           18\n",
      "Link Function:                  Logit   Scale:                          1.0000\n",
      "Method:                          IRLS   Log-Likelihood:                -2682.5\n",
      "Date:                Sun, 08 Jan 2023   Deviance:                       5365.0\n",
      "Time:                        22:15:55   Pearson chi2:                 6.49e+03\n",
      "No. Iterations:                     6   Pseudo R-squ. (CS):             0.3783\n",
      "Covariance Type:            nonrobust                                         \n",
      "=========================================================================================================\n",
      "                                            coef    std err          z      P>|z|      [0.025      0.975]\n",
      "---------------------------------------------------------------------------------------------------------\n",
      "const                                     0.4047      0.543      0.745      0.456      -0.660       1.469\n",
      "time_on_website                           1.0683      0.040     26.910      0.000       0.990       1.146\n",
      "Lead Origin_Landing Page Submission      -0.9231      0.126     -7.326      0.000      -1.170      -0.676\n",
      "Lead Origin_Lead Add Form                 3.6553      0.339     10.785      0.000       2.991       4.320\n",
      "Lead Origin_Lead Import                   0.5472      0.591      0.926      0.354      -0.611       1.705\n",
      "Lead Source_Olark Chat                    1.0574      0.123      8.576      0.000       0.816       1.299\n",
      "Lead Source_Other Social Sites            0.0368      0.277      0.133      0.894      -0.507       0.580\n",
      "Specialization_Not_Specified             -1.0436      0.121     -8.635      0.000      -1.280      -0.807\n",
      "Specialization_Services Excellence        0.5830      0.609      0.958      0.338      -0.610       1.776\n",
      "Specialization_Travel and Tourism        -0.4636      0.236     -1.966      0.049      -0.926      -0.001\n",
      "occupation_Student                       -1.3398      0.577     -2.321      0.020      -2.471      -0.208\n",
      "occupation_Unemployed                    -1.6110      0.529     -3.044      0.002      -2.648      -0.574\n",
      "occupation_Working Professional           0.9391      0.560      1.677      0.093      -0.158       2.036\n",
      "Last Activity_Email Bounced              -1.3824      0.380     -3.638      0.000      -2.127      -0.638\n",
      "Last Activity_Email Link Clicked          0.4473      0.235      1.902      0.057      -0.014       0.908\n",
      "Last Activity_Email Opened                0.8315      0.121      6.870      0.000       0.594       1.069\n",
      "Last Activity_Olark Chat Conversation    -0.7439      0.194     -3.825      0.000      -1.125      -0.363\n",
      "Last Activity_Others                      1.1739      0.237      4.947      0.000       0.709       1.639\n",
      "Last Activity_SMS Sent                    1.9671      0.124     15.822      0.000       1.723       2.211\n",
      "=========================================================================================================\n"
     ]
    }
   ],
   "source": [
    "X_train_sm = sm.add_constant(X_train[clms])\n",
    "logm1 = sm.GLM(y_train,X_train_sm ,family= sm.families.Binomial())\n",
    "print(logm1.fit().summary())"
   ]
  },
  {
   "cell_type": "code",
   "execution_count": 85,
   "id": "abe5a9b1",
   "metadata": {},
   "outputs": [],
   "source": [
    "clms = clms.drop('Lead Source_Other Social Sites',1)"
   ]
  },
  {
   "cell_type": "code",
   "execution_count": 86,
   "id": "4b8e8cfc",
   "metadata": {},
   "outputs": [
    {
     "name": "stdout",
     "output_type": "stream",
     "text": [
      "                 Generalized Linear Model Regression Results                  \n",
      "==============================================================================\n",
      "Dep. Variable:              Converted   No. Observations:                 6291\n",
      "Model:                            GLM   Df Residuals:                     6273\n",
      "Model Family:                Binomial   Df Model:                           17\n",
      "Link Function:                  Logit   Scale:                          1.0000\n",
      "Method:                          IRLS   Log-Likelihood:                -2682.5\n",
      "Date:                Sun, 08 Jan 2023   Deviance:                       5365.0\n",
      "Time:                        22:15:55   Pearson chi2:                 6.49e+03\n",
      "No. Iterations:                     6   Pseudo R-squ. (CS):             0.3783\n",
      "Covariance Type:            nonrobust                                         \n",
      "=========================================================================================================\n",
      "                                            coef    std err          z      P>|z|      [0.025      0.975]\n",
      "---------------------------------------------------------------------------------------------------------\n",
      "const                                     0.4060      0.543      0.748      0.455      -0.658       1.470\n",
      "time_on_website                           1.0681      0.040     26.919      0.000       0.990       1.146\n",
      "Lead Origin_Landing Page Submission      -0.9243      0.126     -7.355      0.000      -1.171      -0.678\n",
      "Lead Origin_Lead Add Form                 3.6899      0.217     16.973      0.000       3.264       4.116\n",
      "Lead Origin_Lead Import                   0.5819      0.530      1.099      0.272      -0.456       1.620\n",
      "Lead Source_Olark Chat                    1.0551      0.122      8.642      0.000       0.816       1.294\n",
      "Specialization_Not_Specified             -1.0429      0.121     -8.637      0.000      -1.280      -0.806\n",
      "Specialization_Services Excellence        0.5845      0.609      0.960      0.337      -0.609       1.778\n",
      "Specialization_Travel and Tourism        -0.4633      0.236     -1.965      0.049      -0.926      -0.001\n",
      "occupation_Student                       -1.3392      0.577     -2.320      0.020      -2.471      -0.208\n",
      "occupation_Unemployed                    -1.6103      0.529     -3.043      0.002      -2.648      -0.573\n",
      "occupation_Working Professional           0.9398      0.560      1.679      0.093      -0.157       2.037\n",
      "Last Activity_Email Bounced              -1.3829      0.380     -3.640      0.000      -2.128      -0.638\n",
      "Last Activity_Email Link Clicked          0.4472      0.235      1.901      0.057      -0.014       0.908\n",
      "Last Activity_Email Opened                0.8312      0.121      6.869      0.000       0.594       1.068\n",
      "Last Activity_Olark Chat Conversation    -0.7440      0.194     -3.826      0.000      -1.125      -0.363\n",
      "Last Activity_Others                      1.1752      0.237      4.957      0.000       0.711       1.640\n",
      "Last Activity_SMS Sent                    1.9664      0.124     15.832      0.000       1.723       2.210\n",
      "=========================================================================================================\n"
     ]
    }
   ],
   "source": [
    "X_train_sm = sm.add_constant(X_train[clms])\n",
    "logm2 = sm.GLM(y_train,X_train_sm,  family= sm.families.Binomial())\n",
    "print(logm2.fit().summary())"
   ]
  },
  {
   "cell_type": "code",
   "execution_count": 87,
   "id": "43f72c05",
   "metadata": {},
   "outputs": [],
   "source": [
    "clms = clms.drop('Specialization_Services Excellence',1)"
   ]
  },
  {
   "cell_type": "code",
   "execution_count": 88,
   "id": "10dc3de2",
   "metadata": {},
   "outputs": [
    {
     "name": "stdout",
     "output_type": "stream",
     "text": [
      "                 Generalized Linear Model Regression Results                  \n",
      "==============================================================================\n",
      "Dep. Variable:              Converted   No. Observations:                 6291\n",
      "Model:                            GLM   Df Residuals:                     6274\n",
      "Model Family:                Binomial   Df Model:                           16\n",
      "Link Function:                  Logit   Scale:                          1.0000\n",
      "Method:                          IRLS   Log-Likelihood:                -2682.9\n",
      "Date:                Sun, 08 Jan 2023   Deviance:                       5365.9\n",
      "Time:                        22:15:56   Pearson chi2:                 6.49e+03\n",
      "No. Iterations:                     6   Pseudo R-squ. (CS):             0.3782\n",
      "Covariance Type:            nonrobust                                         \n",
      "=========================================================================================================\n",
      "                                            coef    std err          z      P>|z|      [0.025      0.975]\n",
      "---------------------------------------------------------------------------------------------------------\n",
      "const                                     0.4088      0.543      0.753      0.451      -0.655       1.473\n",
      "time_on_website                           1.0672      0.040     26.909      0.000       0.989       1.145\n",
      "Lead Origin_Landing Page Submission      -0.9247      0.126     -7.358      0.000      -1.171      -0.678\n",
      "Lead Origin_Lead Add Form                 3.6896      0.217     16.972      0.000       3.264       4.116\n",
      "Lead Origin_Lead Import                   0.5802      0.530      1.095      0.273      -0.458       1.619\n",
      "Lead Source_Olark Chat                    1.0539      0.122      8.634      0.000       0.815       1.293\n",
      "Specialization_Not_Specified             -1.0462      0.121     -8.669      0.000      -1.283      -0.810\n",
      "Specialization_Travel and Tourism        -0.4659      0.236     -1.976      0.048      -0.928      -0.004\n",
      "occupation_Student                       -1.3383      0.577     -2.319      0.020      -2.470      -0.207\n",
      "occupation_Unemployed                    -1.6076      0.529     -3.038      0.002      -2.645      -0.570\n",
      "occupation_Working Professional           0.9440      0.560      1.686      0.092      -0.153       2.041\n",
      "Last Activity_Email Bounced              -1.3757      0.380     -3.620      0.000      -2.120      -0.631\n",
      "Last Activity_Email Link Clicked          0.4571      0.235      1.948      0.051      -0.003       0.917\n",
      "Last Activity_Email Opened                0.8280      0.121      6.845      0.000       0.591       1.065\n",
      "Last Activity_Olark Chat Conversation    -0.7438      0.194     -3.825      0.000      -1.125      -0.363\n",
      "Last Activity_Others                      1.1709      0.237      4.940      0.000       0.706       1.635\n",
      "Last Activity_SMS Sent                    1.9640      0.124     15.817      0.000       1.721       2.207\n",
      "=========================================================================================================\n"
     ]
    }
   ],
   "source": [
    "X_train_sm = sm.add_constant(X_train[clms])\n",
    "logm3 = sm.GLM(y_train,X_train_sm,  family= sm.families.Binomial())\n",
    "print (logm3.fit().summary())"
   ]
  },
  {
   "cell_type": "code",
   "execution_count": 89,
   "id": "82538ce7",
   "metadata": {},
   "outputs": [
    {
     "data": {
      "text/html": [
       "<div>\n",
       "<style scoped>\n",
       "    .dataframe tbody tr th:only-of-type {\n",
       "        vertical-align: middle;\n",
       "    }\n",
       "\n",
       "    .dataframe tbody tr th {\n",
       "        vertical-align: top;\n",
       "    }\n",
       "\n",
       "    .dataframe thead th {\n",
       "        text-align: right;\n",
       "    }\n",
       "</style>\n",
       "<table border=\"1\" class=\"dataframe\">\n",
       "  <thead>\n",
       "    <tr style=\"text-align: right;\">\n",
       "      <th></th>\n",
       "      <th>Features</th>\n",
       "      <th>VIF</th>\n",
       "    </tr>\n",
       "  </thead>\n",
       "  <tbody>\n",
       "    <tr>\n",
       "      <th>8</th>\n",
       "      <td>occupation_Unemployed</td>\n",
       "      <td>16.34</td>\n",
       "    </tr>\n",
       "    <tr>\n",
       "      <th>1</th>\n",
       "      <td>Lead Origin_Landing Page Submission</td>\n",
       "      <td>6.94</td>\n",
       "    </tr>\n",
       "    <tr>\n",
       "      <th>5</th>\n",
       "      <td>Specialization_Not_Specified</td>\n",
       "      <td>4.32</td>\n",
       "    </tr>\n",
       "    <tr>\n",
       "      <th>12</th>\n",
       "      <td>Last Activity_Email Opened</td>\n",
       "      <td>4.00</td>\n",
       "    </tr>\n",
       "    <tr>\n",
       "      <th>15</th>\n",
       "      <td>Last Activity_SMS Sent</td>\n",
       "      <td>3.41</td>\n",
       "    </tr>\n",
       "    <tr>\n",
       "      <th>4</th>\n",
       "      <td>Lead Source_Olark Chat</td>\n",
       "      <td>2.40</td>\n",
       "    </tr>\n",
       "    <tr>\n",
       "      <th>13</th>\n",
       "      <td>Last Activity_Olark Chat Conversation</td>\n",
       "      <td>2.23</td>\n",
       "    </tr>\n",
       "    <tr>\n",
       "      <th>9</th>\n",
       "      <td>occupation_Working Professional</td>\n",
       "      <td>2.09</td>\n",
       "    </tr>\n",
       "    <tr>\n",
       "      <th>2</th>\n",
       "      <td>Lead Origin_Lead Add Form</td>\n",
       "      <td>1.59</td>\n",
       "    </tr>\n",
       "    <tr>\n",
       "      <th>7</th>\n",
       "      <td>occupation_Student</td>\n",
       "      <td>1.41</td>\n",
       "    </tr>\n",
       "    <tr>\n",
       "      <th>0</th>\n",
       "      <td>time_on_website</td>\n",
       "      <td>1.33</td>\n",
       "    </tr>\n",
       "    <tr>\n",
       "      <th>10</th>\n",
       "      <td>Last Activity_Email Bounced</td>\n",
       "      <td>1.29</td>\n",
       "    </tr>\n",
       "    <tr>\n",
       "      <th>11</th>\n",
       "      <td>Last Activity_Email Link Clicked</td>\n",
       "      <td>1.23</td>\n",
       "    </tr>\n",
       "    <tr>\n",
       "      <th>14</th>\n",
       "      <td>Last Activity_Others</td>\n",
       "      <td>1.17</td>\n",
       "    </tr>\n",
       "    <tr>\n",
       "      <th>6</th>\n",
       "      <td>Specialization_Travel and Tourism</td>\n",
       "      <td>1.04</td>\n",
       "    </tr>\n",
       "    <tr>\n",
       "      <th>3</th>\n",
       "      <td>Lead Origin_Lead Import</td>\n",
       "      <td>1.03</td>\n",
       "    </tr>\n",
       "  </tbody>\n",
       "</table>\n",
       "</div>"
      ],
      "text/plain": [
       "                                 Features    VIF\n",
       "8                   occupation_Unemployed  16.34\n",
       "1     Lead Origin_Landing Page Submission   6.94\n",
       "5           Specialization_Not_Specified    4.32\n",
       "12             Last Activity_Email Opened   4.00\n",
       "15                 Last Activity_SMS Sent   3.41\n",
       "4                  Lead Source_Olark Chat   2.40\n",
       "13  Last Activity_Olark Chat Conversation   2.23\n",
       "9         occupation_Working Professional   2.09\n",
       "2               Lead Origin_Lead Add Form   1.59\n",
       "7                      occupation_Student   1.41\n",
       "0                         time_on_website   1.33\n",
       "10            Last Activity_Email Bounced   1.29\n",
       "11       Last Activity_Email Link Clicked   1.23\n",
       "14                   Last Activity_Others   1.17\n",
       "6       Specialization_Travel and Tourism   1.04\n",
       "3                 Lead Origin_Lead Import   1.03"
      ]
     },
     "execution_count": 89,
     "metadata": {},
     "output_type": "execute_result"
    }
   ],
   "source": [
    "vif = pd.DataFrame()\n",
    "vif['Features'] = X_train[clms].columns\n",
    "vif['VIF'] = [variance_inflation_factor(X_train[clms].values, i) for i in range(X_train[clms].shape[1])]\n",
    "vif['VIF'] = round(vif['VIF'], 2)\n",
    "vif = vif.sort_values(by = \"VIF\", ascending = False)\n",
    "vif"
   ]
  },
  {
   "cell_type": "code",
   "execution_count": 90,
   "id": "45b3193f",
   "metadata": {},
   "outputs": [],
   "source": [
    "clms = clms.drop('Lead Origin_Landing Page Submission',1)"
   ]
  },
  {
   "cell_type": "code",
   "execution_count": 91,
   "id": "1598d369",
   "metadata": {},
   "outputs": [
    {
     "name": "stdout",
     "output_type": "stream",
     "text": [
      "                 Generalized Linear Model Regression Results                  \n",
      "==============================================================================\n",
      "Dep. Variable:              Converted   No. Observations:                 6291\n",
      "Model:                            GLM   Df Residuals:                     6275\n",
      "Model Family:                Binomial   Df Model:                           15\n",
      "Link Function:                  Logit   Scale:                          1.0000\n",
      "Method:                          IRLS   Log-Likelihood:                -2710.5\n",
      "Date:                Sun, 08 Jan 2023   Deviance:                       5421.0\n",
      "Time:                        22:15:56   Pearson chi2:                 6.49e+03\n",
      "No. Iterations:                     6   Pseudo R-squ. (CS):             0.3727\n",
      "Covariance Type:            nonrobust                                         \n",
      "=========================================================================================================\n",
      "                                            coef    std err          z      P>|z|      [0.025      0.975]\n",
      "---------------------------------------------------------------------------------------------------------\n",
      "const                                    -0.3456      0.524     -0.660      0.509      -1.372       0.681\n",
      "time_on_website                           1.0904      0.040     27.593      0.000       1.013       1.168\n",
      "Lead Origin_Lead Add Form                 4.1581      0.208     20.028      0.000       3.751       4.565\n",
      "Lead Origin_Lead Import                   1.1016      0.514      2.144      0.032       0.095       2.109\n",
      "Lead Source_Olark Chat                    1.3864      0.114     12.131      0.000       1.162       1.610\n",
      "Specialization_Not_Specified             -0.4347      0.086     -5.055      0.000      -0.603      -0.266\n",
      "Specialization_Travel and Tourism        -0.4890      0.233     -2.096      0.036      -0.946      -0.032\n",
      "occupation_Student                       -1.4321      0.567     -2.527      0.012      -2.543      -0.321\n",
      "occupation_Unemployed                    -1.6694      0.520     -3.212      0.001      -2.688      -0.651\n",
      "occupation_Working Professional           0.9512      0.550      1.729      0.084      -0.127       2.029\n",
      "Last Activity_Email Bounced              -1.4806      0.379     -3.910      0.000      -2.223      -0.739\n",
      "Last Activity_Email Link Clicked          0.4623      0.233      1.983      0.047       0.005       0.919\n",
      "Last Activity_Email Opened                0.8280      0.120      6.873      0.000       0.592       1.064\n",
      "Last Activity_Olark Chat Conversation    -0.6995      0.192     -3.638      0.000      -1.076      -0.323\n",
      "Last Activity_Others                      1.1735      0.236      4.967      0.000       0.710       1.637\n",
      "Last Activity_SMS Sent                    1.9366      0.124     15.674      0.000       1.694       2.179\n",
      "=========================================================================================================\n"
     ]
    }
   ],
   "source": [
    "X_train_sm = sm.add_constant(X_train[clms])\n",
    "logm4 = sm.GLM(y_train,X_train_sm,  family= sm.families.Binomial())\n",
    "res = logm4.fit()\n",
    "print(res.summary())"
   ]
  },
  {
   "cell_type": "code",
   "execution_count": 92,
   "id": "07c166cd",
   "metadata": {
    "scrolled": false
   },
   "outputs": [
    {
     "data": {
      "text/html": [
       "<div>\n",
       "<style scoped>\n",
       "    .dataframe tbody tr th:only-of-type {\n",
       "        vertical-align: middle;\n",
       "    }\n",
       "\n",
       "    .dataframe tbody tr th {\n",
       "        vertical-align: top;\n",
       "    }\n",
       "\n",
       "    .dataframe thead th {\n",
       "        text-align: right;\n",
       "    }\n",
       "</style>\n",
       "<table border=\"1\" class=\"dataframe\">\n",
       "  <thead>\n",
       "    <tr style=\"text-align: right;\">\n",
       "      <th></th>\n",
       "      <th>Features</th>\n",
       "      <th>VIF</th>\n",
       "    </tr>\n",
       "  </thead>\n",
       "  <tbody>\n",
       "    <tr>\n",
       "      <th>7</th>\n",
       "      <td>occupation_Unemployed</td>\n",
       "      <td>7.52</td>\n",
       "    </tr>\n",
       "    <tr>\n",
       "      <th>11</th>\n",
       "      <td>Last Activity_Email Opened</td>\n",
       "      <td>4.00</td>\n",
       "    </tr>\n",
       "    <tr>\n",
       "      <th>14</th>\n",
       "      <td>Last Activity_SMS Sent</td>\n",
       "      <td>3.40</td>\n",
       "    </tr>\n",
       "    <tr>\n",
       "      <th>4</th>\n",
       "      <td>Specialization_Not_Specified</td>\n",
       "      <td>2.32</td>\n",
       "    </tr>\n",
       "    <tr>\n",
       "      <th>12</th>\n",
       "      <td>Last Activity_Olark Chat Conversation</td>\n",
       "      <td>2.23</td>\n",
       "    </tr>\n",
       "    <tr>\n",
       "      <th>3</th>\n",
       "      <td>Lead Source_Olark Chat</td>\n",
       "      <td>2.11</td>\n",
       "    </tr>\n",
       "    <tr>\n",
       "      <th>8</th>\n",
       "      <td>occupation_Working Professional</td>\n",
       "      <td>1.60</td>\n",
       "    </tr>\n",
       "    <tr>\n",
       "      <th>0</th>\n",
       "      <td>time_on_website</td>\n",
       "      <td>1.32</td>\n",
       "    </tr>\n",
       "    <tr>\n",
       "      <th>1</th>\n",
       "      <td>Lead Origin_Lead Add Form</td>\n",
       "      <td>1.28</td>\n",
       "    </tr>\n",
       "    <tr>\n",
       "      <th>9</th>\n",
       "      <td>Last Activity_Email Bounced</td>\n",
       "      <td>1.28</td>\n",
       "    </tr>\n",
       "    <tr>\n",
       "      <th>10</th>\n",
       "      <td>Last Activity_Email Link Clicked</td>\n",
       "      <td>1.23</td>\n",
       "    </tr>\n",
       "    <tr>\n",
       "      <th>13</th>\n",
       "      <td>Last Activity_Others</td>\n",
       "      <td>1.17</td>\n",
       "    </tr>\n",
       "    <tr>\n",
       "      <th>6</th>\n",
       "      <td>occupation_Student</td>\n",
       "      <td>1.16</td>\n",
       "    </tr>\n",
       "    <tr>\n",
       "      <th>5</th>\n",
       "      <td>Specialization_Travel and Tourism</td>\n",
       "      <td>1.04</td>\n",
       "    </tr>\n",
       "    <tr>\n",
       "      <th>2</th>\n",
       "      <td>Lead Origin_Lead Import</td>\n",
       "      <td>1.02</td>\n",
       "    </tr>\n",
       "  </tbody>\n",
       "</table>\n",
       "</div>"
      ],
      "text/plain": [
       "                                 Features   VIF\n",
       "7                   occupation_Unemployed  7.52\n",
       "11             Last Activity_Email Opened  4.00\n",
       "14                 Last Activity_SMS Sent  3.40\n",
       "4           Specialization_Not_Specified   2.32\n",
       "12  Last Activity_Olark Chat Conversation  2.23\n",
       "3                  Lead Source_Olark Chat  2.11\n",
       "8         occupation_Working Professional  1.60\n",
       "0                         time_on_website  1.32\n",
       "1               Lead Origin_Lead Add Form  1.28\n",
       "9             Last Activity_Email Bounced  1.28\n",
       "10       Last Activity_Email Link Clicked  1.23\n",
       "13                   Last Activity_Others  1.17\n",
       "6                      occupation_Student  1.16\n",
       "5       Specialization_Travel and Tourism  1.04\n",
       "2                 Lead Origin_Lead Import  1.02"
      ]
     },
     "execution_count": 92,
     "metadata": {},
     "output_type": "execute_result"
    }
   ],
   "source": [
    "vif = pd.DataFrame()\n",
    "vif['Features'] = X_train[clms].columns\n",
    "vif['VIF'] = [variance_inflation_factor(X_train[clms].values, i) for i in range(X_train[clms].shape[1])]\n",
    "vif['VIF'] = round(vif['VIF'], 2)\n",
    "vif = vif.sort_values(by = \"VIF\", ascending = False)\n",
    "vif"
   ]
  },
  {
   "cell_type": "code",
   "execution_count": 93,
   "id": "0e009c2c",
   "metadata": {},
   "outputs": [],
   "source": [
    "y_train_pred = res.predict(X_train_sm).values.reshape(-1)"
   ]
  },
  {
   "cell_type": "code",
   "execution_count": 94,
   "id": "e9ab4c87",
   "metadata": {},
   "outputs": [
    {
     "data": {
      "text/plain": [
       "990     0.099731\n",
       "1482    0.191053\n",
       "110     0.413597\n",
       "4627    0.520002\n",
       "5220    0.476996\n",
       "3879    0.202190\n",
       "700     0.374178\n",
       "1710    0.792711\n",
       "2196    0.702197\n",
       "5656    0.970945\n",
       "dtype: float64"
      ]
     },
     "execution_count": 94,
     "metadata": {},
     "output_type": "execute_result"
    }
   ],
   "source": [
    "y_train_pred = res.predict(X_train_sm)\n",
    "y_train_pred[:10]"
   ]
  },
  {
   "cell_type": "code",
   "execution_count": 95,
   "id": "6dba1fa1",
   "metadata": {},
   "outputs": [
    {
     "data": {
      "text/html": [
       "<div>\n",
       "<style scoped>\n",
       "    .dataframe tbody tr th:only-of-type {\n",
       "        vertical-align: middle;\n",
       "    }\n",
       "\n",
       "    .dataframe tbody tr th {\n",
       "        vertical-align: top;\n",
       "    }\n",
       "\n",
       "    .dataframe thead th {\n",
       "        text-align: right;\n",
       "    }\n",
       "</style>\n",
       "<table border=\"1\" class=\"dataframe\">\n",
       "  <thead>\n",
       "    <tr style=\"text-align: right;\">\n",
       "      <th></th>\n",
       "      <th>Converted</th>\n",
       "      <th>Converted_prob</th>\n",
       "      <th>Prospect ID</th>\n",
       "    </tr>\n",
       "  </thead>\n",
       "  <tbody>\n",
       "    <tr>\n",
       "      <th>990</th>\n",
       "      <td>0</td>\n",
       "      <td>0.099731</td>\n",
       "      <td>990</td>\n",
       "    </tr>\n",
       "    <tr>\n",
       "      <th>1482</th>\n",
       "      <td>0</td>\n",
       "      <td>0.191053</td>\n",
       "      <td>1482</td>\n",
       "    </tr>\n",
       "    <tr>\n",
       "      <th>110</th>\n",
       "      <td>1</td>\n",
       "      <td>0.413597</td>\n",
       "      <td>110</td>\n",
       "    </tr>\n",
       "    <tr>\n",
       "      <th>4627</th>\n",
       "      <td>1</td>\n",
       "      <td>0.520002</td>\n",
       "      <td>4627</td>\n",
       "    </tr>\n",
       "    <tr>\n",
       "      <th>5220</th>\n",
       "      <td>1</td>\n",
       "      <td>0.476996</td>\n",
       "      <td>5220</td>\n",
       "    </tr>\n",
       "  </tbody>\n",
       "</table>\n",
       "</div>"
      ],
      "text/plain": [
       "      Converted  Converted_prob  Prospect ID\n",
       "990           0        0.099731          990\n",
       "1482          0        0.191053         1482\n",
       "110           1        0.413597          110\n",
       "4627          1        0.520002         4627\n",
       "5220          1        0.476996         5220"
      ]
     },
     "execution_count": 95,
     "metadata": {},
     "output_type": "execute_result"
    }
   ],
   "source": [
    "y_train_pred_final = pd.DataFrame({'Converted':y_train.values, 'Converted_prob':y_train_pred})\n",
    "y_train_pred_final['Prospect ID'] = y_train.index\n",
    "y_train_pred_final.head()"
   ]
  },
  {
   "cell_type": "code",
   "execution_count": 96,
   "id": "e806e98a",
   "metadata": {
    "scrolled": true
   },
   "outputs": [
    {
     "data": {
      "text/html": [
       "<div>\n",
       "<style scoped>\n",
       "    .dataframe tbody tr th:only-of-type {\n",
       "        vertical-align: middle;\n",
       "    }\n",
       "\n",
       "    .dataframe tbody tr th {\n",
       "        vertical-align: top;\n",
       "    }\n",
       "\n",
       "    .dataframe thead th {\n",
       "        text-align: right;\n",
       "    }\n",
       "</style>\n",
       "<table border=\"1\" class=\"dataframe\">\n",
       "  <thead>\n",
       "    <tr style=\"text-align: right;\">\n",
       "      <th></th>\n",
       "      <th>Converted</th>\n",
       "      <th>Converted_prob</th>\n",
       "      <th>Prospect ID</th>\n",
       "      <th>Predicted</th>\n",
       "    </tr>\n",
       "  </thead>\n",
       "  <tbody>\n",
       "    <tr>\n",
       "      <th>990</th>\n",
       "      <td>0</td>\n",
       "      <td>0.099731</td>\n",
       "      <td>990</td>\n",
       "      <td>0</td>\n",
       "    </tr>\n",
       "    <tr>\n",
       "      <th>1482</th>\n",
       "      <td>0</td>\n",
       "      <td>0.191053</td>\n",
       "      <td>1482</td>\n",
       "      <td>0</td>\n",
       "    </tr>\n",
       "    <tr>\n",
       "      <th>110</th>\n",
       "      <td>1</td>\n",
       "      <td>0.413597</td>\n",
       "      <td>110</td>\n",
       "      <td>0</td>\n",
       "    </tr>\n",
       "    <tr>\n",
       "      <th>4627</th>\n",
       "      <td>1</td>\n",
       "      <td>0.520002</td>\n",
       "      <td>4627</td>\n",
       "      <td>1</td>\n",
       "    </tr>\n",
       "    <tr>\n",
       "      <th>5220</th>\n",
       "      <td>1</td>\n",
       "      <td>0.476996</td>\n",
       "      <td>5220</td>\n",
       "      <td>0</td>\n",
       "    </tr>\n",
       "  </tbody>\n",
       "</table>\n",
       "</div>"
      ],
      "text/plain": [
       "      Converted  Converted_prob  Prospect ID  Predicted\n",
       "990           0        0.099731          990          0\n",
       "1482          0        0.191053         1482          0\n",
       "110           1        0.413597          110          0\n",
       "4627          1        0.520002         4627          1\n",
       "5220          1        0.476996         5220          0"
      ]
     },
     "execution_count": 96,
     "metadata": {},
     "output_type": "execute_result"
    }
   ],
   "source": [
    "y_train_pred_final['Predicted'] = y_train_pred_final.Converted_prob.map(lambda x: 1 if x > 0.5 else 0)\n",
    "y_train_pred_final.head()"
   ]
  },
  {
   "cell_type": "code",
   "execution_count": 97,
   "id": "a056b618",
   "metadata": {},
   "outputs": [
    {
     "name": "stdout",
     "output_type": "stream",
     "text": [
      "[[3496  405]\n",
      " [ 840 1550]]\n"
     ]
    }
   ],
   "source": [
    "\n",
    "confusion = metrics.confusion_matrix(y_train_pred_final.Converted, y_train_pred_final.Predicted )\n",
    "print(confusion)"
   ]
  },
  {
   "cell_type": "code",
   "execution_count": 98,
   "id": "6e0445c1",
   "metadata": {},
   "outputs": [
    {
     "name": "stdout",
     "output_type": "stream",
     "text": [
      "0.8020982355746304\n"
     ]
    }
   ],
   "source": [
    "print(metrics.accuracy_score(y_train_pred_final.Converted, y_train_pred_final.Predicted))"
   ]
  },
  {
   "cell_type": "code",
   "execution_count": 99,
   "id": "d6486e7f",
   "metadata": {},
   "outputs": [],
   "source": [
    "TP = confusion[1,1] \n",
    "TN = confusion[0,0] \n",
    "FP = confusion[0,1]\n",
    "FN = confusion[1,0]"
   ]
  },
  {
   "cell_type": "code",
   "execution_count": 100,
   "id": "52bb60d2",
   "metadata": {},
   "outputs": [
    {
     "data": {
      "text/plain": [
       "0.6485355648535565"
      ]
     },
     "execution_count": 100,
     "metadata": {},
     "output_type": "execute_result"
    }
   ],
   "source": [
    "TP / float(TP+FN)"
   ]
  },
  {
   "cell_type": "code",
   "execution_count": 101,
   "id": "15a78a81",
   "metadata": {},
   "outputs": [
    {
     "name": "stdout",
     "output_type": "stream",
     "text": [
      "0.10381953345296079\n"
     ]
    }
   ],
   "source": [
    "print(FP/ float(TN+FP))"
   ]
  },
  {
   "cell_type": "code",
   "execution_count": 102,
   "id": "106633ca",
   "metadata": {},
   "outputs": [
    {
     "name": "stdout",
     "output_type": "stream",
     "text": [
      "0.7928388746803069\n"
     ]
    }
   ],
   "source": [
    "print (TP / float(TP+FP))"
   ]
  },
  {
   "cell_type": "code",
   "execution_count": 103,
   "id": "4c40df60",
   "metadata": {},
   "outputs": [
    {
     "name": "stdout",
     "output_type": "stream",
     "text": [
      "0.8062730627306273\n"
     ]
    }
   ],
   "source": [
    "print (TN / float(TN+ FN))"
   ]
  },
  {
   "cell_type": "code",
   "execution_count": 104,
   "id": "46107fa3",
   "metadata": {},
   "outputs": [],
   "source": [
    "def draw_roc( actual, probs ):\n",
    "    fpr, tpr, thresholds = metrics.roc_curve( actual, probs,\n",
    "                                              drop_intermediate = False )\n",
    "    auc_score = metrics.roc_auc_score( actual, probs )\n",
    "    plt.figure(figsize=(5, 5))\n",
    "    plt.plot( fpr, tpr, label='ROC curve (area = %0.2f)' % auc_score )\n",
    "    plt.plot([0, 1], [0, 1], 'k--')\n",
    "    plt.xlim([0.0, 1.0])\n",
    "    plt.ylim([0.0, 1.05])\n",
    "    plt.xlabel('False Positive Rate or [1 - True Negative Rate]')\n",
    "    plt.ylabel('True Positive Rate')\n",
    "    plt.title('Receiver operating characteristic example')\n",
    "    plt.legend(loc=\"lower right\")\n",
    "    plt.show()\n",
    "\n",
    "    return None"
   ]
  },
  {
   "cell_type": "code",
   "execution_count": 105,
   "id": "13db9e0f",
   "metadata": {},
   "outputs": [],
   "source": [
    "fpr, tpr, thresholds = metrics.roc_curve( y_train_pred_final.Converted, y_train_pred_final.Converted_prob, drop_intermediate = False )"
   ]
  },
  {
   "cell_type": "code",
   "execution_count": 106,
   "id": "f50c8144",
   "metadata": {
    "scrolled": true
   },
   "outputs": [
    {
     "data": {
      "image/png": "[encoded data removed]",
      "text/plain": [
       "<Figure size 360x360 with 1 Axes>"
      ]
     },
     "metadata": {
      "needs_background": "light"
     },
     "output_type": "display_data"
    }
   ],
   "source": [
    "draw_roc(y_train_pred_final.Converted, y_train_pred_final.Converted_prob)"
   ]
  },
  {
   "cell_type": "code",
   "execution_count": 107,
   "id": "53a56f74",
   "metadata": {},
   "outputs": [
    {
     "data": {
      "text/html": [
       "<div>\n",
       "<style scoped>\n",
       "    .dataframe tbody tr th:only-of-type {\n",
       "        vertical-align: middle;\n",
       "    }\n",
       "\n",
       "    .dataframe tbody tr th {\n",
       "        vertical-align: top;\n",
       "    }\n",
       "\n",
       "    .dataframe thead th {\n",
       "        text-align: right;\n",
       "    }\n",
       "</style>\n",
       "<table border=\"1\" class=\"dataframe\">\n",
       "  <thead>\n",
       "    <tr style=\"text-align: right;\">\n",
       "      <th></th>\n",
       "      <th>Converted</th>\n",
       "      <th>Converted_prob</th>\n",
       "      <th>Prospect ID</th>\n",
       "      <th>Predicted</th>\n",
       "      <th>0.0</th>\n",
       "      <th>0.1</th>\n",
       "      <th>0.2</th>\n",
       "      <th>0.3</th>\n",
       "      <th>0.4</th>\n",
       "      <th>0.5</th>\n",
       "      <th>0.6</th>\n",
       "      <th>0.7</th>\n",
       "      <th>0.8</th>\n",
       "      <th>0.9</th>\n",
       "    </tr>\n",
       "  </thead>\n",
       "  <tbody>\n",
       "    <tr>\n",
       "      <th>990</th>\n",
       "      <td>0</td>\n",
       "      <td>0.099731</td>\n",
       "      <td>990</td>\n",
       "      <td>0</td>\n",
       "      <td>1</td>\n",
       "      <td>0</td>\n",
       "      <td>0</td>\n",
       "      <td>0</td>\n",
       "      <td>0</td>\n",
       "      <td>0</td>\n",
       "      <td>0</td>\n",
       "      <td>0</td>\n",
       "      <td>0</td>\n",
       "      <td>0</td>\n",
       "    </tr>\n",
       "    <tr>\n",
       "      <th>1482</th>\n",
       "      <td>0</td>\n",
       "      <td>0.191053</td>\n",
       "      <td>1482</td>\n",
       "      <td>0</td>\n",
       "      <td>1</td>\n",
       "      <td>1</td>\n",
       "      <td>0</td>\n",
       "      <td>0</td>\n",
       "      <td>0</td>\n",
       "      <td>0</td>\n",
       "      <td>0</td>\n",
       "      <td>0</td>\n",
       "      <td>0</td>\n",
       "      <td>0</td>\n",
       "    </tr>\n",
       "    <tr>\n",
       "      <th>110</th>\n",
       "      <td>1</td>\n",
       "      <td>0.413597</td>\n",
       "      <td>110</td>\n",
       "      <td>0</td>\n",
       "      <td>1</td>\n",
       "      <td>1</td>\n",
       "      <td>1</td>\n",
       "      <td>1</td>\n",
       "      <td>1</td>\n",
       "      <td>0</td>\n",
       "      <td>0</td>\n",
       "      <td>0</td>\n",
       "      <td>0</td>\n",
       "      <td>0</td>\n",
       "    </tr>\n",
       "    <tr>\n",
       "      <th>4627</th>\n",
       "      <td>1</td>\n",
       "      <td>0.520002</td>\n",
       "      <td>4627</td>\n",
       "      <td>1</td>\n",
       "      <td>1</td>\n",
       "      <td>1</td>\n",
       "      <td>1</td>\n",
       "      <td>1</td>\n",
       "      <td>1</td>\n",
       "      <td>1</td>\n",
       "      <td>0</td>\n",
       "      <td>0</td>\n",
       "      <td>0</td>\n",
       "      <td>0</td>\n",
       "    </tr>\n",
       "    <tr>\n",
       "      <th>5220</th>\n",
       "      <td>1</td>\n",
       "      <td>0.476996</td>\n",
       "      <td>5220</td>\n",
       "      <td>0</td>\n",
       "      <td>1</td>\n",
       "      <td>1</td>\n",
       "      <td>1</td>\n",
       "      <td>1</td>\n",
       "      <td>1</td>\n",
       "      <td>0</td>\n",
       "      <td>0</td>\n",
       "      <td>0</td>\n",
       "      <td>0</td>\n",
       "      <td>0</td>\n",
       "    </tr>\n",
       "  </tbody>\n",
       "</table>\n",
       "</div>"
      ],
      "text/plain": [
       "      Converted  Converted_prob  Prospect ID  Predicted  0.0  0.1  0.2  0.3  \\\n",
       "990           0        0.099731          990          0    1    0    0    0   \n",
       "1482          0        0.191053         1482          0    1    1    0    0   \n",
       "110           1        0.413597          110          0    1    1    1    1   \n",
       "4627          1        0.520002         4627          1    1    1    1    1   \n",
       "5220          1        0.476996         5220          0    1    1    1    1   \n",
       "\n",
       "      0.4  0.5  0.6  0.7  0.8  0.9  \n",
       "990     0    0    0    0    0    0  \n",
       "1482    0    0    0    0    0    0  \n",
       "110     1    0    0    0    0    0  \n",
       "4627    1    1    0    0    0    0  \n",
       "5220    1    0    0    0    0    0  "
      ]
     },
     "execution_count": 107,
     "metadata": {},
     "output_type": "execute_result"
    }
   ],
   "source": [
    "# Let's create columns with different probability cutoffs \n",
    "numbers = [float(x)/10 for x in range(10)]\n",
    "for i in numbers:\n",
    "    y_train_pred_final[i]= y_train_pred_final.Converted_prob.map(lambda x: 1 if x > i else 0)\n",
    "y_train_pred_final.head()"
   ]
  },
  {
   "cell_type": "code",
   "execution_count": 108,
   "id": "76b6663b",
   "metadata": {},
   "outputs": [
    {
     "name": "stdout",
     "output_type": "stream",
     "text": [
      "     prob  accuracy     sensi     speci\n",
      "0.0   0.0  0.379908  1.000000  0.000000\n",
      "0.1   0.1  0.589096  0.973222  0.353755\n",
      "0.2   0.2  0.716102  0.916736  0.593181\n",
      "0.3   0.3  0.784454  0.830544  0.756216\n",
      "0.4   0.4  0.807026  0.760669  0.835427\n",
      "0.5   0.5  0.802098  0.648536  0.896180\n",
      "0.6   0.6  0.786997  0.566527  0.922071\n",
      "0.7   0.7  0.775711  0.494979  0.947706\n",
      "0.8   0.8  0.751073  0.395816  0.968726\n",
      "0.9   0.9  0.701637  0.235146  0.987439\n"
     ]
    }
   ],
   "source": [
    "# Now let's calculate accuracy sensitivity and specificity for various probability cutoffs.\n",
    "cutoff_df = pd.DataFrame( columns = ['prob','accuracy','sensi','speci'])\n",
    "from sklearn.metrics import confusion_matrix\n",
    "\n",
    "# TP = confusion[1,1] # true positive \n",
    "# TN = confusion[0,0] # true negatives\n",
    "# FP = confusion[0,1] # false positives\n",
    "# FN = confusion[1,0] # false negatives\n",
    "\n",
    "num = [0.0,0.1,0.2,0.3,0.4,0.5,0.6,0.7,0.8,0.9]\n",
    "for i in num:\n",
    "    cm1 = metrics.confusion_matrix(y_train_pred_final.Converted, y_train_pred_final[i] )\n",
    "    total1=sum(sum(cm1))\n",
    "    accuracy = (cm1[0,0]+cm1[1,1])/total1\n",
    "    \n",
    "    speci = cm1[0,0]/(cm1[0,0]+cm1[0,1])\n",
    "    sensi = cm1[1,1]/(cm1[1,0]+cm1[1,1])\n",
    "    cutoff_df.loc[i] =[ i ,accuracy,sensi,speci]\n",
    "print(cutoff_df)"
   ]
  },
  {
   "cell_type": "code",
   "execution_count": 109,
   "id": "997f4cbd",
   "metadata": {},
   "outputs": [
    {
     "data": {
      "image/png": "[encoded data removed]",
      "text/plain": [
       "<Figure size 432x288 with 1 Axes>"
      ]
     },
     "metadata": {
      "needs_background": "light"
     },
     "output_type": "display_data"
    }
   ],
   "source": [
    "# Let's plot accuracy sensitivity and specificity for various probabilities.\n",
    "cutoff_df.plot.line(x='prob', y=['accuracy','sensi','speci'])\n",
    "plt.show()"
   ]
  },
  {
   "cell_type": "code",
   "execution_count": 110,
   "id": "6f440be9",
   "metadata": {},
   "outputs": [
    {
     "data": {
      "text/html": [
       "<div>\n",
       "<style scoped>\n",
       "    .dataframe tbody tr th:only-of-type {\n",
       "        vertical-align: middle;\n",
       "    }\n",
       "\n",
       "    .dataframe tbody tr th {\n",
       "        vertical-align: top;\n",
       "    }\n",
       "\n",
       "    .dataframe thead th {\n",
       "        text-align: right;\n",
       "    }\n",
       "</style>\n",
       "<table border=\"1\" class=\"dataframe\">\n",
       "  <thead>\n",
       "    <tr style=\"text-align: right;\">\n",
       "      <th></th>\n",
       "      <th>Converted</th>\n",
       "      <th>Converted_prob</th>\n",
       "      <th>Prospect ID</th>\n",
       "      <th>Predicted</th>\n",
       "      <th>0.0</th>\n",
       "      <th>0.1</th>\n",
       "      <th>0.2</th>\n",
       "      <th>0.3</th>\n",
       "      <th>0.4</th>\n",
       "      <th>0.5</th>\n",
       "      <th>0.6</th>\n",
       "      <th>0.7</th>\n",
       "      <th>0.8</th>\n",
       "      <th>0.9</th>\n",
       "      <th>final_Predicted</th>\n",
       "    </tr>\n",
       "  </thead>\n",
       "  <tbody>\n",
       "    <tr>\n",
       "      <th>990</th>\n",
       "      <td>0</td>\n",
       "      <td>0.099731</td>\n",
       "      <td>990</td>\n",
       "      <td>0</td>\n",
       "      <td>1</td>\n",
       "      <td>0</td>\n",
       "      <td>0</td>\n",
       "      <td>0</td>\n",
       "      <td>0</td>\n",
       "      <td>0</td>\n",
       "      <td>0</td>\n",
       "      <td>0</td>\n",
       "      <td>0</td>\n",
       "      <td>0</td>\n",
       "      <td>0</td>\n",
       "    </tr>\n",
       "    <tr>\n",
       "      <th>1482</th>\n",
       "      <td>0</td>\n",
       "      <td>0.191053</td>\n",
       "      <td>1482</td>\n",
       "      <td>0</td>\n",
       "      <td>1</td>\n",
       "      <td>1</td>\n",
       "      <td>0</td>\n",
       "      <td>0</td>\n",
       "      <td>0</td>\n",
       "      <td>0</td>\n",
       "      <td>0</td>\n",
       "      <td>0</td>\n",
       "      <td>0</td>\n",
       "      <td>0</td>\n",
       "      <td>0</td>\n",
       "    </tr>\n",
       "    <tr>\n",
       "      <th>110</th>\n",
       "      <td>1</td>\n",
       "      <td>0.413597</td>\n",
       "      <td>110</td>\n",
       "      <td>0</td>\n",
       "      <td>1</td>\n",
       "      <td>1</td>\n",
       "      <td>1</td>\n",
       "      <td>1</td>\n",
       "      <td>1</td>\n",
       "      <td>0</td>\n",
       "      <td>0</td>\n",
       "      <td>0</td>\n",
       "      <td>0</td>\n",
       "      <td>0</td>\n",
       "      <td>1</td>\n",
       "    </tr>\n",
       "    <tr>\n",
       "      <th>4627</th>\n",
       "      <td>1</td>\n",
       "      <td>0.520002</td>\n",
       "      <td>4627</td>\n",
       "      <td>1</td>\n",
       "      <td>1</td>\n",
       "      <td>1</td>\n",
       "      <td>1</td>\n",
       "      <td>1</td>\n",
       "      <td>1</td>\n",
       "      <td>1</td>\n",
       "      <td>0</td>\n",
       "      <td>0</td>\n",
       "      <td>0</td>\n",
       "      <td>0</td>\n",
       "      <td>1</td>\n",
       "    </tr>\n",
       "    <tr>\n",
       "      <th>5220</th>\n",
       "      <td>1</td>\n",
       "      <td>0.476996</td>\n",
       "      <td>5220</td>\n",
       "      <td>0</td>\n",
       "      <td>1</td>\n",
       "      <td>1</td>\n",
       "      <td>1</td>\n",
       "      <td>1</td>\n",
       "      <td>1</td>\n",
       "      <td>0</td>\n",
       "      <td>0</td>\n",
       "      <td>0</td>\n",
       "      <td>0</td>\n",
       "      <td>0</td>\n",
       "      <td>1</td>\n",
       "    </tr>\n",
       "  </tbody>\n",
       "</table>\n",
       "</div>"
      ],
      "text/plain": [
       "      Converted  Converted_prob  Prospect ID  Predicted  0.0  0.1  0.2  0.3  \\\n",
       "990           0        0.099731          990          0    1    0    0    0   \n",
       "1482          0        0.191053         1482          0    1    1    0    0   \n",
       "110           1        0.413597          110          0    1    1    1    1   \n",
       "4627          1        0.520002         4627          1    1    1    1    1   \n",
       "5220          1        0.476996         5220          0    1    1    1    1   \n",
       "\n",
       "      0.4  0.5  0.6  0.7  0.8  0.9  final_Predicted  \n",
       "990     0    0    0    0    0    0                0  \n",
       "1482    0    0    0    0    0    0                0  \n",
       "110     1    0    0    0    0    0                1  \n",
       "4627    1    1    0    0    0    0                1  \n",
       "5220    1    0    0    0    0    0                1  "
      ]
     },
     "execution_count": 110,
     "metadata": {},
     "output_type": "execute_result"
    }
   ],
   "source": [
    "#### From the curve above, 0.3 is the optimum point to take it as a cutoff probability.\n",
    "\n",
    "y_train_pred_final['final_Predicted'] = y_train_pred_final.Converted_prob.map( lambda x: 1 if x > 0.3 else 0)\n",
    "\n",
    "y_train_pred_final.head()"
   ]
  },
  {
   "cell_type": "code",
   "execution_count": 111,
   "id": "09386b69",
   "metadata": {},
   "outputs": [
    {
     "data": {
      "text/html": [
       "<div>\n",
       "<style scoped>\n",
       "    .dataframe tbody tr th:only-of-type {\n",
       "        vertical-align: middle;\n",
       "    }\n",
       "\n",
       "    .dataframe tbody tr th {\n",
       "        vertical-align: top;\n",
       "    }\n",
       "\n",
       "    .dataframe thead th {\n",
       "        text-align: right;\n",
       "    }\n",
       "</style>\n",
       "<table border=\"1\" class=\"dataframe\">\n",
       "  <thead>\n",
       "    <tr style=\"text-align: right;\">\n",
       "      <th></th>\n",
       "      <th>Converted</th>\n",
       "      <th>Converted_prob</th>\n",
       "      <th>Prospect ID</th>\n",
       "      <th>final_Predicted</th>\n",
       "      <th>Lead_Score</th>\n",
       "    </tr>\n",
       "  </thead>\n",
       "  <tbody>\n",
       "    <tr>\n",
       "      <th>990</th>\n",
       "      <td>0</td>\n",
       "      <td>0.099731</td>\n",
       "      <td>990</td>\n",
       "      <td>0</td>\n",
       "      <td>10</td>\n",
       "    </tr>\n",
       "    <tr>\n",
       "      <th>1482</th>\n",
       "      <td>0</td>\n",
       "      <td>0.191053</td>\n",
       "      <td>1482</td>\n",
       "      <td>0</td>\n",
       "      <td>19</td>\n",
       "    </tr>\n",
       "    <tr>\n",
       "      <th>110</th>\n",
       "      <td>1</td>\n",
       "      <td>0.413597</td>\n",
       "      <td>110</td>\n",
       "      <td>1</td>\n",
       "      <td>41</td>\n",
       "    </tr>\n",
       "    <tr>\n",
       "      <th>4627</th>\n",
       "      <td>1</td>\n",
       "      <td>0.520002</td>\n",
       "      <td>4627</td>\n",
       "      <td>1</td>\n",
       "      <td>52</td>\n",
       "    </tr>\n",
       "    <tr>\n",
       "      <th>5220</th>\n",
       "      <td>1</td>\n",
       "      <td>0.476996</td>\n",
       "      <td>5220</td>\n",
       "      <td>1</td>\n",
       "      <td>48</td>\n",
       "    </tr>\n",
       "  </tbody>\n",
       "</table>\n",
       "</div>"
      ],
      "text/plain": [
       "      Converted  Converted_prob  Prospect ID  final_Predicted  Lead_Score\n",
       "990           0        0.099731          990                0          10\n",
       "1482          0        0.191053         1482                0          19\n",
       "110           1        0.413597          110                1          41\n",
       "4627          1        0.520002         4627                1          52\n",
       "5220          1        0.476996         5220                1          48"
      ]
     },
     "execution_count": 111,
     "metadata": {},
     "output_type": "execute_result"
    }
   ],
   "source": [
    "y_train_pred_final['Lead_Score'] = y_train_pred_final.Converted_prob.map( lambda x: round(x*100))\n",
    "\n",
    "y_train_pred_final[['Converted','Converted_prob','Prospect ID','final_Predicted','Lead_Score']].head()"
   ]
  },
  {
   "cell_type": "code",
   "execution_count": 112,
   "id": "e5afd91f",
   "metadata": {},
   "outputs": [
    {
     "data": {
      "text/plain": [
       "0.7844539818788746"
      ]
     },
     "execution_count": 112,
     "metadata": {},
     "output_type": "execute_result"
    }
   ],
   "source": [
    "metrics.accuracy_score(y_train_pred_final.Converted, y_train_pred_final.final_Predicted)"
   ]
  },
  {
   "cell_type": "code",
   "execution_count": 113,
   "id": "7d8ed3cb",
   "metadata": {},
   "outputs": [
    {
     "data": {
      "text/plain": [
       "array([[2950,  951],\n",
       "       [ 405, 1985]], dtype=int64)"
      ]
     },
     "execution_count": 113,
     "metadata": {},
     "output_type": "execute_result"
    }
   ],
   "source": [
    "confusion2 = metrics.confusion_matrix(y_train_pred_final.Converted, y_train_pred_final.final_Predicted )\n",
    "confusion2"
   ]
  },
  {
   "cell_type": "code",
   "execution_count": 114,
   "id": "a2e869c5",
   "metadata": {},
   "outputs": [],
   "source": [
    "TP = confusion2[1,1] \n",
    "TN = confusion2[0,0] \n",
    "FP = confusion2[0,1] \n",
    "FN = confusion2[1,0]"
   ]
  },
  {
   "cell_type": "code",
   "execution_count": 115,
   "id": "39d7f097",
   "metadata": {},
   "outputs": [
    {
     "data": {
      "text/plain": [
       "0.8305439330543933"
      ]
     },
     "execution_count": 115,
     "metadata": {},
     "output_type": "execute_result"
    }
   ],
   "source": [
    "# Let's see the sensitivity of our logistic regression model\n",
    "TP / float(TP+FN)"
   ]
  },
  {
   "cell_type": "code",
   "execution_count": 116,
   "id": "20eb6230",
   "metadata": {},
   "outputs": [
    {
     "data": {
      "text/plain": [
       "0.7562163547808254"
      ]
     },
     "execution_count": 116,
     "metadata": {},
     "output_type": "execute_result"
    }
   ],
   "source": [
    "# Let us calculate specificity\n",
    "TN / float(TN+FP)"
   ]
  },
  {
   "cell_type": "markdown",
   "id": "dfbb672c",
   "metadata": {},
   "source": [
    "#### Accuracy : 78.44%\n",
    "#### Sensitivity : 83.05%\n",
    "#### Specificity : 75.62%"
   ]
  },
  {
   "cell_type": "code",
   "execution_count": 117,
   "id": "acc7a5f5",
   "metadata": {},
   "outputs": [
    {
     "name": "stdout",
     "output_type": "stream",
     "text": [
      "0.24378364521917456\n",
      "0.6760899182561307\n",
      "0.879284649776453\n"
     ]
    }
   ],
   "source": [
    "print(FP/ float(TN+FP))\n",
    "print (TP / float(TP+FP))\n",
    "print (TN / float(TN+ FN))"
   ]
  },
  {
   "cell_type": "code",
   "execution_count": 118,
   "id": "1688b4a3",
   "metadata": {},
   "outputs": [
    {
     "data": {
      "text/plain": [
       "array([[2950,  951],\n",
       "       [ 405, 1985]], dtype=int64)"
      ]
     },
     "execution_count": 118,
     "metadata": {},
     "output_type": "execute_result"
    }
   ],
   "source": [
    "confusion = metrics.confusion_matrix(y_train_pred_final.Converted, y_train_pred_final.final_Predicted )\n",
    "confusion"
   ]
  },
  {
   "cell_type": "code",
   "execution_count": 119,
   "id": "7dfc85cc",
   "metadata": {},
   "outputs": [
    {
     "data": {
      "text/plain": [
       "0.6760899182561307"
      ]
     },
     "execution_count": 119,
     "metadata": {},
     "output_type": "execute_result"
    }
   ],
   "source": [
    "TP / TP + FP\n",
    "\n",
    "confusion[1,1]/(confusion[0,1]+confusion[1,1])"
   ]
  },
  {
   "cell_type": "code",
   "execution_count": 120,
   "id": "d3f5d507",
   "metadata": {},
   "outputs": [
    {
     "data": {
      "text/plain": [
       "0.8305439330543933"
      ]
     },
     "execution_count": 120,
     "metadata": {},
     "output_type": "execute_result"
    }
   ],
   "source": [
    "TP / TP + FN\n",
    "\n",
    "confusion[1,1]/(confusion[1,0]+confusion[1,1])"
   ]
  },
  {
   "cell_type": "code",
   "execution_count": 121,
   "id": "4fa8c1a0",
   "metadata": {},
   "outputs": [
    {
     "data": {
      "text/plain": [
       "0.6760899182561307"
      ]
     },
     "execution_count": 121,
     "metadata": {},
     "output_type": "execute_result"
    }
   ],
   "source": [
    "precision_score(y_train_pred_final.Converted , y_train_pred_final.final_Predicted)"
   ]
  },
  {
   "cell_type": "code",
   "execution_count": 122,
   "id": "0e5b728c",
   "metadata": {},
   "outputs": [
    {
     "data": {
      "text/plain": [
       "0.8305439330543933"
      ]
     },
     "execution_count": 122,
     "metadata": {},
     "output_type": "execute_result"
    }
   ],
   "source": [
    "recall_score(y_train_pred_final.Converted, y_train_pred_final.final_Predicted)"
   ]
  },
  {
   "cell_type": "code",
   "execution_count": 123,
   "id": "27c8e4e1",
   "metadata": {},
   "outputs": [],
   "source": [
    "y_train_pred_final.Converted, y_train_pred_final.final_Predicted\n",
    "p, r, thresholds = precision_recall_curve(y_train_pred_final.Converted, y_train_pred_final.Converted_prob)"
   ]
  },
  {
   "cell_type": "code",
   "execution_count": 124,
   "id": "63615152",
   "metadata": {},
   "outputs": [
    {
     "data": {
      "image/png": "[encoded data removed]",
      "text/plain": [
       "<Figure size 432x288 with 1 Axes>"
      ]
     },
     "metadata": {
      "needs_background": "light"
     },
     "output_type": "display_data"
    }
   ],
   "source": [
    "plt.plot(thresholds, p[:-1], \"g-\")\n",
    "plt.plot(thresholds, r[:-1], \"r-\")\n",
    "plt.show()"
   ]
  },
  {
   "cell_type": "code",
   "execution_count": 125,
   "id": "0706ee5c",
   "metadata": {},
   "outputs": [
    {
     "data": {
      "text/html": [
       "<div>\n",
       "<style scoped>\n",
       "    .dataframe tbody tr th:only-of-type {\n",
       "        vertical-align: middle;\n",
       "    }\n",
       "\n",
       "    .dataframe tbody tr th {\n",
       "        vertical-align: top;\n",
       "    }\n",
       "\n",
       "    .dataframe thead th {\n",
       "        text-align: right;\n",
       "    }\n",
       "</style>\n",
       "<table border=\"1\" class=\"dataframe\">\n",
       "  <thead>\n",
       "    <tr style=\"text-align: right;\">\n",
       "      <th></th>\n",
       "      <th>TotalVisits</th>\n",
       "      <th>time_on_website</th>\n",
       "      <th>Page Views Per Visit</th>\n",
       "      <th>mastering_interview</th>\n",
       "      <th>Lead Origin_Landing Page Submission</th>\n",
       "      <th>Lead Origin_Lead Add Form</th>\n",
       "      <th>Lead Origin_Lead Import</th>\n",
       "      <th>Lead Source_Google</th>\n",
       "      <th>Lead Source_Olark Chat</th>\n",
       "      <th>Lead Source_Organic Search</th>\n",
       "      <th>...</th>\n",
       "      <th>City_Other Metro Cities</th>\n",
       "      <th>City_Thane &amp; Outskirts</th>\n",
       "      <th>Last Activity_Email Bounced</th>\n",
       "      <th>Last Activity_Email Link Clicked</th>\n",
       "      <th>Last Activity_Email Opened</th>\n",
       "      <th>Last Activity_Form Submitted on Website</th>\n",
       "      <th>Last Activity_Olark Chat Conversation</th>\n",
       "      <th>Last Activity_Others</th>\n",
       "      <th>Last Activity_Page Visited on Website</th>\n",
       "      <th>Last Activity_SMS Sent</th>\n",
       "    </tr>\n",
       "  </thead>\n",
       "  <tbody>\n",
       "    <tr>\n",
       "      <th>7112</th>\n",
       "      <td>0.546531</td>\n",
       "      <td>-0.562124</td>\n",
       "      <td>1.407930</td>\n",
       "      <td>0.0</td>\n",
       "      <td>0</td>\n",
       "      <td>0</td>\n",
       "      <td>0</td>\n",
       "      <td>1</td>\n",
       "      <td>0</td>\n",
       "      <td>0</td>\n",
       "      <td>...</td>\n",
       "      <td>0</td>\n",
       "      <td>0</td>\n",
       "      <td>0</td>\n",
       "      <td>0</td>\n",
       "      <td>1</td>\n",
       "      <td>0</td>\n",
       "      <td>0</td>\n",
       "      <td>0</td>\n",
       "      <td>0</td>\n",
       "      <td>0</td>\n",
       "    </tr>\n",
       "    <tr>\n",
       "      <th>8995</th>\n",
       "      <td>0.863247</td>\n",
       "      <td>1.034138</td>\n",
       "      <td>0.372120</td>\n",
       "      <td>0.0</td>\n",
       "      <td>1</td>\n",
       "      <td>0</td>\n",
       "      <td>0</td>\n",
       "      <td>1</td>\n",
       "      <td>0</td>\n",
       "      <td>0</td>\n",
       "      <td>...</td>\n",
       "      <td>0</td>\n",
       "      <td>0</td>\n",
       "      <td>0</td>\n",
       "      <td>0</td>\n",
       "      <td>0</td>\n",
       "      <td>0</td>\n",
       "      <td>0</td>\n",
       "      <td>0</td>\n",
       "      <td>0</td>\n",
       "      <td>1</td>\n",
       "    </tr>\n",
       "    <tr>\n",
       "      <th>5764</th>\n",
       "      <td>-0.403616</td>\n",
       "      <td>-0.491461</td>\n",
       "      <td>-0.145785</td>\n",
       "      <td>0.0</td>\n",
       "      <td>1</td>\n",
       "      <td>0</td>\n",
       "      <td>0</td>\n",
       "      <td>0</td>\n",
       "      <td>0</td>\n",
       "      <td>0</td>\n",
       "      <td>...</td>\n",
       "      <td>0</td>\n",
       "      <td>0</td>\n",
       "      <td>0</td>\n",
       "      <td>0</td>\n",
       "      <td>1</td>\n",
       "      <td>0</td>\n",
       "      <td>0</td>\n",
       "      <td>0</td>\n",
       "      <td>0</td>\n",
       "      <td>0</td>\n",
       "    </tr>\n",
       "    <tr>\n",
       "      <th>4255</th>\n",
       "      <td>1.179963</td>\n",
       "      <td>-0.618292</td>\n",
       "      <td>0.631073</td>\n",
       "      <td>0.0</td>\n",
       "      <td>1</td>\n",
       "      <td>0</td>\n",
       "      <td>0</td>\n",
       "      <td>1</td>\n",
       "      <td>0</td>\n",
       "      <td>0</td>\n",
       "      <td>...</td>\n",
       "      <td>0</td>\n",
       "      <td>0</td>\n",
       "      <td>0</td>\n",
       "      <td>0</td>\n",
       "      <td>1</td>\n",
       "      <td>0</td>\n",
       "      <td>0</td>\n",
       "      <td>0</td>\n",
       "      <td>0</td>\n",
       "      <td>0</td>\n",
       "    </tr>\n",
       "    <tr>\n",
       "      <th>9225</th>\n",
       "      <td>-0.403616</td>\n",
       "      <td>-0.730628</td>\n",
       "      <td>-0.145785</td>\n",
       "      <td>0.0</td>\n",
       "      <td>1</td>\n",
       "      <td>0</td>\n",
       "      <td>0</td>\n",
       "      <td>0</td>\n",
       "      <td>0</td>\n",
       "      <td>0</td>\n",
       "      <td>...</td>\n",
       "      <td>0</td>\n",
       "      <td>0</td>\n",
       "      <td>1</td>\n",
       "      <td>0</td>\n",
       "      <td>0</td>\n",
       "      <td>0</td>\n",
       "      <td>0</td>\n",
       "      <td>0</td>\n",
       "      <td>0</td>\n",
       "      <td>0</td>\n",
       "    </tr>\n",
       "  </tbody>\n",
       "</table>\n",
       "<p>5 rows × 36 columns</p>\n",
       "</div>"
      ],
      "text/plain": [
       "      TotalVisits  time_on_website  Page Views Per Visit  mastering_interview  \\\n",
       "7112     0.546531        -0.562124              1.407930                  0.0   \n",
       "8995     0.863247         1.034138              0.372120                  0.0   \n",
       "5764    -0.403616        -0.491461             -0.145785                  0.0   \n",
       "4255     1.179963        -0.618292              0.631073                  0.0   \n",
       "9225    -0.403616        -0.730628             -0.145785                  0.0   \n",
       "\n",
       "      Lead Origin_Landing Page Submission  Lead Origin_Lead Add Form  \\\n",
       "7112                                    0                          0   \n",
       "8995                                    1                          0   \n",
       "5764                                    1                          0   \n",
       "4255                                    1                          0   \n",
       "9225                                    1                          0   \n",
       "\n",
       "      Lead Origin_Lead Import  Lead Source_Google  Lead Source_Olark Chat  \\\n",
       "7112                        0                   1                       0   \n",
       "8995                        0                   1                       0   \n",
       "5764                        0                   0                       0   \n",
       "4255                        0                   1                       0   \n",
       "9225                        0                   0                       0   \n",
       "\n",
       "      Lead Source_Organic Search  ...  City_Other Metro Cities  \\\n",
       "7112                           0  ...                        0   \n",
       "8995                           0  ...                        0   \n",
       "5764                           0  ...                        0   \n",
       "4255                           0  ...                        0   \n",
       "9225                           0  ...                        0   \n",
       "\n",
       "      City_Thane & Outskirts  Last Activity_Email Bounced  \\\n",
       "7112                       0                            0   \n",
       "8995                       0                            0   \n",
       "5764                       0                            0   \n",
       "4255                       0                            0   \n",
       "9225                       0                            1   \n",
       "\n",
       "      Last Activity_Email Link Clicked  Last Activity_Email Opened  \\\n",
       "7112                                 0                           1   \n",
       "8995                                 0                           0   \n",
       "5764                                 0                           1   \n",
       "4255                                 0                           1   \n",
       "9225                                 0                           0   \n",
       "\n",
       "      Last Activity_Form Submitted on Website  \\\n",
       "7112                                        0   \n",
       "8995                                        0   \n",
       "5764                                        0   \n",
       "4255                                        0   \n",
       "9225                                        0   \n",
       "\n",
       "      Last Activity_Olark Chat Conversation  Last Activity_Others  \\\n",
       "7112                                      0                     0   \n",
       "8995                                      0                     0   \n",
       "5764                                      0                     0   \n",
       "4255                                      0                     0   \n",
       "9225                                      0                     0   \n",
       "\n",
       "      Last Activity_Page Visited on Website  Last Activity_SMS Sent  \n",
       "7112                                      0                       0  \n",
       "8995                                      0                       1  \n",
       "5764                                      0                       0  \n",
       "4255                                      0                       0  \n",
       "9225                                      0                       0  \n",
       "\n",
       "[5 rows x 36 columns]"
      ]
     },
     "execution_count": 125,
     "metadata": {},
     "output_type": "execute_result"
    }
   ],
   "source": [
    "\n",
    "num_cols=X_test.select_dtypes(include=['float64', 'int64']).columns\n",
    "\n",
    "X_test[num_cols] = scaler.fit_transform(X_test[num_cols])\n",
    "\n",
    "X_test.head()"
   ]
  },
  {
   "cell_type": "code",
   "execution_count": 126,
   "id": "63c17c0e",
   "metadata": {},
   "outputs": [
    {
     "data": {
      "text/html": [
       "<div>\n",
       "<style scoped>\n",
       "    .dataframe tbody tr th:only-of-type {\n",
       "        vertical-align: middle;\n",
       "    }\n",
       "\n",
       "    .dataframe tbody tr th {\n",
       "        vertical-align: top;\n",
       "    }\n",
       "\n",
       "    .dataframe thead th {\n",
       "        text-align: right;\n",
       "    }\n",
       "</style>\n",
       "<table border=\"1\" class=\"dataframe\">\n",
       "  <thead>\n",
       "    <tr style=\"text-align: right;\">\n",
       "      <th></th>\n",
       "      <th>time_on_website</th>\n",
       "      <th>Lead Origin_Lead Add Form</th>\n",
       "      <th>Lead Origin_Lead Import</th>\n",
       "      <th>Lead Source_Olark Chat</th>\n",
       "      <th>Specialization_Not_Specified</th>\n",
       "      <th>Specialization_Travel and Tourism</th>\n",
       "      <th>occupation_Student</th>\n",
       "      <th>occupation_Unemployed</th>\n",
       "      <th>occupation_Working Professional</th>\n",
       "      <th>Last Activity_Email Bounced</th>\n",
       "      <th>Last Activity_Email Link Clicked</th>\n",
       "      <th>Last Activity_Email Opened</th>\n",
       "      <th>Last Activity_Olark Chat Conversation</th>\n",
       "      <th>Last Activity_Others</th>\n",
       "      <th>Last Activity_SMS Sent</th>\n",
       "    </tr>\n",
       "  </thead>\n",
       "  <tbody>\n",
       "    <tr>\n",
       "      <th>7112</th>\n",
       "      <td>-0.562124</td>\n",
       "      <td>0</td>\n",
       "      <td>0</td>\n",
       "      <td>0</td>\n",
       "      <td>0</td>\n",
       "      <td>0</td>\n",
       "      <td>0</td>\n",
       "      <td>1</td>\n",
       "      <td>0</td>\n",
       "      <td>0</td>\n",
       "      <td>0</td>\n",
       "      <td>1</td>\n",
       "      <td>0</td>\n",
       "      <td>0</td>\n",
       "      <td>0</td>\n",
       "    </tr>\n",
       "    <tr>\n",
       "      <th>8995</th>\n",
       "      <td>1.034138</td>\n",
       "      <td>0</td>\n",
       "      <td>0</td>\n",
       "      <td>0</td>\n",
       "      <td>0</td>\n",
       "      <td>0</td>\n",
       "      <td>0</td>\n",
       "      <td>1</td>\n",
       "      <td>0</td>\n",
       "      <td>0</td>\n",
       "      <td>0</td>\n",
       "      <td>0</td>\n",
       "      <td>0</td>\n",
       "      <td>0</td>\n",
       "      <td>1</td>\n",
       "    </tr>\n",
       "    <tr>\n",
       "      <th>5764</th>\n",
       "      <td>-0.491461</td>\n",
       "      <td>0</td>\n",
       "      <td>0</td>\n",
       "      <td>0</td>\n",
       "      <td>0</td>\n",
       "      <td>0</td>\n",
       "      <td>0</td>\n",
       "      <td>1</td>\n",
       "      <td>0</td>\n",
       "      <td>0</td>\n",
       "      <td>0</td>\n",
       "      <td>1</td>\n",
       "      <td>0</td>\n",
       "      <td>0</td>\n",
       "      <td>0</td>\n",
       "    </tr>\n",
       "    <tr>\n",
       "      <th>4255</th>\n",
       "      <td>-0.618292</td>\n",
       "      <td>0</td>\n",
       "      <td>0</td>\n",
       "      <td>0</td>\n",
       "      <td>0</td>\n",
       "      <td>0</td>\n",
       "      <td>0</td>\n",
       "      <td>1</td>\n",
       "      <td>0</td>\n",
       "      <td>0</td>\n",
       "      <td>0</td>\n",
       "      <td>1</td>\n",
       "      <td>0</td>\n",
       "      <td>0</td>\n",
       "      <td>0</td>\n",
       "    </tr>\n",
       "    <tr>\n",
       "      <th>9225</th>\n",
       "      <td>-0.730628</td>\n",
       "      <td>0</td>\n",
       "      <td>0</td>\n",
       "      <td>0</td>\n",
       "      <td>0</td>\n",
       "      <td>0</td>\n",
       "      <td>0</td>\n",
       "      <td>1</td>\n",
       "      <td>0</td>\n",
       "      <td>1</td>\n",
       "      <td>0</td>\n",
       "      <td>0</td>\n",
       "      <td>0</td>\n",
       "      <td>0</td>\n",
       "      <td>0</td>\n",
       "    </tr>\n",
       "  </tbody>\n",
       "</table>\n",
       "</div>"
      ],
      "text/plain": [
       "      time_on_website  Lead Origin_Lead Add Form  Lead Origin_Lead Import  \\\n",
       "7112        -0.562124                          0                        0   \n",
       "8995         1.034138                          0                        0   \n",
       "5764        -0.491461                          0                        0   \n",
       "4255        -0.618292                          0                        0   \n",
       "9225        -0.730628                          0                        0   \n",
       "\n",
       "      Lead Source_Olark Chat  Specialization_Not_Specified   \\\n",
       "7112                       0                              0   \n",
       "8995                       0                              0   \n",
       "5764                       0                              0   \n",
       "4255                       0                              0   \n",
       "9225                       0                              0   \n",
       "\n",
       "      Specialization_Travel and Tourism  occupation_Student  \\\n",
       "7112                                  0                   0   \n",
       "8995                                  0                   0   \n",
       "5764                                  0                   0   \n",
       "4255                                  0                   0   \n",
       "9225                                  0                   0   \n",
       "\n",
       "      occupation_Unemployed  occupation_Working Professional  \\\n",
       "7112                      1                                0   \n",
       "8995                      1                                0   \n",
       "5764                      1                                0   \n",
       "4255                      1                                0   \n",
       "9225                      1                                0   \n",
       "\n",
       "      Last Activity_Email Bounced  Last Activity_Email Link Clicked  \\\n",
       "7112                            0                                 0   \n",
       "8995                            0                                 0   \n",
       "5764                            0                                 0   \n",
       "4255                            0                                 0   \n",
       "9225                            1                                 0   \n",
       "\n",
       "      Last Activity_Email Opened  Last Activity_Olark Chat Conversation  \\\n",
       "7112                           1                                      0   \n",
       "8995                           0                                      0   \n",
       "5764                           1                                      0   \n",
       "4255                           1                                      0   \n",
       "9225                           0                                      0   \n",
       "\n",
       "      Last Activity_Others  Last Activity_SMS Sent  \n",
       "7112                     0                       0  \n",
       "8995                     0                       1  \n",
       "5764                     0                       0  \n",
       "4255                     0                       0  \n",
       "9225                     0                       0  "
      ]
     },
     "execution_count": 126,
     "metadata": {},
     "output_type": "execute_result"
    }
   ],
   "source": [
    "X_test = X_test[clms]\n",
    "X_test.head()"
   ]
  },
  {
   "cell_type": "code",
   "execution_count": 127,
   "id": "33adcfad",
   "metadata": {},
   "outputs": [],
   "source": [
    "X_test_sm = sm.add_constant(X_test)"
   ]
  },
  {
   "cell_type": "code",
   "execution_count": 128,
   "id": "de55692b",
   "metadata": {},
   "outputs": [
    {
     "data": {
      "text/plain": [
       "7112    0.141851\n",
       "8995    0.740610\n",
       "5764    0.151492\n",
       "4255    0.134558\n",
       "9225    0.013489\n",
       "3540    0.235373\n",
       "2736    0.189689\n",
       "6761    0.112572\n",
       "4408    0.263230\n",
       "6395    0.752937\n",
       "dtype: float64"
      ]
     },
     "execution_count": 128,
     "metadata": {},
     "output_type": "execute_result"
    }
   ],
   "source": [
    "y_test_pred = res.predict(X_test_sm)\n",
    "y_test_pred[:10]"
   ]
  },
  {
   "cell_type": "code",
   "execution_count": 129,
   "id": "19123a22",
   "metadata": {},
   "outputs": [],
   "source": [
    "y_pred_1 = pd.DataFrame(y_test_pred)"
   ]
  },
  {
   "cell_type": "code",
   "execution_count": 130,
   "id": "0c7320ef",
   "metadata": {},
   "outputs": [
    {
     "data": {
      "text/html": [
       "<div>\n",
       "<style scoped>\n",
       "    .dataframe tbody tr th:only-of-type {\n",
       "        vertical-align: middle;\n",
       "    }\n",
       "\n",
       "    .dataframe tbody tr th {\n",
       "        vertical-align: top;\n",
       "    }\n",
       "\n",
       "    .dataframe thead th {\n",
       "        text-align: right;\n",
       "    }\n",
       "</style>\n",
       "<table border=\"1\" class=\"dataframe\">\n",
       "  <thead>\n",
       "    <tr style=\"text-align: right;\">\n",
       "      <th></th>\n",
       "      <th>0</th>\n",
       "    </tr>\n",
       "  </thead>\n",
       "  <tbody>\n",
       "    <tr>\n",
       "      <th>7112</th>\n",
       "      <td>0.141851</td>\n",
       "    </tr>\n",
       "    <tr>\n",
       "      <th>8995</th>\n",
       "      <td>0.740610</td>\n",
       "    </tr>\n",
       "    <tr>\n",
       "      <th>5764</th>\n",
       "      <td>0.151492</td>\n",
       "    </tr>\n",
       "    <tr>\n",
       "      <th>4255</th>\n",
       "      <td>0.134558</td>\n",
       "    </tr>\n",
       "    <tr>\n",
       "      <th>9225</th>\n",
       "      <td>0.013489</td>\n",
       "    </tr>\n",
       "  </tbody>\n",
       "</table>\n",
       "</div>"
      ],
      "text/plain": [
       "             0\n",
       "7112  0.141851\n",
       "8995  0.740610\n",
       "5764  0.151492\n",
       "4255  0.134558\n",
       "9225  0.013489"
      ]
     },
     "execution_count": 130,
     "metadata": {},
     "output_type": "execute_result"
    }
   ],
   "source": [
    "y_pred_1.head()"
   ]
  },
  {
   "cell_type": "code",
   "execution_count": 131,
   "id": "95fc7648",
   "metadata": {},
   "outputs": [],
   "source": [
    "y_test_df = pd.DataFrame(y_test)"
   ]
  },
  {
   "cell_type": "code",
   "execution_count": 132,
   "id": "8f5b0213",
   "metadata": {},
   "outputs": [],
   "source": [
    "y_test_df['Prospect ID'] = y_test_df.index"
   ]
  },
  {
   "cell_type": "code",
   "execution_count": 133,
   "id": "dfd3c21f",
   "metadata": {},
   "outputs": [],
   "source": [
    "y_pred_1.reset_index(drop=True, inplace=True)\n",
    "y_test_df.reset_index(drop=True, inplace=True)"
   ]
  },
  {
   "cell_type": "code",
   "execution_count": 134,
   "id": "a6af1b31",
   "metadata": {},
   "outputs": [],
   "source": [
    "y_pred_final = pd.concat([y_test_df, y_pred_1],axis=1)"
   ]
  },
  {
   "cell_type": "code",
   "execution_count": 135,
   "id": "64291e93",
   "metadata": {},
   "outputs": [
    {
     "data": {
      "text/html": [
       "<div>\n",
       "<style scoped>\n",
       "    .dataframe tbody tr th:only-of-type {\n",
       "        vertical-align: middle;\n",
       "    }\n",
       "\n",
       "    .dataframe tbody tr th {\n",
       "        vertical-align: top;\n",
       "    }\n",
       "\n",
       "    .dataframe thead th {\n",
       "        text-align: right;\n",
       "    }\n",
       "</style>\n",
       "<table border=\"1\" class=\"dataframe\">\n",
       "  <thead>\n",
       "    <tr style=\"text-align: right;\">\n",
       "      <th></th>\n",
       "      <th>Converted</th>\n",
       "      <th>Prospect ID</th>\n",
       "      <th>0</th>\n",
       "    </tr>\n",
       "  </thead>\n",
       "  <tbody>\n",
       "    <tr>\n",
       "      <th>0</th>\n",
       "      <td>0</td>\n",
       "      <td>7112</td>\n",
       "      <td>0.141851</td>\n",
       "    </tr>\n",
       "    <tr>\n",
       "      <th>1</th>\n",
       "      <td>1</td>\n",
       "      <td>8995</td>\n",
       "      <td>0.740610</td>\n",
       "    </tr>\n",
       "    <tr>\n",
       "      <th>2</th>\n",
       "      <td>0</td>\n",
       "      <td>5764</td>\n",
       "      <td>0.151492</td>\n",
       "    </tr>\n",
       "    <tr>\n",
       "      <th>3</th>\n",
       "      <td>0</td>\n",
       "      <td>4255</td>\n",
       "      <td>0.134558</td>\n",
       "    </tr>\n",
       "    <tr>\n",
       "      <th>4</th>\n",
       "      <td>0</td>\n",
       "      <td>9225</td>\n",
       "      <td>0.013489</td>\n",
       "    </tr>\n",
       "  </tbody>\n",
       "</table>\n",
       "</div>"
      ],
      "text/plain": [
       "   Converted  Prospect ID         0\n",
       "0          0         7112  0.141851\n",
       "1          1         8995  0.740610\n",
       "2          0         5764  0.151492\n",
       "3          0         4255  0.134558\n",
       "4          0         9225  0.013489"
      ]
     },
     "execution_count": 135,
     "metadata": {},
     "output_type": "execute_result"
    }
   ],
   "source": [
    "y_pred_final.head()"
   ]
  },
  {
   "cell_type": "code",
   "execution_count": 136,
   "id": "6247183b",
   "metadata": {},
   "outputs": [],
   "source": [
    "y_pred_final= y_pred_final.rename(columns={ 0 : 'Converted_prob'})"
   ]
  },
  {
   "cell_type": "code",
   "execution_count": 137,
   "id": "a8a4c61d",
   "metadata": {},
   "outputs": [
    {
     "data": {
      "text/html": [
       "<div>\n",
       "<style scoped>\n",
       "    .dataframe tbody tr th:only-of-type {\n",
       "        vertical-align: middle;\n",
       "    }\n",
       "\n",
       "    .dataframe tbody tr th {\n",
       "        vertical-align: top;\n",
       "    }\n",
       "\n",
       "    .dataframe thead th {\n",
       "        text-align: right;\n",
       "    }\n",
       "</style>\n",
       "<table border=\"1\" class=\"dataframe\">\n",
       "  <thead>\n",
       "    <tr style=\"text-align: right;\">\n",
       "      <th></th>\n",
       "      <th>Converted</th>\n",
       "      <th>Prospect ID</th>\n",
       "      <th>Converted_prob</th>\n",
       "    </tr>\n",
       "  </thead>\n",
       "  <tbody>\n",
       "    <tr>\n",
       "      <th>0</th>\n",
       "      <td>0</td>\n",
       "      <td>7112</td>\n",
       "      <td>0.141851</td>\n",
       "    </tr>\n",
       "    <tr>\n",
       "      <th>1</th>\n",
       "      <td>1</td>\n",
       "      <td>8995</td>\n",
       "      <td>0.740610</td>\n",
       "    </tr>\n",
       "    <tr>\n",
       "      <th>2</th>\n",
       "      <td>0</td>\n",
       "      <td>5764</td>\n",
       "      <td>0.151492</td>\n",
       "    </tr>\n",
       "    <tr>\n",
       "      <th>3</th>\n",
       "      <td>0</td>\n",
       "      <td>4255</td>\n",
       "      <td>0.134558</td>\n",
       "    </tr>\n",
       "    <tr>\n",
       "      <th>4</th>\n",
       "      <td>0</td>\n",
       "      <td>9225</td>\n",
       "      <td>0.013489</td>\n",
       "    </tr>\n",
       "  </tbody>\n",
       "</table>\n",
       "</div>"
      ],
      "text/plain": [
       "   Converted  Prospect ID  Converted_prob\n",
       "0          0         7112        0.141851\n",
       "1          1         8995        0.740610\n",
       "2          0         5764        0.151492\n",
       "3          0         4255        0.134558\n",
       "4          0         9225        0.013489"
      ]
     },
     "execution_count": 137,
     "metadata": {},
     "output_type": "execute_result"
    }
   ],
   "source": [
    "y_pred_final.head()"
   ]
  },
  {
   "cell_type": "code",
   "execution_count": 138,
   "id": "956693e8",
   "metadata": {},
   "outputs": [],
   "source": [
    "y_pred_final = y_pred_final[['Prospect ID','Converted','Converted_prob']]\n",
    "y_pred_final['Lead_Score'] = y_pred_final.Converted_prob.map( lambda x: round(x*100))"
   ]
  },
  {
   "cell_type": "code",
   "execution_count": 139,
   "id": "d27e5b6c",
   "metadata": {},
   "outputs": [
    {
     "data": {
      "text/html": [
       "<div>\n",
       "<style scoped>\n",
       "    .dataframe tbody tr th:only-of-type {\n",
       "        vertical-align: middle;\n",
       "    }\n",
       "\n",
       "    .dataframe tbody tr th {\n",
       "        vertical-align: top;\n",
       "    }\n",
       "\n",
       "    .dataframe thead th {\n",
       "        text-align: right;\n",
       "    }\n",
       "</style>\n",
       "<table border=\"1\" class=\"dataframe\">\n",
       "  <thead>\n",
       "    <tr style=\"text-align: right;\">\n",
       "      <th></th>\n",
       "      <th>Prospect ID</th>\n",
       "      <th>Converted</th>\n",
       "      <th>Converted_prob</th>\n",
       "      <th>Lead_Score</th>\n",
       "    </tr>\n",
       "  </thead>\n",
       "  <tbody>\n",
       "    <tr>\n",
       "      <th>0</th>\n",
       "      <td>7112</td>\n",
       "      <td>0</td>\n",
       "      <td>0.141851</td>\n",
       "      <td>14</td>\n",
       "    </tr>\n",
       "    <tr>\n",
       "      <th>1</th>\n",
       "      <td>8995</td>\n",
       "      <td>1</td>\n",
       "      <td>0.740610</td>\n",
       "      <td>74</td>\n",
       "    </tr>\n",
       "    <tr>\n",
       "      <th>2</th>\n",
       "      <td>5764</td>\n",
       "      <td>0</td>\n",
       "      <td>0.151492</td>\n",
       "      <td>15</td>\n",
       "    </tr>\n",
       "    <tr>\n",
       "      <th>3</th>\n",
       "      <td>4255</td>\n",
       "      <td>0</td>\n",
       "      <td>0.134558</td>\n",
       "      <td>13</td>\n",
       "    </tr>\n",
       "    <tr>\n",
       "      <th>4</th>\n",
       "      <td>9225</td>\n",
       "      <td>0</td>\n",
       "      <td>0.013489</td>\n",
       "      <td>1</td>\n",
       "    </tr>\n",
       "  </tbody>\n",
       "</table>\n",
       "</div>"
      ],
      "text/plain": [
       "   Prospect ID  Converted  Converted_prob  Lead_Score\n",
       "0         7112          0        0.141851          14\n",
       "1         8995          1        0.740610          74\n",
       "2         5764          0        0.151492          15\n",
       "3         4255          0        0.134558          13\n",
       "4         9225          0        0.013489           1"
      ]
     },
     "execution_count": 139,
     "metadata": {},
     "output_type": "execute_result"
    }
   ],
   "source": [
    "y_pred_final.head()"
   ]
  },
  {
   "cell_type": "code",
   "execution_count": 140,
   "id": "71f82517",
   "metadata": {},
   "outputs": [],
   "source": [
    "y_pred_final['final_Predicted'] = y_pred_final.Converted_prob.map(lambda x: 1 if x > 0.3 else 0)"
   ]
  },
  {
   "cell_type": "code",
   "execution_count": 141,
   "id": "8b344620",
   "metadata": {},
   "outputs": [
    {
     "data": {
      "text/html": [
       "<div>\n",
       "<style scoped>\n",
       "    .dataframe tbody tr th:only-of-type {\n",
       "        vertical-align: middle;\n",
       "    }\n",
       "\n",
       "    .dataframe tbody tr th {\n",
       "        vertical-align: top;\n",
       "    }\n",
       "\n",
       "    .dataframe thead th {\n",
       "        text-align: right;\n",
       "    }\n",
       "</style>\n",
       "<table border=\"1\" class=\"dataframe\">\n",
       "  <thead>\n",
       "    <tr style=\"text-align: right;\">\n",
       "      <th></th>\n",
       "      <th>Prospect ID</th>\n",
       "      <th>Converted</th>\n",
       "      <th>Converted_prob</th>\n",
       "      <th>Lead_Score</th>\n",
       "      <th>final_Predicted</th>\n",
       "    </tr>\n",
       "  </thead>\n",
       "  <tbody>\n",
       "    <tr>\n",
       "      <th>0</th>\n",
       "      <td>7112</td>\n",
       "      <td>0</td>\n",
       "      <td>0.141851</td>\n",
       "      <td>14</td>\n",
       "      <td>0</td>\n",
       "    </tr>\n",
       "    <tr>\n",
       "      <th>1</th>\n",
       "      <td>8995</td>\n",
       "      <td>1</td>\n",
       "      <td>0.740610</td>\n",
       "      <td>74</td>\n",
       "      <td>1</td>\n",
       "    </tr>\n",
       "    <tr>\n",
       "      <th>2</th>\n",
       "      <td>5764</td>\n",
       "      <td>0</td>\n",
       "      <td>0.151492</td>\n",
       "      <td>15</td>\n",
       "      <td>0</td>\n",
       "    </tr>\n",
       "    <tr>\n",
       "      <th>3</th>\n",
       "      <td>4255</td>\n",
       "      <td>0</td>\n",
       "      <td>0.134558</td>\n",
       "      <td>13</td>\n",
       "      <td>0</td>\n",
       "    </tr>\n",
       "    <tr>\n",
       "      <th>4</th>\n",
       "      <td>9225</td>\n",
       "      <td>0</td>\n",
       "      <td>0.013489</td>\n",
       "      <td>1</td>\n",
       "      <td>0</td>\n",
       "    </tr>\n",
       "  </tbody>\n",
       "</table>\n",
       "</div>"
      ],
      "text/plain": [
       "   Prospect ID  Converted  Converted_prob  Lead_Score  final_Predicted\n",
       "0         7112          0        0.141851          14                0\n",
       "1         8995          1        0.740610          74                1\n",
       "2         5764          0        0.151492          15                0\n",
       "3         4255          0        0.134558          13                0\n",
       "4         9225          0        0.013489           1                0"
      ]
     },
     "execution_count": 141,
     "metadata": {},
     "output_type": "execute_result"
    }
   ],
   "source": [
    "y_pred_final.head()"
   ]
  },
  {
   "cell_type": "code",
   "execution_count": 142,
   "id": "2f1c5fd6",
   "metadata": {},
   "outputs": [
    {
     "data": {
      "text/plain": [
       "0.7908787541713015"
      ]
     },
     "execution_count": 142,
     "metadata": {},
     "output_type": "execute_result"
    }
   ],
   "source": [
    "metrics.accuracy_score(y_pred_final.Converted, y_pred_final.final_Predicted)"
   ]
  },
  {
   "cell_type": "code",
   "execution_count": 143,
   "id": "4fb55e31",
   "metadata": {},
   "outputs": [
    {
     "data": {
      "text/plain": [
       "array([[1269,  408],\n",
       "       [ 156,  864]], dtype=int64)"
      ]
     },
     "execution_count": 143,
     "metadata": {},
     "output_type": "execute_result"
    }
   ],
   "source": [
    "confusion2 = metrics.confusion_matrix(y_pred_final.Converted, y_pred_final.final_Predicted )\n",
    "confusion2"
   ]
  },
  {
   "cell_type": "code",
   "execution_count": 144,
   "id": "c952e453",
   "metadata": {},
   "outputs": [],
   "source": [
    "TP = confusion2[1,1] \n",
    "TN = confusion2[0,0] \n",
    "FP = confusion2[0,1] \n",
    "FN = confusion2[1,0]"
   ]
  },
  {
   "cell_type": "code",
   "execution_count": 145,
   "id": "1c4cb8f4",
   "metadata": {},
   "outputs": [
    {
     "data": {
      "text/plain": [
       "0.8470588235294118"
      ]
     },
     "execution_count": 145,
     "metadata": {},
     "output_type": "execute_result"
    }
   ],
   "source": [
    "TP / float(TP+FN)"
   ]
  },
  {
   "cell_type": "code",
   "execution_count": 146,
   "id": "9f83bcaf",
   "metadata": {},
   "outputs": [
    {
     "data": {
      "text/plain": [
       "0.7567084078711985"
      ]
     },
     "execution_count": 146,
     "metadata": {},
     "output_type": "execute_result"
    }
   ],
   "source": [
    "TN / float(TN+FP)"
   ]
  },
  {
   "cell_type": "code",
   "execution_count": 147,
   "id": "ba3580fc",
   "metadata": {},
   "outputs": [
    {
     "data": {
      "text/plain": [
       "0.6792452830188679"
      ]
     },
     "execution_count": 147,
     "metadata": {},
     "output_type": "execute_result"
    }
   ],
   "source": [
    "precision_score(y_pred_final.Converted , y_pred_final.final_Predicted)"
   ]
  },
  {
   "cell_type": "code",
   "execution_count": 148,
   "id": "71c9a1b8",
   "metadata": {},
   "outputs": [
    {
     "data": {
      "text/plain": [
       "0.8470588235294118"
      ]
     },
     "execution_count": 148,
     "metadata": {},
     "output_type": "execute_result"
    }
   ],
   "source": [
    "recall_score(y_pred_final.Converted, y_pred_final.final_Predicted)"
   ]
  },
  {
   "cell_type": "markdown",
   "id": "a0b8b128",
   "metadata": {},
   "source": [
    "#### After running the model on the Test Data:\n",
    "\n",
    "#### Accuracy : 79.08%\n",
    "#### Sensitivity : 84.70%\n",
    "#### Specificity : 75.76%"
   ]
  },
  {
   "cell_type": "code",
   "execution_count": null,
   "id": "7d00bc80",
   "metadata": {},
   "outputs": [],
   "source": []
  }
 ],
 "metadata": {
  "kernelspec": {
   "display_name": "Python 3 (ipykernel)",
   "language": "python",
   "name": "python3"
  },
  "language_info": {
   "codemirror_mode": {
    "name": "ipython",
    "version": 3
   },
   "file_extension": ".py",
   "mimetype": "text/x-python",
   "name": "python",
   "nbconvert_exporter": "python",
   "pygments_lexer": "ipython3",
   "version": "3.9.12"
  }
 },
 "nbformat": 4,
 "nbformat_minor": 5
}
